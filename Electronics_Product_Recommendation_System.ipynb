{
 "cells": [
  {
   "cell_type": "markdown",
   "metadata": {},
   "source": [
    "<b><u>Domain</u></b> - E-commerce<p>\n",
    "<b><u>Context</u></b> - Everyday a million products are being recommended to users based on\n",
    "popularity and other metrics on e-commerce websites. The most popular e-commerce\n",
    "website boosts average order value by 50%, increases revenues by 300%, and\n",
    "improves conversion. In addition to being a powerful tool for increasing revenues,\n",
    "product recommendations are so essential that customers now expect to see similar\n",
    "features on all other eCommerce sites.<p>\n",
    "<b><u>Data Description</u></b> -<br>\n",
    "Data columns- First three columns are userId, productId, and ratings and the fourth\n",
    "column is timestamp. You can discard the timestamp column as in this case you may\n",
    "not need to use it.<p>\n",
    "<b><u>Source</u></b> - Amazon Reviews data (http://jmcauley.ucsd.edu/data/amazon/) The\n",
    "repository has several datasets. For this case study, we are using the Electronics\n",
    "dataset.<p>\n",
    "<b><u>Objective</u></b> - To make a recommendation system that recommends at least five(5)\n",
    "new products based on the user's habits.\n",
    "    "
   ]
  },
  {
   "cell_type": "markdown",
   "metadata": {
    "id": "txgOyE-Rwu5D"
   },
   "source": [
    "### Importing Libraries"
   ]
  },
  {
   "cell_type": "code",
   "execution_count": null,
   "metadata": {
    "id": "TOLuleMewu5M"
   },
   "outputs": [],
   "source": [
    "#!pip install \"dask[complete]\""
   ]
  },
  {
   "cell_type": "code",
   "execution_count": 2,
   "metadata": {
    "id": "VkFS97Obwu5N"
   },
   "outputs": [],
   "source": [
    "#!pip install scikit-surprise"
   ]
  },
  {
   "cell_type": "code",
   "execution_count": 1,
   "metadata": {
    "id": "N5EDp81_wu5N"
   },
   "outputs": [],
   "source": [
    "import warnings\n",
    "warnings.filterwarnings(\"ignore\")\n",
    "import pandas as pd\n",
    "import dask.dataframe as dd\n",
    "import scipy.stats as stats\n",
    "import numpy as np\n",
    "from pandas.api.types import is_numeric_dtype\n",
    "import seaborn as sns\n",
    "from matplotlib import pyplot as plt\n",
    "sns.set(color_codes=True)\n",
    "from surprise import KNNWithMeans\n",
    "from surprise import Dataset, SVD ,Reader\n",
    "from surprise import accuracy\n",
    "from surprise.model_selection import train_test_split\n",
    "from sklearn import preprocessing\n",
    "from sklearn.metrics import confusion_matrix, classification_report, precision_recall_fscore_support\n",
    "from sklearn.decomposition import PCA\n",
    "from statsmodels.stats.outliers_influence import variance_inflation_factor\n",
    "import statsmodels.api as sm\n",
    "from sklearn.model_selection import RandomizedSearchCV\n",
    "from sklearn.pipeline import Pipeline\n",
    "%matplotlib inline"
   ]
  },
  {
   "cell_type": "markdown",
   "metadata": {
    "id": "qbIM1tLnwu5P"
   },
   "source": [
    "### Functions for EDA"
   ]
  },
  {
   "cell_type": "code",
   "execution_count": 4,
   "metadata": {
    "id": "ZQNbgGALwu5Q"
   },
   "outputs": [],
   "source": [
    "def Distribution_Continous_Variables(series,color,title):\n",
    "    plt.figure(figsize=(10, 10))\n",
    "    sns.distplot(series, color = color).set_title(title)\n",
    "    \n",
    "\n",
    "        \n",
    "def CountPlot(**kwargs):\n",
    "    plt.figure(figsize=(10, 10))\n",
    "    sns.countplot(y=kwargs['y'], \\\n",
    "                    hue=kwargs['hue'], \\\n",
    "                    data=kwargs['data']).set_title(kwargs['title'])\n"
   ]
  },
  {
   "cell_type": "markdown",
   "metadata": {
    "id": "WdDuNcRpwu5Q"
   },
   "source": [
    "### Importing the data"
   ]
  },
  {
   "cell_type": "markdown",
   "metadata": {
    "id": "OZMcdEnKwu5R"
   },
   "source": [
    "#### Since the datset is big we would use dask dataframes instead of pandas dataframe since the former is capable to perform faster groupby or other such functions"
   ]
  },
  {
   "cell_type": "code",
   "execution_count": 5,
   "metadata": {
    "id": "KnKNjQjIxtvw"
   },
   "outputs": [],
   "source": [
    "path = r'/content/drive/MyDrive/GL_Assignment_RecommenderSystem/ratings_Electronics.csv'"
   ]
  },
  {
   "cell_type": "code",
   "execution_count": 6,
   "metadata": {
    "id": "hPOPvk7twu5R"
   },
   "outputs": [],
   "source": [
    "#df = dd.read_csv(\"ratings_Electronics.csv\",names=['userId','productId','ratings','timestamp'])\n",
    "df = pd.read_csv(path,names=['userId','productId','ratings','timestamp'])\n",
    "dask_df = dd.from_pandas(df,npartitions=10)"
   ]
  },
  {
   "cell_type": "markdown",
   "metadata": {
    "id": "LL_8t19-wu5S"
   },
   "source": [
    "### Exploratory Data Analysis"
   ]
  },
  {
   "cell_type": "code",
   "execution_count": 7,
   "metadata": {
    "colab": {
     "base_uri": "https://localhost:8080/"
    },
    "id": "To3HHcq6wu5S",
    "outputId": "50b0d1e5-651b-4b2e-829b-11c333598041"
   },
   "outputs": [
    {
     "name": "stdout",
     "output_type": "stream",
     "text": [
      "<class 'pandas.core.frame.DataFrame'>\n",
      "RangeIndex: 7824482 entries, 0 to 7824481\n",
      "Data columns (total 4 columns):\n",
      " #   Column     Dtype  \n",
      "---  ------     -----  \n",
      " 0   userId     object \n",
      " 1   productId  object \n",
      " 2   ratings    float64\n",
      " 3   timestamp  int64  \n",
      "dtypes: float64(1), int64(1), object(2)\n",
      "memory usage: 238.8+ MB\n"
     ]
    }
   ],
   "source": [
    "df.info(verbose=True)"
   ]
  },
  {
   "cell_type": "code",
   "execution_count": 8,
   "metadata": {
    "colab": {
     "base_uri": "https://localhost:8080/",
     "height": 204
    },
    "id": "rESkN73Uwu5T",
    "outputId": "7c39424a-6ff8-42e1-8547-5a892d611e09"
   },
   "outputs": [
    {
     "data": {
      "text/html": [
       "<div>\n",
       "<style scoped>\n",
       "    .dataframe tbody tr th:only-of-type {\n",
       "        vertical-align: middle;\n",
       "    }\n",
       "\n",
       "    .dataframe tbody tr th {\n",
       "        vertical-align: top;\n",
       "    }\n",
       "\n",
       "    .dataframe thead th {\n",
       "        text-align: right;\n",
       "    }\n",
       "</style>\n",
       "<table border=\"1\" class=\"dataframe\">\n",
       "  <thead>\n",
       "    <tr style=\"text-align: right;\">\n",
       "      <th></th>\n",
       "      <th>userId</th>\n",
       "      <th>productId</th>\n",
       "      <th>ratings</th>\n",
       "      <th>timestamp</th>\n",
       "    </tr>\n",
       "  </thead>\n",
       "  <tbody>\n",
       "    <tr>\n",
       "      <th>0</th>\n",
       "      <td>AKM1MP6P0OYPR</td>\n",
       "      <td>0132793040</td>\n",
       "      <td>5.0</td>\n",
       "      <td>1365811200</td>\n",
       "    </tr>\n",
       "    <tr>\n",
       "      <th>1</th>\n",
       "      <td>A2CX7LUOHB2NDG</td>\n",
       "      <td>0321732944</td>\n",
       "      <td>5.0</td>\n",
       "      <td>1341100800</td>\n",
       "    </tr>\n",
       "    <tr>\n",
       "      <th>2</th>\n",
       "      <td>A2NWSAGRHCP8N5</td>\n",
       "      <td>0439886341</td>\n",
       "      <td>1.0</td>\n",
       "      <td>1367193600</td>\n",
       "    </tr>\n",
       "    <tr>\n",
       "      <th>3</th>\n",
       "      <td>A2WNBOD3WNDNKT</td>\n",
       "      <td>0439886341</td>\n",
       "      <td>3.0</td>\n",
       "      <td>1374451200</td>\n",
       "    </tr>\n",
       "    <tr>\n",
       "      <th>4</th>\n",
       "      <td>A1GI0U4ZRJA8WN</td>\n",
       "      <td>0439886341</td>\n",
       "      <td>1.0</td>\n",
       "      <td>1334707200</td>\n",
       "    </tr>\n",
       "  </tbody>\n",
       "</table>\n",
       "</div>"
      ],
      "text/plain": [
       "           userId   productId  ratings   timestamp\n",
       "0   AKM1MP6P0OYPR  0132793040      5.0  1365811200\n",
       "1  A2CX7LUOHB2NDG  0321732944      5.0  1341100800\n",
       "2  A2NWSAGRHCP8N5  0439886341      1.0  1367193600\n",
       "3  A2WNBOD3WNDNKT  0439886341      3.0  1374451200\n",
       "4  A1GI0U4ZRJA8WN  0439886341      1.0  1334707200"
      ]
     },
     "execution_count": 8,
     "metadata": {
      "tags": []
     },
     "output_type": "execute_result"
    }
   ],
   "source": [
    "df.head()"
   ]
  },
  {
   "cell_type": "code",
   "execution_count": 9,
   "metadata": {
    "colab": {
     "base_uri": "https://localhost:8080/"
    },
    "id": "AZd1emM7wu5T",
    "outputId": "d9c221e2-386e-498a-b253-fd49be1a8310"
   },
   "outputs": [
    {
     "data": {
      "text/plain": [
       "(7824482, 4)"
      ]
     },
     "execution_count": 9,
     "metadata": {
      "tags": []
     },
     "output_type": "execute_result"
    }
   ],
   "source": [
    "df.shape"
   ]
  },
  {
   "cell_type": "markdown",
   "metadata": {
    "id": "64dz9d5ywu5U"
   },
   "source": [
    "#### Total number of rows we have is 7824482"
   ]
  },
  {
   "cell_type": "code",
   "execution_count": 10,
   "metadata": {
    "colab": {
     "base_uri": "https://localhost:8080/",
     "height": 111
    },
    "id": "22FU2HlIwu5U",
    "outputId": "eacb1fd4-85d5-449d-fa6d-fe3ed8cc4c06"
   },
   "outputs": [
    {
     "data": {
      "text/html": [
       "<div>\n",
       "<style scoped>\n",
       "    .dataframe tbody tr th:only-of-type {\n",
       "        vertical-align: middle;\n",
       "    }\n",
       "\n",
       "    .dataframe tbody tr th {\n",
       "        vertical-align: top;\n",
       "    }\n",
       "\n",
       "    .dataframe thead th {\n",
       "        text-align: right;\n",
       "    }\n",
       "</style>\n",
       "<table border=\"1\" class=\"dataframe\">\n",
       "  <thead>\n",
       "    <tr style=\"text-align: right;\">\n",
       "      <th></th>\n",
       "      <th>count</th>\n",
       "      <th>mean</th>\n",
       "      <th>std</th>\n",
       "      <th>min</th>\n",
       "      <th>25%</th>\n",
       "      <th>50%</th>\n",
       "      <th>75%</th>\n",
       "      <th>max</th>\n",
       "    </tr>\n",
       "  </thead>\n",
       "  <tbody>\n",
       "    <tr>\n",
       "      <th>ratings</th>\n",
       "      <td>7824482.0</td>\n",
       "      <td>4.012337e+00</td>\n",
       "      <td>1.380910e+00</td>\n",
       "      <td>1.0</td>\n",
       "      <td>3.000000e+00</td>\n",
       "      <td>5.000000e+00</td>\n",
       "      <td>5.000000e+00</td>\n",
       "      <td>5.000000e+00</td>\n",
       "    </tr>\n",
       "    <tr>\n",
       "      <th>timestamp</th>\n",
       "      <td>7824482.0</td>\n",
       "      <td>1.338178e+09</td>\n",
       "      <td>6.900426e+07</td>\n",
       "      <td>912729600.0</td>\n",
       "      <td>1.315354e+09</td>\n",
       "      <td>1.361059e+09</td>\n",
       "      <td>1.386115e+09</td>\n",
       "      <td>1.406074e+09</td>\n",
       "    </tr>\n",
       "  </tbody>\n",
       "</table>\n",
       "</div>"
      ],
      "text/plain": [
       "               count          mean  ...           75%           max\n",
       "ratings    7824482.0  4.012337e+00  ...  5.000000e+00  5.000000e+00\n",
       "timestamp  7824482.0  1.338178e+09  ...  1.386115e+09  1.406074e+09\n",
       "\n",
       "[2 rows x 8 columns]"
      ]
     },
     "execution_count": 10,
     "metadata": {
      "tags": []
     },
     "output_type": "execute_result"
    }
   ],
   "source": [
    "df.describe().T"
   ]
  },
  {
   "cell_type": "markdown",
   "metadata": {
    "id": "E-JOxHkKwu5V"
   },
   "source": [
    "### Checking for null values"
   ]
  },
  {
   "cell_type": "code",
   "execution_count": 11,
   "metadata": {
    "colab": {
     "base_uri": "https://localhost:8080/"
    },
    "id": "5TuRMLpawu5V",
    "outputId": "e816b4f6-d596-4f8e-c3f8-dc9aba2e4c98"
   },
   "outputs": [
    {
     "data": {
      "text/plain": [
       "False"
      ]
     },
     "execution_count": 11,
     "metadata": {
      "tags": []
     },
     "output_type": "execute_result"
    }
   ],
   "source": [
    "df.isnull().values.any()"
   ]
  },
  {
   "cell_type": "code",
   "execution_count": 12,
   "metadata": {
    "colab": {
     "base_uri": "https://localhost:8080/"
    },
    "id": "XCtWhpqbwu5V",
    "outputId": "86165d12-3bfa-4fcf-b532-fe7727e485c9"
   },
   "outputs": [
    {
     "data": {
      "text/plain": [
       "userId       0\n",
       "productId    0\n",
       "ratings      0\n",
       "timestamp    0\n",
       "dtype: int64"
      ]
     },
     "execution_count": 12,
     "metadata": {
      "tags": []
     },
     "output_type": "execute_result"
    }
   ],
   "source": [
    "df.isnull().sum()"
   ]
  },
  {
   "cell_type": "markdown",
   "metadata": {
    "id": "2gHcOuqPwu5W"
   },
   "source": [
    "#### We do not have any null values in our dataset"
   ]
  },
  {
   "cell_type": "markdown",
   "metadata": {
    "id": "WF1SPSwZwu5W"
   },
   "source": [
    "### Total number of users "
   ]
  },
  {
   "cell_type": "code",
   "execution_count": 13,
   "metadata": {
    "colab": {
     "base_uri": "https://localhost:8080/"
    },
    "id": "aPzCipTkwu5W",
    "outputId": "de2225b6-330d-4072-8357-ebef0fda7620"
   },
   "outputs": [
    {
     "data": {
      "text/plain": [
       "4201696"
      ]
     },
     "execution_count": 13,
     "metadata": {
      "tags": []
     },
     "output_type": "execute_result"
    }
   ],
   "source": [
    "df['userId'].nunique()"
   ]
  },
  {
   "cell_type": "code",
   "execution_count": 14,
   "metadata": {
    "colab": {
     "base_uri": "https://localhost:8080/"
    },
    "id": "Pz7GZBWtwu5X",
    "outputId": "0ebd4d4a-f951-4476-c510-cc7bc469702f"
   },
   "outputs": [
    {
     "data": {
      "text/plain": [
       "A5JLAU2ARJ0BO     520\n",
       "ADLVFFE4VBT8      501\n",
       "A3OXHLG6DIBRW8    498\n",
       "A6FIAB28IS79      431\n",
       "A680RUE1FDO8B     406\n",
       "                 ... \n",
       "A1WH2Z5O9BU6VP      1\n",
       "A3J1WIQYAH8ZD0      1\n",
       "A1LUFW9ZU9VQUJ      1\n",
       "A245AQWLV1HODC      1\n",
       "A13RE01422J8ZF      1\n",
       "Name: userId, Length: 4201696, dtype: int64"
      ]
     },
     "execution_count": 14,
     "metadata": {
      "tags": []
     },
     "output_type": "execute_result"
    }
   ],
   "source": [
    "df['userId'].value_counts()"
   ]
  },
  {
   "cell_type": "markdown",
   "metadata": {
    "id": "82SGlOC8wu5X"
   },
   "source": [
    "#### Let us only take the users who have given 50 or more ratings so that we can make less sparser"
   ]
  },
  {
   "cell_type": "code",
   "execution_count": 2,
   "metadata": {
    "id": "yFhrvjmKwu5X"
   },
   "outputs": [
    {
     "data": {
      "text/html": [
       "<table style=\"border: 2px solid white;\">\n",
       "<tr>\n",
       "<td style=\"vertical-align: top; border: 0px solid white\">\n",
       "<h3>Client</h3>\n",
       "<ul>\n",
       "  <li><b>Scheduler: </b>inproc://192.168.1.3/23064/1\n",
       "  <li><b>Dashboard: </b><a href='http://localhost:8787/status' target='_blank'>http://localhost:8787/status</a>\n",
       "</ul>\n",
       "</td>\n",
       "<td style=\"vertical-align: top; border: 0px solid white\">\n",
       "<h3>Cluster</h3>\n",
       "<ul>\n",
       "  <li><b>Workers: </b>1</li>\n",
       "  <li><b>Cores: </b>4</li>\n",
       "  <li><b>Memory: </b>4.00 GB</li>\n",
       "</ul>\n",
       "</td>\n",
       "</tr>\n",
       "</table>"
      ],
      "text/plain": [
       "<Client: scheduler='inproc://192.168.1.3/23064/1' processes=1 cores=4>"
      ]
     },
     "execution_count": 2,
     "metadata": {},
     "output_type": "execute_result"
    }
   ],
   "source": [
    "#------Dask documentation : https://examples.dask.org/------#\n",
    "from dask.distributed import Client\n",
    "client = Client(n_workers = 1, threads_per_worker=4, processes = False, memory_limit='4GB')\n",
    "client"
   ]
  },
  {
   "cell_type": "markdown",
   "metadata": {
    "id": "n4zpb0Rewu5Y"
   },
   "source": [
    "#### The above dashboard shows the realtime status of the resources our dask functions are utilising"
   ]
  },
  {
   "cell_type": "code",
   "execution_count": 15,
   "metadata": {
    "colab": {
     "base_uri": "https://localhost:8080/"
    },
    "id": "WkYNm9orwu5Y",
    "outputId": "9be2f594-6d07-4d53-906f-9fa9fe075040",
    "scrolled": true
   },
   "outputs": [
    {
     "name": "stdout",
     "output_type": "stream",
     "text": [
      "CPU times: user 34.8 s, sys: 310 ms, total: 35.1 s\n",
      "Wall time: 29.3 s\n"
     ]
    }
   ],
   "source": [
    "%time df1 = dask_df.groupby('userId')['userId'].count().compute().reset_index(name='count')"
   ]
  },
  {
   "cell_type": "code",
   "execution_count": 16,
   "metadata": {
    "id": "pL3RH7nDwu5Y"
   },
   "outputs": [],
   "source": [
    "df_r = df.loc[df['userId'].isin(df1[df1['count'] >= 50]['userId'].tolist())]\n",
    "dask_df_r = dd.from_pandas(df_r, npartitions = 10) #-----dask dataframe----#"
   ]
  },
  {
   "cell_type": "code",
   "execution_count": 17,
   "metadata": {
    "colab": {
     "base_uri": "https://localhost:8080/"
    },
    "id": "JOIid2EPwu5Z",
    "outputId": "2ab35dfd-bd11-4743-a573-57013d0603b1"
   },
   "outputs": [
    {
     "name": "stdout",
     "output_type": "stream",
     "text": [
      "<class 'pandas.core.frame.DataFrame'>\n",
      "Int64Index: 125871 entries, 94 to 7824444\n",
      "Data columns (total 4 columns):\n",
      " #   Column     Non-Null Count   Dtype  \n",
      "---  ------     --------------   -----  \n",
      " 0   userId     125871 non-null  object \n",
      " 1   productId  125871 non-null  object \n",
      " 2   ratings    125871 non-null  float64\n",
      " 3   timestamp  125871 non-null  int64  \n",
      "dtypes: float64(1), int64(1), object(2)\n",
      "memory usage: 4.8+ MB\n"
     ]
    }
   ],
   "source": [
    "df_r.info(verbose=True)"
   ]
  },
  {
   "cell_type": "code",
   "execution_count": 18,
   "metadata": {
    "colab": {
     "base_uri": "https://localhost:8080/"
    },
    "id": "846ssRc5wu5Z",
    "outputId": "941cdc4c-c23b-431c-bdb4-a42007f666eb"
   },
   "outputs": [
    {
     "data": {
      "text/plain": [
       "(125871, 4)"
      ]
     },
     "execution_count": 18,
     "metadata": {
      "tags": []
     },
     "output_type": "execute_result"
    }
   ],
   "source": [
    "df_r.shape"
   ]
  },
  {
   "cell_type": "markdown",
   "metadata": {
    "id": "yKbe2OCKwu5Z"
   },
   "source": [
    "### Let us convert the ratings into object data type"
   ]
  },
  {
   "cell_type": "code",
   "execution_count": 19,
   "metadata": {
    "id": "L5B65OdAwu5a"
   },
   "outputs": [],
   "source": [
    "df_r['ratings'] = df_r['ratings'].astype('object')"
   ]
  },
  {
   "cell_type": "code",
   "execution_count": 20,
   "metadata": {
    "colab": {
     "base_uri": "https://localhost:8080/"
    },
    "id": "TRf9nX93wu5a",
    "outputId": "889e5a92-3c1a-41e0-a1c4-865c8677ea81"
   },
   "outputs": [
    {
     "name": "stdout",
     "output_type": "stream",
     "text": [
      "<class 'pandas.core.frame.DataFrame'>\n",
      "Int64Index: 125871 entries, 94 to 7824444\n",
      "Data columns (total 4 columns):\n",
      " #   Column     Non-Null Count   Dtype \n",
      "---  ------     --------------   ----- \n",
      " 0   userId     125871 non-null  object\n",
      " 1   productId  125871 non-null  object\n",
      " 2   ratings    125871 non-null  object\n",
      " 3   timestamp  125871 non-null  int64 \n",
      "dtypes: int64(1), object(3)\n",
      "memory usage: 4.8+ MB\n"
     ]
    }
   ],
   "source": [
    "df_r.info(verbose=True)"
   ]
  },
  {
   "cell_type": "markdown",
   "metadata": {
    "id": "_I4NdA81wu5a"
   },
   "source": [
    "### Univariate analysis"
   ]
  },
  {
   "cell_type": "markdown",
   "metadata": {
    "id": "rJuN7ZpWwu5a"
   },
   "source": [
    "#### Count Plot of ratings"
   ]
  },
  {
   "cell_type": "code",
   "execution_count": 21,
   "metadata": {
    "colab": {
     "base_uri": "https://localhost:8080/",
     "height": 627
    },
    "id": "Q3C9QacHwu5b",
    "outputId": "f42b13f2-0181-4b04-aea9-22e5c9c8b74d"
   },
   "outputs": [
    {
     "data": {
      "image/png": "[encoded data removed]",
      "text/plain": [
       "<Figure size 720x720 with 1 Axes>"
      ]
     },
     "metadata": {
      "needs_background": "light",
      "tags": []
     },
     "output_type": "display_data"
    }
   ],
   "source": [
    "CountPlot(y = 'ratings', hue = 'ratings', data = df_r , title = 'Countplot depicting count of ratings' )"
   ]
  },
  {
   "cell_type": "code",
   "execution_count": 22,
   "metadata": {
    "colab": {
     "base_uri": "https://localhost:8080/"
    },
    "id": "SM0qSHXSwu5b",
    "outputId": "db494426-cf75-4b80-c020-cd82e5132585"
   },
   "outputs": [
    {
     "data": {
      "text/plain": [
       "5.0    71034\n",
       "4.0    32295\n",
       "3.0    12060\n",
       "2.0     5367\n",
       "1.0     5115\n",
       "Name: ratings, dtype: int64"
      ]
     },
     "execution_count": 22,
     "metadata": {
      "tags": []
     },
     "output_type": "execute_result"
    }
   ],
   "source": [
    "df_r['ratings'].value_counts()"
   ]
  },
  {
   "cell_type": "markdown",
   "metadata": {
    "id": "aeQ3Az_kwu5b"
   },
   "source": [
    "#### Distribution of ratings"
   ]
  },
  {
   "cell_type": "code",
   "execution_count": 23,
   "metadata": {
    "colab": {
     "base_uri": "https://localhost:8080/",
     "height": 627
    },
    "id": "EFzDatJcwu5b",
    "outputId": "502656b8-42a0-4873-a45e-deb494280760"
   },
   "outputs": [
    {
     "data": {
      "image/png": "[encoded data removed]",
      "text/plain": [
       "<Figure size 720x720 with 1 Axes>"
      ]
     },
     "metadata": {
      "needs_background": "light",
      "tags": []
     },
     "output_type": "display_data"
    }
   ],
   "source": [
    "Distribution_Continous_Variables(df_r['ratings'],'blue','Ratings Dsitribution')"
   ]
  },
  {
   "cell_type": "markdown",
   "metadata": {
    "id": "fR2u-aOkwu5c"
   },
   "source": [
    "#### Average rating by product"
   ]
  },
  {
   "cell_type": "code",
   "execution_count": 24,
   "metadata": {
    "id": "iUTl7VCSwu5c"
   },
   "outputs": [],
   "source": [
    "data = df_r.groupby(['productId','ratings']).count().reset_index()\n",
    "data['ratings'] = data['ratings'].astype('float64')\n",
    "data = data.groupby(['productId'])['ratings'].agg(['min','max','count','mean','median']).reset_index().sort_values(by=['median'],ascending=True)"
   ]
  },
  {
   "cell_type": "code",
   "execution_count": 25,
   "metadata": {
    "colab": {
     "base_uri": "https://localhost:8080/",
     "height": 204
    },
    "id": "Z7RygL-Vwu5c",
    "outputId": "a7aa97b1-f0c6-4fe2-a9d3-72d8cc78ad71"
   },
   "outputs": [
    {
     "data": {
      "text/html": [
       "<div>\n",
       "<style scoped>\n",
       "    .dataframe tbody tr th:only-of-type {\n",
       "        vertical-align: middle;\n",
       "    }\n",
       "\n",
       "    .dataframe tbody tr th {\n",
       "        vertical-align: top;\n",
       "    }\n",
       "\n",
       "    .dataframe thead th {\n",
       "        text-align: right;\n",
       "    }\n",
       "</style>\n",
       "<table border=\"1\" class=\"dataframe\">\n",
       "  <thead>\n",
       "    <tr style=\"text-align: right;\">\n",
       "      <th></th>\n",
       "      <th>productId</th>\n",
       "      <th>min</th>\n",
       "      <th>max</th>\n",
       "      <th>count</th>\n",
       "      <th>mean</th>\n",
       "      <th>median</th>\n",
       "    </tr>\n",
       "  </thead>\n",
       "  <tbody>\n",
       "    <tr>\n",
       "      <th>21964</th>\n",
       "      <td>B002R0DWNS</td>\n",
       "      <td>5.0</td>\n",
       "      <td>5.0</td>\n",
       "      <td>1</td>\n",
       "      <td>5.0</td>\n",
       "      <td>5.0</td>\n",
       "    </tr>\n",
       "    <tr>\n",
       "      <th>21960</th>\n",
       "      <td>B002QXZPFE</td>\n",
       "      <td>5.0</td>\n",
       "      <td>5.0</td>\n",
       "      <td>1</td>\n",
       "      <td>5.0</td>\n",
       "      <td>5.0</td>\n",
       "    </tr>\n",
       "    <tr>\n",
       "      <th>21958</th>\n",
       "      <td>B002QWNZHU</td>\n",
       "      <td>5.0</td>\n",
       "      <td>5.0</td>\n",
       "      <td>1</td>\n",
       "      <td>5.0</td>\n",
       "      <td>5.0</td>\n",
       "    </tr>\n",
       "    <tr>\n",
       "      <th>21954</th>\n",
       "      <td>B002QUZM3M</td>\n",
       "      <td>5.0</td>\n",
       "      <td>5.0</td>\n",
       "      <td>1</td>\n",
       "      <td>5.0</td>\n",
       "      <td>5.0</td>\n",
       "    </tr>\n",
       "    <tr>\n",
       "      <th>48189</th>\n",
       "      <td>B00LKG1MC8</td>\n",
       "      <td>5.0</td>\n",
       "      <td>5.0</td>\n",
       "      <td>1</td>\n",
       "      <td>5.0</td>\n",
       "      <td>5.0</td>\n",
       "    </tr>\n",
       "  </tbody>\n",
       "</table>\n",
       "</div>"
      ],
      "text/plain": [
       "        productId  min  max  count  mean  median\n",
       "21964  B002R0DWNS  5.0  5.0      1   5.0     5.0\n",
       "21960  B002QXZPFE  5.0  5.0      1   5.0     5.0\n",
       "21958  B002QWNZHU  5.0  5.0      1   5.0     5.0\n",
       "21954  B002QUZM3M  5.0  5.0      1   5.0     5.0\n",
       "48189  B00LKG1MC8  5.0  5.0      1   5.0     5.0"
      ]
     },
     "execution_count": 25,
     "metadata": {
      "tags": []
     },
     "output_type": "execute_result"
    }
   ],
   "source": [
    "data.tail()"
   ]
  },
  {
   "cell_type": "code",
   "execution_count": 26,
   "metadata": {
    "colab": {
     "base_uri": "https://localhost:8080/",
     "height": 627
    },
    "id": "TAskXo7zwu5d",
    "outputId": "020d2d53-e7bc-4c8c-e5d6-a5dc15674f0e"
   },
   "outputs": [
    {
     "data": {
      "image/png": "[encoded data removed]",
      "text/plain": [
       "<Figure size 720x720 with 1 Axes>"
      ]
     },
     "metadata": {
      "needs_background": "light",
      "tags": []
     },
     "output_type": "display_data"
    }
   ],
   "source": [
    "CountPlot(y = 'median', hue = 'median', data = data , title = 'Countplot depicting count of ratings by products' )"
   ]
  },
  {
   "cell_type": "code",
   "execution_count": 27,
   "metadata": {
    "colab": {
     "base_uri": "https://localhost:8080/"
    },
    "id": "jqIaso7xwu5d",
    "outputId": "59c16a7b-0485-4580-a922-4bc2eef1be77"
   },
   "outputs": [
    {
     "data": {
      "text/plain": [
       "5.0    21364\n",
       "4.0    11338\n",
       "4.5     4740\n",
       "3.0     4660\n",
       "3.5     1965\n",
       "1.0     1946\n",
       "2.0     1741\n",
       "2.5      391\n",
       "1.5       45\n",
       "Name: median, dtype: int64"
      ]
     },
     "execution_count": 27,
     "metadata": {
      "tags": []
     },
     "output_type": "execute_result"
    }
   ],
   "source": [
    "data['median'].value_counts()"
   ]
  },
  {
   "cell_type": "code",
   "execution_count": 28,
   "metadata": {
    "colab": {
     "base_uri": "https://localhost:8080/",
     "height": 627
    },
    "id": "Q2LVIv-Uwu5d",
    "outputId": "834acb48-b8c3-481a-8925-96f922428c88"
   },
   "outputs": [
    {
     "data": {
      "image/png": "[encoded data removed]",
      "text/plain": [
       "<Figure size 720x720 with 1 Axes>"
      ]
     },
     "metadata": {
      "needs_background": "light",
      "tags": []
     },
     "output_type": "display_data"
    }
   ],
   "source": [
    "Distribution_Continous_Variables(data['median'],'blue','Ratings Dsitribution by products')"
   ]
  },
  {
   "cell_type": "code",
   "execution_count": 29,
   "metadata": {
    "colab": {
     "base_uri": "https://localhost:8080/",
     "height": 204
    },
    "id": "-OPr_LU9wu5e",
    "outputId": "9cbd55bd-f0cb-4125-e1a7-d0241d707079"
   },
   "outputs": [
    {
     "data": {
      "text/html": [
       "<div>\n",
       "<style scoped>\n",
       "    .dataframe tbody tr th:only-of-type {\n",
       "        vertical-align: middle;\n",
       "    }\n",
       "\n",
       "    .dataframe tbody tr th {\n",
       "        vertical-align: top;\n",
       "    }\n",
       "\n",
       "    .dataframe thead th {\n",
       "        text-align: right;\n",
       "    }\n",
       "</style>\n",
       "<table border=\"1\" class=\"dataframe\">\n",
       "  <thead>\n",
       "    <tr style=\"text-align: right;\">\n",
       "      <th></th>\n",
       "      <th>userId</th>\n",
       "      <th>min</th>\n",
       "      <th>max</th>\n",
       "      <th>count</th>\n",
       "      <th>mean</th>\n",
       "      <th>median</th>\n",
       "    </tr>\n",
       "  </thead>\n",
       "  <tbody>\n",
       "    <tr>\n",
       "      <th>731</th>\n",
       "      <td>A2TN0U8173HM7A</td>\n",
       "      <td>5.0</td>\n",
       "      <td>5.0</td>\n",
       "      <td>1</td>\n",
       "      <td>5.0</td>\n",
       "      <td>5.0</td>\n",
       "    </tr>\n",
       "    <tr>\n",
       "      <th>446</th>\n",
       "      <td>A23WPWLYT3P1CZ</td>\n",
       "      <td>5.0</td>\n",
       "      <td>5.0</td>\n",
       "      <td>1</td>\n",
       "      <td>5.0</td>\n",
       "      <td>5.0</td>\n",
       "    </tr>\n",
       "    <tr>\n",
       "      <th>963</th>\n",
       "      <td>A3DL29NLZ7SXXG</td>\n",
       "      <td>5.0</td>\n",
       "      <td>5.0</td>\n",
       "      <td>1</td>\n",
       "      <td>5.0</td>\n",
       "      <td>5.0</td>\n",
       "    </tr>\n",
       "    <tr>\n",
       "      <th>543</th>\n",
       "      <td>A2DKQQIZ793AV5</td>\n",
       "      <td>5.0</td>\n",
       "      <td>5.0</td>\n",
       "      <td>1</td>\n",
       "      <td>5.0</td>\n",
       "      <td>5.0</td>\n",
       "    </tr>\n",
       "    <tr>\n",
       "      <th>675</th>\n",
       "      <td>A2PB325LKXYDOL</td>\n",
       "      <td>5.0</td>\n",
       "      <td>5.0</td>\n",
       "      <td>1</td>\n",
       "      <td>5.0</td>\n",
       "      <td>5.0</td>\n",
       "    </tr>\n",
       "  </tbody>\n",
       "</table>\n",
       "</div>"
      ],
      "text/plain": [
       "             userId  min  max  count  mean  median\n",
       "731  A2TN0U8173HM7A  5.0  5.0      1   5.0     5.0\n",
       "446  A23WPWLYT3P1CZ  5.0  5.0      1   5.0     5.0\n",
       "963  A3DL29NLZ7SXXG  5.0  5.0      1   5.0     5.0\n",
       "543  A2DKQQIZ793AV5  5.0  5.0      1   5.0     5.0\n",
       "675  A2PB325LKXYDOL  5.0  5.0      1   5.0     5.0"
      ]
     },
     "execution_count": 29,
     "metadata": {
      "tags": []
     },
     "output_type": "execute_result"
    }
   ],
   "source": [
    "data = df_r.groupby(['userId','ratings']).count().reset_index()\n",
    "data['ratings'] = data['ratings'].astype('float64')\n",
    "data = data.groupby(['userId'])['ratings'].agg(['min','max','count','mean','median']).reset_index().sort_values(by=['median'],ascending=True)\n",
    "data.tail()"
   ]
  },
  {
   "cell_type": "code",
   "execution_count": 30,
   "metadata": {
    "colab": {
     "base_uri": "https://localhost:8080/",
     "height": 627
    },
    "id": "sUaxTUyFwu5e",
    "outputId": "80abc01f-43d7-44f1-dc3e-e73c4adfadc2"
   },
   "outputs": [
    {
     "data": {
      "image/png": "[encoded data removed]",
      "text/plain": [
       "<Figure size 720x720 with 1 Axes>"
      ]
     },
     "metadata": {
      "needs_background": "light",
      "tags": []
     },
     "output_type": "display_data"
    }
   ],
   "source": [
    "CountPlot(y = 'median', hue = 'median', data = data , title = 'Countplot depicting count of ratings by users' )"
   ]
  },
  {
   "cell_type": "code",
   "execution_count": 31,
   "metadata": {
    "colab": {
     "base_uri": "https://localhost:8080/"
    },
    "id": "h6EnzzzTwu5e",
    "outputId": "22879d5b-a1ad-4513-fa2f-419d2d95d7bc"
   },
   "outputs": [
    {
     "data": {
      "text/plain": [
       "3.0    1031\n",
       "3.5     361\n",
       "4.0     120\n",
       "4.5      17\n",
       "5.0       6\n",
       "2.5       4\n",
       "2.0       1\n",
       "Name: median, dtype: int64"
      ]
     },
     "execution_count": 31,
     "metadata": {
      "tags": []
     },
     "output_type": "execute_result"
    }
   ],
   "source": [
    "data['median'].value_counts()"
   ]
  },
  {
   "cell_type": "markdown",
   "metadata": {
    "id": "xdv1GTqawu5f"
   },
   "source": [
    "<b>Observations:</b><li>From above we can see that there were alot of users who provided less than 20 ratings. This made our dataset sparse and it would definitely affect or skew our recommendation model.<li>We dropped users who had less than 20 ratings and we did some basic Univariate analysis.<li>From the analysis we can observe that most of the products have been rated highly(above 3.0) by many users.<li>Also majority of users (around 6000) have a provided a median rating of 3.0.<br>\n",
    "    <b>Note:</b><i><font color = 'blue'>Since our dataset is huge so in order to perform complex functions like aggregation we imported our data into dask dataframe</font></i>"
   ]
  },
  {
   "cell_type": "markdown",
   "metadata": {
    "id": "jiszVJhFwu5f"
   },
   "source": [
    "### Splitting the data(70:30)"
   ]
  },
  {
   "cell_type": "markdown",
   "metadata": {
    "id": "UV_S7CoHIN9C"
   },
   "source": [
    "### Splitting for Popularity based recommender model"
   ]
  },
  {
   "cell_type": "code",
   "execution_count": 32,
   "metadata": {
    "id": "vYj1h2IgG0rv"
   },
   "outputs": [],
   "source": [
    "import sklearn.model_selection as modelSelection\n",
    "X_train, X_test = modelSelection.train_test_split(df_r,test_size=0.3,random_state=42)"
   ]
  },
  {
   "cell_type": "markdown",
   "metadata": {
    "id": "2XQfuxOyIX6j"
   },
   "source": [
    "### Splitting for Collaborative filtering model"
   ]
  },
  {
   "cell_type": "code",
   "execution_count": 81,
   "metadata": {
    "id": "_LZRp6caFj1P"
   },
   "outputs": [],
   "source": [
    "reader = Reader(rating_scale=(1.0,5.0))"
   ]
  },
  {
   "cell_type": "code",
   "execution_count": 82,
   "metadata": {
    "id": "2sHtJ4TMGNKF"
   },
   "outputs": [],
   "source": [
    "data1 = Dataset.load_from_df(df_r[['userId', 'productId', 'ratings']],reader)"
   ]
  },
  {
   "cell_type": "code",
   "execution_count": 83,
   "metadata": {
    "id": "fS07zrKawu5f"
   },
   "outputs": [],
   "source": [
    "train,test = train_test_split(data1,test_size=0.3,random_state=42)\n"
   ]
  },
  {
   "cell_type": "markdown",
   "metadata": {
    "id": "KhJN3krEwu5f"
   },
   "source": [
    "# Popularity Based Recommender model"
   ]
  },
  {
   "cell_type": "code",
   "execution_count": 36,
   "metadata": {
    "colab": {
     "base_uri": "https://localhost:8080/"
    },
    "id": "TwshO98THqUO",
    "outputId": "2dd71c93-b2e3-45db-8cf1-b01260298c9f"
   },
   "outputs": [
    {
     "data": {
      "text/plain": [
       "(88109, 4)"
      ]
     },
     "execution_count": 36,
     "metadata": {
      "tags": []
     },
     "output_type": "execute_result"
    }
   ],
   "source": [
    "X_train.shape"
   ]
  },
  {
   "cell_type": "code",
   "execution_count": 37,
   "metadata": {
    "colab": {
     "base_uri": "https://localhost:8080/"
    },
    "id": "rQ9FcYkDwu5g",
    "outputId": "03a07722-e77f-42ac-f0cc-6af8f98a475b"
   },
   "outputs": [
    {
     "data": {
      "text/plain": [
       "(37762, 4)"
      ]
     },
     "execution_count": 37,
     "metadata": {
      "tags": []
     },
     "output_type": "execute_result"
    }
   ],
   "source": [
    "X_test.shape"
   ]
  },
  {
   "cell_type": "code",
   "execution_count": 38,
   "metadata": {
    "colab": {
     "base_uri": "https://localhost:8080/",
     "height": 359
    },
    "id": "ETlo1rPHwu5g",
    "outputId": "650073d8-459d-4a8b-935b-89a1ef10c343"
   },
   "outputs": [
    {
     "data": {
      "text/html": [
       "<div>\n",
       "<style scoped>\n",
       "    .dataframe tbody tr th:only-of-type {\n",
       "        vertical-align: middle;\n",
       "    }\n",
       "\n",
       "    .dataframe tbody tr th {\n",
       "        vertical-align: top;\n",
       "    }\n",
       "\n",
       "    .dataframe thead th {\n",
       "        text-align: right;\n",
       "    }\n",
       "</style>\n",
       "<table border=\"1\" class=\"dataframe\">\n",
       "  <thead>\n",
       "    <tr style=\"text-align: right;\">\n",
       "      <th></th>\n",
       "      <th>userId</th>\n",
       "      <th>productId</th>\n",
       "      <th>ratings</th>\n",
       "    </tr>\n",
       "  </thead>\n",
       "  <tbody>\n",
       "    <tr>\n",
       "      <th>29374</th>\n",
       "      <td>A294BKN913UOGP</td>\n",
       "      <td>B00C9USP8I</td>\n",
       "      <td>1</td>\n",
       "    </tr>\n",
       "    <tr>\n",
       "      <th>29373</th>\n",
       "      <td>A294BKN913UOGP</td>\n",
       "      <td>B009WHV3I0</td>\n",
       "      <td>1</td>\n",
       "    </tr>\n",
       "    <tr>\n",
       "      <th>29372</th>\n",
       "      <td>A294BKN913UOGP</td>\n",
       "      <td>B009S6R9J2</td>\n",
       "      <td>1</td>\n",
       "    </tr>\n",
       "    <tr>\n",
       "      <th>29371</th>\n",
       "      <td>A294BKN913UOGP</td>\n",
       "      <td>B009CNVSZM</td>\n",
       "      <td>1</td>\n",
       "    </tr>\n",
       "    <tr>\n",
       "      <th>29370</th>\n",
       "      <td>A294BKN913UOGP</td>\n",
       "      <td>B009AJIU1S</td>\n",
       "      <td>1</td>\n",
       "    </tr>\n",
       "    <tr>\n",
       "      <th>29369</th>\n",
       "      <td>A294BKN913UOGP</td>\n",
       "      <td>B0092MD5UY</td>\n",
       "      <td>1</td>\n",
       "    </tr>\n",
       "    <tr>\n",
       "      <th>29368</th>\n",
       "      <td>A294BKN913UOGP</td>\n",
       "      <td>B008OD1BNK</td>\n",
       "      <td>1</td>\n",
       "    </tr>\n",
       "    <tr>\n",
       "      <th>29367</th>\n",
       "      <td>A294BKN913UOGP</td>\n",
       "      <td>B0084G3FKE</td>\n",
       "      <td>1</td>\n",
       "    </tr>\n",
       "    <tr>\n",
       "      <th>29366</th>\n",
       "      <td>A294BKN913UOGP</td>\n",
       "      <td>B007VXRKFM</td>\n",
       "      <td>1</td>\n",
       "    </tr>\n",
       "    <tr>\n",
       "      <th>88108</th>\n",
       "      <td>AZOK5STV85FBJ</td>\n",
       "      <td>B00BF6HVG4</td>\n",
       "      <td>1</td>\n",
       "    </tr>\n",
       "  </tbody>\n",
       "</table>\n",
       "</div>"
      ],
      "text/plain": [
       "               userId   productId  ratings\n",
       "29374  A294BKN913UOGP  B00C9USP8I        1\n",
       "29373  A294BKN913UOGP  B009WHV3I0        1\n",
       "29372  A294BKN913UOGP  B009S6R9J2        1\n",
       "29371  A294BKN913UOGP  B009CNVSZM        1\n",
       "29370  A294BKN913UOGP  B009AJIU1S        1\n",
       "29369  A294BKN913UOGP  B0092MD5UY        1\n",
       "29368  A294BKN913UOGP  B008OD1BNK        1\n",
       "29367  A294BKN913UOGP  B0084G3FKE        1\n",
       "29366  A294BKN913UOGP  B007VXRKFM        1\n",
       "88108   AZOK5STV85FBJ  B00BF6HVG4        1"
      ]
     },
     "execution_count": 38,
     "metadata": {
      "tags": []
     },
     "output_type": "execute_result"
    }
   ],
   "source": [
    "X_train.groupby(['userId','productId'])['ratings'].count().reset_index().sort_values(by='ratings', ascending = False).tail(10)"
   ]
  },
  {
   "cell_type": "markdown",
   "metadata": {
    "id": "M0bu2fFxwu5h"
   },
   "source": [
    "<li>From above we can see that every userId,ProductId pair is unique which implies that every user has only one rating for a particular product and not two.<li>We will now build our recommender model where we would suggest users the products that are most relevant currently or are more popular.<li>We would calculate the popularity of a particular product based on total number of users and on the basis of average rating of a product.<li>In this case I would recommend users the products that are not only bought by majority but also have rating atleast 3.<li>We will build our custom recommender using transformers"
   ]
  },
  {
   "cell_type": "code",
   "execution_count": 39,
   "metadata": {
    "id": "lEXbFmmXwu5h"
   },
   "outputs": [],
   "source": [
    "X_train['ratings'] = X_train['ratings'].astype('float64')"
   ]
  },
  {
   "cell_type": "code",
   "execution_count": 40,
   "metadata": {
    "id": "O96ZmGCzwu5h"
   },
   "outputs": [],
   "source": [
    "data_grouby_product = X_train.groupby(['productId']).agg({'userId':'count','ratings':'mean'}).reset_index()\n",
    "data_grouby_product.sort_values(by=['userId','ratings'], ascending = False, inplace=True)"
   ]
  },
  {
   "cell_type": "markdown",
   "metadata": {
    "id": "OsFt9vb0wu5h"
   },
   "source": [
    "### Selecting top 10 products with ratings atleast 3.0"
   ]
  },
  {
   "cell_type": "code",
   "execution_count": 41,
   "metadata": {
    "colab": {
     "base_uri": "https://localhost:8080/",
     "height": 359
    },
    "id": "gQcb7k8cwu5i",
    "outputId": "a1dc41cb-09ea-4a74-ae53-2a7bd5936652"
   },
   "outputs": [
    {
     "data": {
      "text/html": [
       "<div>\n",
       "<style scoped>\n",
       "    .dataframe tbody tr th:only-of-type {\n",
       "        vertical-align: middle;\n",
       "    }\n",
       "\n",
       "    .dataframe tbody tr th {\n",
       "        vertical-align: top;\n",
       "    }\n",
       "\n",
       "    .dataframe thead th {\n",
       "        text-align: right;\n",
       "    }\n",
       "</style>\n",
       "<table border=\"1\" class=\"dataframe\">\n",
       "  <thead>\n",
       "    <tr style=\"text-align: right;\">\n",
       "      <th></th>\n",
       "      <th>productId</th>\n",
       "      <th>userId</th>\n",
       "      <th>ratings</th>\n",
       "    </tr>\n",
       "  </thead>\n",
       "  <tbody>\n",
       "    <tr>\n",
       "      <th>30892</th>\n",
       "      <td>B0088CJT4U</td>\n",
       "      <td>145</td>\n",
       "      <td>4.220690</td>\n",
       "    </tr>\n",
       "    <tr>\n",
       "      <th>30338</th>\n",
       "      <td>B007WTAJTO</td>\n",
       "      <td>127</td>\n",
       "      <td>4.716535</td>\n",
       "    </tr>\n",
       "    <tr>\n",
       "      <th>19570</th>\n",
       "      <td>B003ES5ZUU</td>\n",
       "      <td>125</td>\n",
       "      <td>4.856000</td>\n",
       "    </tr>\n",
       "    <tr>\n",
       "      <th>8662</th>\n",
       "      <td>B000N99BBC</td>\n",
       "      <td>113</td>\n",
       "      <td>4.761062</td>\n",
       "    </tr>\n",
       "    <tr>\n",
       "      <th>30604</th>\n",
       "      <td>B00829TIEK</td>\n",
       "      <td>99</td>\n",
       "      <td>4.383838</td>\n",
       "    </tr>\n",
       "    <tr>\n",
       "      <th>17298</th>\n",
       "      <td>B002R5AM7C</td>\n",
       "      <td>96</td>\n",
       "      <td>4.156250</td>\n",
       "    </tr>\n",
       "    <tr>\n",
       "      <th>30600</th>\n",
       "      <td>B00829THK0</td>\n",
       "      <td>89</td>\n",
       "      <td>4.393258</td>\n",
       "    </tr>\n",
       "    <tr>\n",
       "      <th>31151</th>\n",
       "      <td>B008DWCRQW</td>\n",
       "      <td>88</td>\n",
       "      <td>4.147727</td>\n",
       "    </tr>\n",
       "    <tr>\n",
       "      <th>22704</th>\n",
       "      <td>B004CLYEDC</td>\n",
       "      <td>82</td>\n",
       "      <td>4.695122</td>\n",
       "    </tr>\n",
       "    <tr>\n",
       "      <th>17489</th>\n",
       "      <td>B002SZEOLG</td>\n",
       "      <td>82</td>\n",
       "      <td>4.280488</td>\n",
       "    </tr>\n",
       "  </tbody>\n",
       "</table>\n",
       "</div>"
      ],
      "text/plain": [
       "        productId  userId   ratings\n",
       "30892  B0088CJT4U     145  4.220690\n",
       "30338  B007WTAJTO     127  4.716535\n",
       "19570  B003ES5ZUU     125  4.856000\n",
       "8662   B000N99BBC     113  4.761062\n",
       "30604  B00829TIEK      99  4.383838\n",
       "17298  B002R5AM7C      96  4.156250\n",
       "30600  B00829THK0      89  4.393258\n",
       "31151  B008DWCRQW      88  4.147727\n",
       "22704  B004CLYEDC      82  4.695122\n",
       "17489  B002SZEOLG      82  4.280488"
      ]
     },
     "execution_count": 41,
     "metadata": {
      "tags": []
     },
     "output_type": "execute_result"
    }
   ],
   "source": [
    "data_grouby_product[data_grouby_product['ratings'] >= 3.0].iloc[:10,:]"
   ]
  },
  {
   "cell_type": "markdown",
   "metadata": {
    "id": "mNxxxg0swu5i"
   },
   "source": [
    "### Now we will build our popularity based recommender system that would take the inputs and would suggest top 10 products with average rating atleast 3.0 and number of users who purchased it"
   ]
  },
  {
   "cell_type": "code",
   "execution_count": 42,
   "metadata": {
    "id": "QY_egTt-wu5i"
   },
   "outputs": [],
   "source": [
    "from sklearn.base import BaseEstimator, TransformerMixin\n",
    "\n",
    "class PopularityBasedRecommender( BaseEstimator, TransformerMixin ):\n",
    "    \"\"\"This Transformer would recommend most popular products based on number of customers and their average rating\"\"\"\n",
    "    \n",
    "    def __init__( self ):\n",
    "        \n",
    "        pass\n",
    "        \n",
    "    \n",
    "    def fit( self, X ):\n",
    "        \n",
    "        self.data = pd.DataFrame()\n",
    "        X['userId'] = X['userId'].astype('object')\n",
    "        X['productId'] = X['productId'].astype('object')\n",
    "        X['ratings'] = X['ratings'].astype('float64')\n",
    "        self.data = X\n",
    "        \n",
    "    def transform(self):\n",
    "        \n",
    "        self.modified = self.data.groupby(['productId']).agg({'userId':'count','ratings':'mean'}).reset_index()\n",
    "        self.modified.sort_values(by=['userId','ratings'], ascending = False, inplace=True)\n",
    "        self.modified_sorted = self.modified.reset_index(drop =True)\n",
    "        self.modified_sorted.rename(columns = {'userId': 'user_count','ratings':'average_rating'}, inplace= True)\n",
    "        self.modified_sorted['rank'] = self.modified_sorted[['user_count','average_rating']].apply(tuple, axis = 1) \\\n",
    "        .rank(ascending=False, method='dense').astype('int')\n",
    "        return self.modified_sorted\n",
    "        \n",
    "    def recommend_top10(self):\n",
    "        \n",
    "        return self.modified_sorted[(self.modified_sorted['average_rating']>=3.0) \\\n",
    "                                    & (self.modified_sorted['rank']<=10)][['productId','rank']]\n",
    "        \n",
    "    \n",
    "\n",
    "\n"
   ]
  },
  {
   "cell_type": "code",
   "execution_count": 43,
   "metadata": {
    "colab": {
     "base_uri": "https://localhost:8080/",
     "height": 419
    },
    "id": "_hI-kBfxwu5j",
    "outputId": "858e2b3b-8714-48a2-bc34-f36fa631f645"
   },
   "outputs": [
    {
     "data": {
      "text/html": [
       "<div>\n",
       "<style scoped>\n",
       "    .dataframe tbody tr th:only-of-type {\n",
       "        vertical-align: middle;\n",
       "    }\n",
       "\n",
       "    .dataframe tbody tr th {\n",
       "        vertical-align: top;\n",
       "    }\n",
       "\n",
       "    .dataframe thead th {\n",
       "        text-align: right;\n",
       "    }\n",
       "</style>\n",
       "<table border=\"1\" class=\"dataframe\">\n",
       "  <thead>\n",
       "    <tr style=\"text-align: right;\">\n",
       "      <th></th>\n",
       "      <th>productId</th>\n",
       "      <th>user_count</th>\n",
       "      <th>average_rating</th>\n",
       "      <th>rank</th>\n",
       "    </tr>\n",
       "  </thead>\n",
       "  <tbody>\n",
       "    <tr>\n",
       "      <th>0</th>\n",
       "      <td>B0088CJT4U</td>\n",
       "      <td>145</td>\n",
       "      <td>4.220690</td>\n",
       "      <td>1</td>\n",
       "    </tr>\n",
       "    <tr>\n",
       "      <th>1</th>\n",
       "      <td>B007WTAJTO</td>\n",
       "      <td>127</td>\n",
       "      <td>4.716535</td>\n",
       "      <td>2</td>\n",
       "    </tr>\n",
       "    <tr>\n",
       "      <th>2</th>\n",
       "      <td>B003ES5ZUU</td>\n",
       "      <td>125</td>\n",
       "      <td>4.856000</td>\n",
       "      <td>3</td>\n",
       "    </tr>\n",
       "    <tr>\n",
       "      <th>3</th>\n",
       "      <td>B000N99BBC</td>\n",
       "      <td>113</td>\n",
       "      <td>4.761062</td>\n",
       "      <td>4</td>\n",
       "    </tr>\n",
       "    <tr>\n",
       "      <th>4</th>\n",
       "      <td>B00829TIEK</td>\n",
       "      <td>99</td>\n",
       "      <td>4.383838</td>\n",
       "      <td>5</td>\n",
       "    </tr>\n",
       "    <tr>\n",
       "      <th>...</th>\n",
       "      <td>...</td>\n",
       "      <td>...</td>\n",
       "      <td>...</td>\n",
       "      <td>...</td>\n",
       "    </tr>\n",
       "    <tr>\n",
       "      <th>38258</th>\n",
       "      <td>B00J3BB6WS</td>\n",
       "      <td>1</td>\n",
       "      <td>1.000000</td>\n",
       "      <td>621</td>\n",
       "    </tr>\n",
       "    <tr>\n",
       "      <th>38259</th>\n",
       "      <td>B00JJ34TEW</td>\n",
       "      <td>1</td>\n",
       "      <td>1.000000</td>\n",
       "      <td>621</td>\n",
       "    </tr>\n",
       "    <tr>\n",
       "      <th>38260</th>\n",
       "      <td>B00JNRF2N6</td>\n",
       "      <td>1</td>\n",
       "      <td>1.000000</td>\n",
       "      <td>621</td>\n",
       "    </tr>\n",
       "    <tr>\n",
       "      <th>38261</th>\n",
       "      <td>B00JXCIT7M</td>\n",
       "      <td>1</td>\n",
       "      <td>1.000000</td>\n",
       "      <td>621</td>\n",
       "    </tr>\n",
       "    <tr>\n",
       "      <th>38262</th>\n",
       "      <td>B00KJLZDXO</td>\n",
       "      <td>1</td>\n",
       "      <td>1.000000</td>\n",
       "      <td>621</td>\n",
       "    </tr>\n",
       "  </tbody>\n",
       "</table>\n",
       "<p>38263 rows × 4 columns</p>\n",
       "</div>"
      ],
      "text/plain": [
       "        productId  user_count  average_rating  rank\n",
       "0      B0088CJT4U         145        4.220690     1\n",
       "1      B007WTAJTO         127        4.716535     2\n",
       "2      B003ES5ZUU         125        4.856000     3\n",
       "3      B000N99BBC         113        4.761062     4\n",
       "4      B00829TIEK          99        4.383838     5\n",
       "...           ...         ...             ...   ...\n",
       "38258  B00J3BB6WS           1        1.000000   621\n",
       "38259  B00JJ34TEW           1        1.000000   621\n",
       "38260  B00JNRF2N6           1        1.000000   621\n",
       "38261  B00JXCIT7M           1        1.000000   621\n",
       "38262  B00KJLZDXO           1        1.000000   621\n",
       "\n",
       "[38263 rows x 4 columns]"
      ]
     },
     "execution_count": 43,
     "metadata": {
      "tags": []
     },
     "output_type": "execute_result"
    }
   ],
   "source": [
    "recommender = PopularityBasedRecommender() #----recommender model\n",
    "recommender.fit(X_train)\n",
    "recommender.transform()"
   ]
  },
  {
   "cell_type": "markdown",
   "metadata": {
    "id": "kbSvwE7Jwu5k"
   },
   "source": [
    "### Top 10 product recommendations on train data"
   ]
  },
  {
   "cell_type": "code",
   "execution_count": 44,
   "metadata": {
    "colab": {
     "base_uri": "https://localhost:8080/",
     "height": 359
    },
    "id": "RV0syEkcwu5k",
    "outputId": "d4e28795-9861-48c7-e8f7-d0313d103020"
   },
   "outputs": [
    {
     "data": {
      "text/html": [
       "<div>\n",
       "<style scoped>\n",
       "    .dataframe tbody tr th:only-of-type {\n",
       "        vertical-align: middle;\n",
       "    }\n",
       "\n",
       "    .dataframe tbody tr th {\n",
       "        vertical-align: top;\n",
       "    }\n",
       "\n",
       "    .dataframe thead th {\n",
       "        text-align: right;\n",
       "    }\n",
       "</style>\n",
       "<table border=\"1\" class=\"dataframe\">\n",
       "  <thead>\n",
       "    <tr style=\"text-align: right;\">\n",
       "      <th></th>\n",
       "      <th>productId</th>\n",
       "      <th>rank</th>\n",
       "    </tr>\n",
       "  </thead>\n",
       "  <tbody>\n",
       "    <tr>\n",
       "      <th>0</th>\n",
       "      <td>B0088CJT4U</td>\n",
       "      <td>1</td>\n",
       "    </tr>\n",
       "    <tr>\n",
       "      <th>1</th>\n",
       "      <td>B007WTAJTO</td>\n",
       "      <td>2</td>\n",
       "    </tr>\n",
       "    <tr>\n",
       "      <th>2</th>\n",
       "      <td>B003ES5ZUU</td>\n",
       "      <td>3</td>\n",
       "    </tr>\n",
       "    <tr>\n",
       "      <th>3</th>\n",
       "      <td>B000N99BBC</td>\n",
       "      <td>4</td>\n",
       "    </tr>\n",
       "    <tr>\n",
       "      <th>4</th>\n",
       "      <td>B00829TIEK</td>\n",
       "      <td>5</td>\n",
       "    </tr>\n",
       "    <tr>\n",
       "      <th>5</th>\n",
       "      <td>B002R5AM7C</td>\n",
       "      <td>6</td>\n",
       "    </tr>\n",
       "    <tr>\n",
       "      <th>6</th>\n",
       "      <td>B00829THK0</td>\n",
       "      <td>7</td>\n",
       "    </tr>\n",
       "    <tr>\n",
       "      <th>7</th>\n",
       "      <td>B008DWCRQW</td>\n",
       "      <td>8</td>\n",
       "    </tr>\n",
       "    <tr>\n",
       "      <th>8</th>\n",
       "      <td>B004CLYEDC</td>\n",
       "      <td>9</td>\n",
       "    </tr>\n",
       "    <tr>\n",
       "      <th>9</th>\n",
       "      <td>B002SZEOLG</td>\n",
       "      <td>10</td>\n",
       "    </tr>\n",
       "  </tbody>\n",
       "</table>\n",
       "</div>"
      ],
      "text/plain": [
       "    productId  rank\n",
       "0  B0088CJT4U     1\n",
       "1  B007WTAJTO     2\n",
       "2  B003ES5ZUU     3\n",
       "3  B000N99BBC     4\n",
       "4  B00829TIEK     5\n",
       "5  B002R5AM7C     6\n",
       "6  B00829THK0     7\n",
       "7  B008DWCRQW     8\n",
       "8  B004CLYEDC     9\n",
       "9  B002SZEOLG    10"
      ]
     },
     "execution_count": 44,
     "metadata": {
      "tags": []
     },
     "output_type": "execute_result"
    }
   ],
   "source": [
    "recommender.recommend_top10()"
   ]
  },
  {
   "cell_type": "markdown",
   "metadata": {
    "id": "4Du9kWC5wu5l"
   },
   "source": [
    "### Top 10 product recommendations on test data"
   ]
  },
  {
   "cell_type": "code",
   "execution_count": 45,
   "metadata": {
    "colab": {
     "base_uri": "https://localhost:8080/",
     "height": 419
    },
    "id": "S1DTsa8Hwu5l",
    "outputId": "0a393496-5310-4f2e-c281-82280ccfcea1"
   },
   "outputs": [
    {
     "data": {
      "text/html": [
       "<div>\n",
       "<style scoped>\n",
       "    .dataframe tbody tr th:only-of-type {\n",
       "        vertical-align: middle;\n",
       "    }\n",
       "\n",
       "    .dataframe tbody tr th {\n",
       "        vertical-align: top;\n",
       "    }\n",
       "\n",
       "    .dataframe thead th {\n",
       "        text-align: right;\n",
       "    }\n",
       "</style>\n",
       "<table border=\"1\" class=\"dataframe\">\n",
       "  <thead>\n",
       "    <tr style=\"text-align: right;\">\n",
       "      <th></th>\n",
       "      <th>productId</th>\n",
       "      <th>user_count</th>\n",
       "      <th>average_rating</th>\n",
       "      <th>rank</th>\n",
       "    </tr>\n",
       "  </thead>\n",
       "  <tbody>\n",
       "    <tr>\n",
       "      <th>0</th>\n",
       "      <td>B0088CJT4U</td>\n",
       "      <td>61</td>\n",
       "      <td>4.213115</td>\n",
       "      <td>1</td>\n",
       "    </tr>\n",
       "    <tr>\n",
       "      <th>1</th>\n",
       "      <td>B003ES5ZUU</td>\n",
       "      <td>59</td>\n",
       "      <td>4.881356</td>\n",
       "      <td>2</td>\n",
       "    </tr>\n",
       "    <tr>\n",
       "      <th>2</th>\n",
       "      <td>B000N99BBC</td>\n",
       "      <td>54</td>\n",
       "      <td>4.796296</td>\n",
       "      <td>3</td>\n",
       "    </tr>\n",
       "    <tr>\n",
       "      <th>3</th>\n",
       "      <td>B00829TIEK</td>\n",
       "      <td>50</td>\n",
       "      <td>4.540000</td>\n",
       "      <td>4</td>\n",
       "    </tr>\n",
       "    <tr>\n",
       "      <th>4</th>\n",
       "      <td>B008DWCRQW</td>\n",
       "      <td>49</td>\n",
       "      <td>4.000000</td>\n",
       "      <td>5</td>\n",
       "    </tr>\n",
       "    <tr>\n",
       "      <th>...</th>\n",
       "      <td>...</td>\n",
       "      <td>...</td>\n",
       "      <td>...</td>\n",
       "      <td>...</td>\n",
       "    </tr>\n",
       "    <tr>\n",
       "      <th>21326</th>\n",
       "      <td>B00JMC9CLK</td>\n",
       "      <td>1</td>\n",
       "      <td>1.000000</td>\n",
       "      <td>285</td>\n",
       "    </tr>\n",
       "    <tr>\n",
       "      <th>21327</th>\n",
       "      <td>B00JTHKB04</td>\n",
       "      <td>1</td>\n",
       "      <td>1.000000</td>\n",
       "      <td>285</td>\n",
       "    </tr>\n",
       "    <tr>\n",
       "      <th>21328</th>\n",
       "      <td>B00KGHXCY8</td>\n",
       "      <td>1</td>\n",
       "      <td>1.000000</td>\n",
       "      <td>285</td>\n",
       "    </tr>\n",
       "    <tr>\n",
       "      <th>21329</th>\n",
       "      <td>B00KIUV4KC</td>\n",
       "      <td>1</td>\n",
       "      <td>1.000000</td>\n",
       "      <td>285</td>\n",
       "    </tr>\n",
       "    <tr>\n",
       "      <th>21330</th>\n",
       "      <td>B00KR6FY94</td>\n",
       "      <td>1</td>\n",
       "      <td>1.000000</td>\n",
       "      <td>285</td>\n",
       "    </tr>\n",
       "  </tbody>\n",
       "</table>\n",
       "<p>21331 rows × 4 columns</p>\n",
       "</div>"
      ],
      "text/plain": [
       "        productId  user_count  average_rating  rank\n",
       "0      B0088CJT4U          61        4.213115     1\n",
       "1      B003ES5ZUU          59        4.881356     2\n",
       "2      B000N99BBC          54        4.796296     3\n",
       "3      B00829TIEK          50        4.540000     4\n",
       "4      B008DWCRQW          49        4.000000     5\n",
       "...           ...         ...             ...   ...\n",
       "21326  B00JMC9CLK           1        1.000000   285\n",
       "21327  B00JTHKB04           1        1.000000   285\n",
       "21328  B00KGHXCY8           1        1.000000   285\n",
       "21329  B00KIUV4KC           1        1.000000   285\n",
       "21330  B00KR6FY94           1        1.000000   285\n",
       "\n",
       "[21331 rows x 4 columns]"
      ]
     },
     "execution_count": 45,
     "metadata": {
      "tags": []
     },
     "output_type": "execute_result"
    }
   ],
   "source": [
    "recommender.fit(X_test)\n",
    "recommender.transform()"
   ]
  },
  {
   "cell_type": "code",
   "execution_count": 46,
   "metadata": {
    "colab": {
     "base_uri": "https://localhost:8080/",
     "height": 359
    },
    "id": "v-sWendpwu5l",
    "outputId": "5a68660a-0b8b-428d-92fd-1528a1dc8698"
   },
   "outputs": [
    {
     "data": {
      "text/html": [
       "<div>\n",
       "<style scoped>\n",
       "    .dataframe tbody tr th:only-of-type {\n",
       "        vertical-align: middle;\n",
       "    }\n",
       "\n",
       "    .dataframe tbody tr th {\n",
       "        vertical-align: top;\n",
       "    }\n",
       "\n",
       "    .dataframe thead th {\n",
       "        text-align: right;\n",
       "    }\n",
       "</style>\n",
       "<table border=\"1\" class=\"dataframe\">\n",
       "  <thead>\n",
       "    <tr style=\"text-align: right;\">\n",
       "      <th></th>\n",
       "      <th>productId</th>\n",
       "      <th>rank</th>\n",
       "    </tr>\n",
       "  </thead>\n",
       "  <tbody>\n",
       "    <tr>\n",
       "      <th>0</th>\n",
       "      <td>B0088CJT4U</td>\n",
       "      <td>1</td>\n",
       "    </tr>\n",
       "    <tr>\n",
       "      <th>1</th>\n",
       "      <td>B003ES5ZUU</td>\n",
       "      <td>2</td>\n",
       "    </tr>\n",
       "    <tr>\n",
       "      <th>2</th>\n",
       "      <td>B000N99BBC</td>\n",
       "      <td>3</td>\n",
       "    </tr>\n",
       "    <tr>\n",
       "      <th>3</th>\n",
       "      <td>B00829TIEK</td>\n",
       "      <td>4</td>\n",
       "    </tr>\n",
       "    <tr>\n",
       "      <th>4</th>\n",
       "      <td>B008DWCRQW</td>\n",
       "      <td>5</td>\n",
       "    </tr>\n",
       "    <tr>\n",
       "      <th>5</th>\n",
       "      <td>B00829THK0</td>\n",
       "      <td>6</td>\n",
       "    </tr>\n",
       "    <tr>\n",
       "      <th>6</th>\n",
       "      <td>B007WTAJTO</td>\n",
       "      <td>7</td>\n",
       "    </tr>\n",
       "    <tr>\n",
       "      <th>7</th>\n",
       "      <td>B00829TIA4</td>\n",
       "      <td>8</td>\n",
       "    </tr>\n",
       "    <tr>\n",
       "      <th>8</th>\n",
       "      <td>B004CLYEDC</td>\n",
       "      <td>9</td>\n",
       "    </tr>\n",
       "    <tr>\n",
       "      <th>9</th>\n",
       "      <td>B004T9RR6I</td>\n",
       "      <td>10</td>\n",
       "    </tr>\n",
       "  </tbody>\n",
       "</table>\n",
       "</div>"
      ],
      "text/plain": [
       "    productId  rank\n",
       "0  B0088CJT4U     1\n",
       "1  B003ES5ZUU     2\n",
       "2  B000N99BBC     3\n",
       "3  B00829TIEK     4\n",
       "4  B008DWCRQW     5\n",
       "5  B00829THK0     6\n",
       "6  B007WTAJTO     7\n",
       "7  B00829TIA4     8\n",
       "8  B004CLYEDC     9\n",
       "9  B004T9RR6I    10"
      ]
     },
     "execution_count": 46,
     "metadata": {
      "tags": []
     },
     "output_type": "execute_result"
    }
   ],
   "source": [
    "recommender.recommend_top10()"
   ]
  },
  {
   "cell_type": "markdown",
   "metadata": {
    "id": "3rtzJDC-wu5l"
   },
   "source": [
    "<h3><b>Note: </b><font color = 'blue'>The recommendations for all users is going to be same since we are recommending them the products based on popularity</font>"
   ]
  },
  {
   "cell_type": "markdown",
   "metadata": {
    "id": "UTuiQ_HVwu5m"
   },
   "source": [
    "# Collaborative Filtering model"
   ]
  },
  {
   "cell_type": "markdown",
   "metadata": {
    "id": "HRR92Fggwu5m"
   },
   "source": [
    "### User based collab filtering"
   ]
  },
  {
   "cell_type": "markdown",
   "metadata": {
    "id": "7i16hebiUX9O"
   },
   "source": [
    "### Training with KNN means algorithm"
   ]
  },
  {
   "cell_type": "code",
   "execution_count": 123,
   "metadata": {
    "colab": {
     "base_uri": "https://localhost:8080/"
    },
    "id": "ekzC_bufzZ_r",
    "outputId": "7f997cdf-0081-4f73-8cae-ae269e0291a7"
   },
   "outputs": [
    {
     "name": "stdout",
     "output_type": "stream",
     "text": [
      "Estimating biases using als...\n",
      "Computing the pearson_baseline similarity matrix...\n",
      "Done computing similarity matrix.\n"
     ]
    },
    {
     "data": {
      "text/plain": [
       "<surprise.prediction_algorithms.knns.KNNWithMeans at 0x7f4e3bd7b908>"
      ]
     },
     "execution_count": 123,
     "metadata": {
      "tags": []
     },
     "output_type": "execute_result"
    }
   ],
   "source": [
    "knn = KNNWithMeans(k=50, sim_options={'name': 'pearson_baseline', 'user_based': True})\n",
    "knn.fit(train)"
   ]
  },
  {
   "cell_type": "code",
   "execution_count": 124,
   "metadata": {
    "id": "qmzUOyD9RKGe"
   },
   "outputs": [],
   "source": [
    "test_pred_knn = knn.test(test)"
   ]
  },
  {
   "cell_type": "code",
   "execution_count": 125,
   "metadata": {
    "colab": {
     "base_uri": "https://localhost:8080/"
    },
    "id": "loJf5t2wV8QT",
    "outputId": "17962766-ab47-41b3-b8b4-72e02e56ae3f"
   },
   "outputs": [
    {
     "data": {
      "text/plain": [
       "[Prediction(uid='A8CKH8XB33XGN', iid='B0044ZC2IA', r_ui=5.0, est=4.1625, details={'actual_k': 0, 'was_impossible': False}),\n",
       " Prediction(uid='AWNJAY0M5UI70', iid='B00A7KYH8E', r_ui=5.0, est=4.264036591040643, details={'was_impossible': True, 'reason': 'User and/or item is unknown.'}),\n",
       " Prediction(uid='AR18DH5SL9F73', iid='B004EI0EG4', r_ui=5.0, est=4.264036591040643, details={'was_impossible': True, 'reason': 'User and/or item is unknown.'}),\n",
       " Prediction(uid='A1FXT4VNDA25LY', iid='B000IM5GBS', r_ui=2.0, est=4.264036591040643, details={'was_impossible': True, 'reason': 'User and/or item is unknown.'}),\n",
       " Prediction(uid='A1MZL91Z44RN06', iid='B001UE6MIO', r_ui=4.0, est=4.593023255813954, details={'actual_k': 0, 'was_impossible': False}),\n",
       " Prediction(uid='ANW6EGY12V5XS', iid='B0043241X8', r_ui=2.0, est=4.264036591040643, details={'was_impossible': True, 'reason': 'User and/or item is unknown.'}),\n",
       " Prediction(uid='AE88D7OM7YU99', iid='B00APQM1GU', r_ui=5.0, est=3.9423076923076925, details={'actual_k': 0, 'was_impossible': False}),\n",
       " Prediction(uid='A1FDV3WPOHREY9', iid='B001U0O5QO', r_ui=2.0, est=4.6, details={'actual_k': 0, 'was_impossible': False}),\n",
       " Prediction(uid='A6VXZ1EEPRTLV', iid='B0029B25H4', r_ui=4.0, est=4.264036591040643, details={'was_impossible': True, 'reason': 'User and/or item is unknown.'}),\n",
       " Prediction(uid='A3963R7EPE3A7E', iid='B00JJWH3PU', r_ui=5.0, est=4.716981132075472, details={'actual_k': 0, 'was_impossible': False})]"
      ]
     },
     "execution_count": 125,
     "metadata": {
      "tags": []
     },
     "output_type": "execute_result"
    }
   ],
   "source": [
    "test_pred_knn[0:10]"
   ]
  },
  {
   "cell_type": "code",
   "execution_count": 126,
   "metadata": {
    "colab": {
     "base_uri": "https://localhost:8080/"
    },
    "id": "0UrOmUFjWSJ3",
    "outputId": "a14081fa-259a-425a-c870-c90be3509976"
   },
   "outputs": [
    {
     "name": "stdout",
     "output_type": "stream",
     "text": [
      "RMSE for KNNWithMeans\n",
      "RMSE: 1.0618\n",
      "1.0618108041248628\n"
     ]
    }
   ],
   "source": [
    "#RMSE score\n",
    "print(\"RMSE for KNNWithMeans\")\n",
    "print(accuracy.rmse(test_pred_knn))"
   ]
  },
  {
   "cell_type": "markdown",
   "metadata": {
    "id": "khkCgz4YUe-n"
   },
   "source": [
    "### Training with SVD algorithm with gridsearch"
   ]
  },
  {
   "cell_type": "markdown",
   "metadata": {
    "id": "0EJNU8E-ksgp"
   },
   "source": [
    "#### In case of gridsearchcv we cannot train on trainset since it has complex structure so we would take data and then we would perform unibiased accuracy estimation as mentioned in the code below"
   ]
  },
  {
   "cell_type": "code",
   "execution_count": 97,
   "metadata": {
    "id": "InV832TzosAW"
   },
   "outputs": [],
   "source": [
    "#----refrence article : https://surprise.readthedocs.io/en/stable/FAQ.html\n",
    "raw_ratings = data1.raw_ratings\n",
    "# Train = 70% of the data and Test = 30 % of the data\n",
    "threshold = int(.7 * len(raw_ratings))\n",
    "Train_raw_ratings = raw_ratings[:threshold]\n",
    "Test_raw_ratings = raw_ratings[threshold:]\n",
    "data1.raw_ratings = Train_raw_ratings"
   ]
  },
  {
   "cell_type": "code",
   "execution_count": 98,
   "metadata": {
    "id": "KcGiTD1tewNQ"
   },
   "outputs": [],
   "source": [
    "from surprise.model_selection import GridSearchCV\n",
    "param_grid = {'n_factors' : [5,10,15,20,30], \"reg_all\":[0.01,0.02]}\n",
    "svd_gs = GridSearchCV(SVD, param_grid, measures=['rmse'], cv=3,refit = True)\n",
    "svd_gs.fit(data1)"
   ]
  },
  {
   "cell_type": "code",
   "execution_count": 99,
   "metadata": {
    "id": "_csWs3niqqeH"
   },
   "outputs": [],
   "source": [
    "algo = svd_gs.best_estimator['rmse']"
   ]
  },
  {
   "cell_type": "code",
   "execution_count": 101,
   "metadata": {
    "colab": {
     "base_uri": "https://localhost:8080/"
    },
    "id": "BhJCr7Ebq6IC",
    "outputId": "2b27c5cf-ce07-42bd-fdc5-8d0b37efa753"
   },
   "outputs": [
    {
     "data": {
      "text/plain": [
       "<surprise.prediction_algorithms.matrix_factorization.SVD at 0x7f4e4263ff28>"
      ]
     },
     "execution_count": 101,
     "metadata": {
      "tags": []
     },
     "output_type": "execute_result"
    }
   ],
   "source": [
    "#Retrain on Trainset\n",
    "train_set = data1.build_full_trainset()\n",
    "algo.fit(train_set)"
   ]
  },
  {
   "cell_type": "code",
   "execution_count": 104,
   "metadata": {
    "colab": {
     "base_uri": "https://localhost:8080/"
    },
    "id": "4bMMuPsMrQE4",
    "outputId": "33144d28-434f-4232-a5f9-25c1549f1ddf"
   },
   "outputs": [
    {
     "name": "stdout",
     "output_type": "stream",
     "text": [
      "Biased accuracy on Train:\n",
      "RMSE: 0.9023\n"
     ]
    },
    {
     "data": {
      "text/plain": [
       "0.902306062897823"
      ]
     },
     "execution_count": 104,
     "metadata": {
      "tags": []
     },
     "output_type": "execute_result"
    }
   ],
   "source": [
    "predictions = algo.test(train_set.build_testset())\n",
    "print('Biased accuracy on Train:')\n",
    "accuracy.rmse(predictions)"
   ]
  },
  {
   "cell_type": "code",
   "execution_count": 106,
   "metadata": {
    "colab": {
     "base_uri": "https://localhost:8080/"
    },
    "id": "N79Yds5WrlTA",
    "outputId": "3a85dee4-7a20-4f72-a943-8e0b70535886"
   },
   "outputs": [
    {
     "name": "stdout",
     "output_type": "stream",
     "text": [
      "Unbiased accuracy on Test:\n",
      "RMSE: 0.9414\n"
     ]
    },
    {
     "data": {
      "text/plain": [
       "0.9414087066056804"
      ]
     },
     "execution_count": 106,
     "metadata": {
      "tags": []
     },
     "output_type": "execute_result"
    }
   ],
   "source": [
    "test_set = data1.construct_testset(Test_raw_ratings)\n",
    "predictions = algo.test(test_set)\n",
    "print('Unbiased accuracy on Test:')\n",
    "accuracy.rmse(predictions)"
   ]
  },
  {
   "cell_type": "code",
   "execution_count": 112,
   "metadata": {
    "colab": {
     "base_uri": "https://localhost:8080/"
    },
    "id": "89mAFzKOuCsM",
    "outputId": "efa613c8-1d41-4701-bb86-fb4f4ee31e92"
   },
   "outputs": [
    {
     "data": {
      "text/plain": [
       "[Prediction(uid='A2RU4U1JZ3DMP5', iid='B006OT06OQ', r_ui=3.0, est=4.1249204138724735, details={'was_impossible': False}),\n",
       " Prediction(uid='A1CMD08Z49PGKQ', iid='B006OT3AVW', r_ui=5.0, est=4.699079312611173, details={'was_impossible': False}),\n",
       " Prediction(uid='A2EN82VBJT44QP', iid='B006OU2RT2', r_ui=5.0, est=4.414931117388475, details={'was_impossible': False}),\n",
       " Prediction(uid='A2HV76MYH7UL3S', iid='B006OU95NS', r_ui=1.0, est=4.74800985832708, details={'was_impossible': False}),\n",
       " Prediction(uid='AQ2FC1DLKVD8H', iid='B006OVYI1G', r_ui=5.0, est=3.914198207989098, details={'was_impossible': False}),\n",
       " Prediction(uid='A1YN5I4FINMBTI', iid='B006OW1J1M', r_ui=5.0, est=4.6377885316930625, details={'was_impossible': False}),\n",
       " Prediction(uid='ABQWMANK4AR63', iid='B006OW1J1M', r_ui=3.0, est=4.142003768141899, details={'was_impossible': False}),\n",
       " Prediction(uid='AQIJ3ZEEVCIKU', iid='B006OW1J1M', r_ui=3.0, est=4.2556623052651785, details={'was_impossible': False}),\n",
       " Prediction(uid='AG8YP2XTC5X1I', iid='B006OYH5NQ', r_ui=5.0, est=4.386698757402404, details={'was_impossible': False}),\n",
       " Prediction(uid='A6VPK7X53QNAQ', iid='B006OZEIKS', r_ui=3.0, est=4.074182742347205, details={'was_impossible': False})]"
      ]
     },
     "execution_count": 112,
     "metadata": {
      "tags": []
     },
     "output_type": "execute_result"
    }
   ],
   "source": [
    "predictions[0:10]"
   ]
  },
  {
   "cell_type": "markdown",
   "metadata": {
    "id": "x7MBHxqZsONv"
   },
   "source": [
    "### Training SVD normally with n_factors = 5 and reg_all = 0.02"
   ]
  },
  {
   "cell_type": "code",
   "execution_count": 107,
   "metadata": {
    "colab": {
     "base_uri": "https://localhost:8080/"
    },
    "id": "QOZSaEKcUpmd",
    "outputId": "e20f20f1-5c0d-481b-be2e-de7cbcde6230"
   },
   "outputs": [
    {
     "data": {
      "text/plain": [
       "<surprise.prediction_algorithms.matrix_factorization.SVD at 0x7f4e420fca20>"
      ]
     },
     "execution_count": 107,
     "metadata": {
      "tags": []
     },
     "output_type": "execute_result"
    }
   ],
   "source": [
    "svd = SVD(n_factors=5,reg_all=0.02)\n",
    "svd.fit(train)"
   ]
  },
  {
   "cell_type": "code",
   "execution_count": 108,
   "metadata": {
    "id": "g_9pQuvtWn9v"
   },
   "outputs": [],
   "source": [
    "test_pred_svd = svd.test(test)"
   ]
  },
  {
   "cell_type": "code",
   "execution_count": 109,
   "metadata": {
    "colab": {
     "base_uri": "https://localhost:8080/"
    },
    "id": "CINLoc0pjdyI",
    "outputId": "70d6ee28-01e8-4457-ce1a-a019791e40dc"
   },
   "outputs": [
    {
     "data": {
      "text/plain": [
       "[Prediction(uid='A8CKH8XB33XGN', iid='B0044ZC2IA', r_ui=5.0, est=4.108300524206964, details={'was_impossible': False}),\n",
       " Prediction(uid='AWNJAY0M5UI70', iid='B00A7KYH8E', r_ui=5.0, est=4.603904126210906, details={'was_impossible': False}),\n",
       " Prediction(uid='AR18DH5SL9F73', iid='B004EI0EG4', r_ui=5.0, est=4.10634621972618, details={'was_impossible': False}),\n",
       " Prediction(uid='A1FXT4VNDA25LY', iid='B000IM5GBS', r_ui=2.0, est=4.505977877331646, details={'was_impossible': False}),\n",
       " Prediction(uid='A1MZL91Z44RN06', iid='B001UE6MIO', r_ui=4.0, est=4.5801177631171885, details={'was_impossible': False}),\n",
       " Prediction(uid='ANW6EGY12V5XS', iid='B0043241X8', r_ui=2.0, est=4.0769720880148, details={'was_impossible': False}),\n",
       " Prediction(uid='AE88D7OM7YU99', iid='B00APQM1GU', r_ui=5.0, est=3.9944240762799534, details={'was_impossible': False}),\n",
       " Prediction(uid='A1FDV3WPOHREY9', iid='B001U0O5QO', r_ui=2.0, est=4.2840004559048, details={'was_impossible': False}),\n",
       " Prediction(uid='A6VXZ1EEPRTLV', iid='B0029B25H4', r_ui=4.0, est=4.041376431073861, details={'was_impossible': False}),\n",
       " Prediction(uid='A3963R7EPE3A7E', iid='B00JJWH3PU', r_ui=5.0, est=4.4299668198391, details={'was_impossible': False})]"
      ]
     },
     "execution_count": 109,
     "metadata": {
      "tags": []
     },
     "output_type": "execute_result"
    }
   ],
   "source": [
    "test_pred_svd[0:10]"
   ]
  },
  {
   "cell_type": "code",
   "execution_count": 110,
   "metadata": {
    "colab": {
     "base_uri": "https://localhost:8080/"
    },
    "id": "3BgKzDwCjg6d",
    "outputId": "e33eb355-90cf-48a6-fc23-42e867cc459a"
   },
   "outputs": [
    {
     "name": "stdout",
     "output_type": "stream",
     "text": [
      "RMSE: 0.9846\n"
     ]
    },
    {
     "data": {
      "text/plain": [
       "0.9846101753001091"
      ]
     },
     "execution_count": 110,
     "metadata": {
      "tags": []
     },
     "output_type": "execute_result"
    }
   ],
   "source": [
    "accuracy.rmse(test_pred_svd)"
   ]
  },
  {
   "cell_type": "markdown",
   "metadata": {
    "id": "Z0ZeCsg0s0Am"
   },
   "source": [
    "#### Test RMSE score for SVD with gridsearch is 0.94 while normal SGD and knn with means perform poorly with RMSE scores almost 1 "
   ]
  },
  {
   "cell_type": "markdown",
   "metadata": {
    "id": "x7f4ZUeJtdxK"
   },
   "source": [
    "### Top 5 product recommendations based on collaborative filtering "
   ]
  },
  {
   "cell_type": "code",
   "execution_count": 111,
   "metadata": {
    "id": "58S-uFSotpBe"
   },
   "outputs": [],
   "source": [
    "from collections import defaultdict\n",
    "def get_top_n(predictions, n=5):\n",
    "  \n",
    "    top_n = defaultdict(list)\n",
    "    for uid, iid, r_ui, est, _ in predictions:\n",
    "        top_n[uid].append((iid, est))\n",
    "\n",
    "    for uid, user_ratings in top_n.items():\n",
    "        user_ratings.sort(key=lambda x: x[1], reverse=True)\n",
    "        top_n[uid] = user_ratings[:n]\n",
    "\n",
    "    return top_n"
   ]
  },
  {
   "cell_type": "code",
   "execution_count": 113,
   "metadata": {
    "id": "BCEVummct7ZG"
   },
   "outputs": [],
   "source": [
    "top_n = get_top_n(predictions, n=5)"
   ]
  },
  {
   "cell_type": "markdown",
   "metadata": {
    "id": "MZadkO9HuvN3"
   },
   "source": [
    "### Printing top 5 recommended products for each user"
   ]
  },
  {
   "cell_type": "code",
   "execution_count": 115,
   "metadata": {
    "colab": {
     "base_uri": "https://localhost:8080/"
    },
    "id": "vd1e3zkCuTOF",
    "outputId": "7949bdca-f2c6-435b-d3cf-c478b4671b05"
   },
   "outputs": [
    {
     "name": "stdout",
     "output_type": "stream",
     "text": [
      "A2RU4U1JZ3DMP5 ['B006OT06OQ', 'B007JIN6T8', 'B009U7WZCA', 'B00D1KBG5Y', 'B00D3F7F4I']\n",
      "A1CMD08Z49PGKQ ['B006OT3AVW', 'B006P88UQW', 'B006RG21ZS', 'B006T5JQ9Q', 'B00701M91U']\n",
      "A2EN82VBJT44QP ['B006OU2RT2', 'B006Q6PB9W', 'B0076DKLA8', 'B007BJHETS', 'B007ELZOM2']\n",
      "A2HV76MYH7UL3S ['B006OU95NS', 'B006VCP72W', 'B00702SCN8', 'B00752R4QO', 'B007PV6PM4']\n",
      "AQ2FC1DLKVD8H ['B006OVYI1G', 'B006TQ30TW', 'B006UMM1PO', 'B0072DKWQ0', 'B007GMPZ9Q']\n",
      "A1YN5I4FINMBTI ['B006OW1J1M', 'B0073FE1F0', 'B007PLL4CK', 'B007ZWLRSU', 'B0085U6TBQ']\n",
      "ABQWMANK4AR63 ['B006OW1J1M', 'B006RG0QC8', 'B006T7HXI0', 'B006WYVLNI', 'B00746LVOM']\n",
      "AQIJ3ZEEVCIKU ['B006OW1J1M', 'B006Q6QHDG', 'B006TI42QU', 'B006ZP8UOW', 'B007KXBUHW']\n",
      "AG8YP2XTC5X1I ['B006OYH5NQ', 'B0071BIQZC', 'B007X26S8Q', 'B0087G0NYM', 'B009NHAEXE']\n",
      "A6VPK7X53QNAQ ['B006OZEIKS', 'B006TR0FCQ', 'B0079UAT0A', 'B007BY0MIS', 'B007Q8GOGI']\n",
      "A3T4OHEAHOJ700 ['B006OZEIKS', 'B006ZZ2V9M', 'B0079TOEQQ', 'B007BY0MIS', 'B007CRWQ0Q']\n",
      "A3QNQQKJTL76H0 ['B006OZEIKS', 'B0074FGLUM', 'B0077KMY4G', 'B0079TOET8', 'B0079TOI8K']\n",
      "A2IFKH3TJ10387 ['B006OZEIKS', 'B007F5LYVM', 'B007MX6B3I', 'B007Z92RGE', 'B00829THEG']\n",
      "A2ZY49IDE6TY5I ['B006OZEIKS', 'B006ZBWV0K', 'B0071CE2ZE', 'B00746W3HG', 'B00746YZS6']\n",
      "A36MP37DITBU6F ['B006OZEIKS', 'B006TR0FCQ', 'B007BY0MIS', 'B007W7PIZ6', 'B007W7PK04']\n",
      "AN81JUYW2SL24 ['B006OZEIKS', 'B006U5EWLM', 'B006WYVGC4', 'B006ZS5ATM', 'B006ZW4H4C']\n",
      "A203OCQQ12MAVT ['B006OZEIKS', 'B0074WDFSQ', 'B0078RETQE', 'B008BMLW6K']\n",
      "A3VTOLNB5N6FVP ['B006OZEIKS', 'B006RG0QC8', 'B0076POAJE', 'B0079TOG82', 'B007C0Y8NQ']\n",
      "A34DQINHT6NYJU ['B006OZEIKS', 'B006SRYI9S', 'B0078K17WK', 'B0079TOEQQ', 'B0079UAT0A']\n",
      "A3BVN2QBNPBHCR ['B006OZEIKS', 'B0076POAOE', 'B0077JAEI0', 'B00793MIGK', 'B0079TOGDW']\n",
      "A3KZEGBTPH6MMF ['B006OZEIKS', 'B007PJ4PKK', 'B007PJ4Q4A', 'B007Y4TTWU', 'B00829TIEK']\n",
      "A1E3OB6QMBKRYZ ['B006OZEIKS', 'B0072XQI2W', 'B007VL8Y2C', 'B008U3038I', 'B0093HMKVI']\n",
      "ASFW4ZMNZJKDA ['B006OZEIKS', 'B006ZH0JBM', 'B00752R4S2', 'B0077E47SI', 'B00793MIJC']\n",
      "A1LA4K5JF78BER ['B006OZEIKS', 'B0076POAI0', 'B007C0Y8NQ', 'B007C1KNFW', 'B007Q8GOGI']\n",
      "AGEKVD8JPZQMT ['B006OZEIKS', 'B006ZGCH18', 'B007XDFNB8', 'B0081H8TRA', 'B00829THVO']\n",
      "A3FBM0RMCMAABV ['B006OZEIKS', 'B006ZBWV0K', 'B0076POAPS', 'B0079TOEQQ', 'B007BY0MIS']\n",
      "ARBKYIVNYWK3C ['B006OZEIKS', 'B0074BW614', 'B007IZNM1O', 'B007PJ4Q4A', 'B007WTAJTO']\n",
      "A1TQZUSOU22E9M ['B006OZEIKS', 'B007ABIY4Q', 'B007AHJNF4', 'B007FPIP2I', 'B007KTQU5I']\n",
      "A2V0I904FH7ABY ['B006OZEIKS', 'B007Q8GOHM', 'B007SHJIO2', 'B00829THK0', 'B0082D563I']\n",
      "AAQ9NJ480N9W5 ['B006P1811S', 'B006T4USAI', 'B0076BNK30', 'B0076KQRXG', 'B00834SJNA']\n",
      "A1FF2PLA84KNAE ['B006P18W58', 'B00752R5Z4', 'B007FFKUW6', 'B007MYZE26', 'B0083R9QFC']\n",
      "A2FHTXLKY1XJDB ['B006P24HR4', 'B006WBMXLK', 'B006X2P00O', 'B007K7JTY4', 'B0083KLVAC']\n",
      "A3OA4DV4L81N1D ['B006P2594Y', 'B006TZ8TVW', 'B006U43AMA', 'B007477COO', 'B007EUO2F8']\n",
      "A3V8P0O224OBDB ['B006P2594Y', 'B00711WD2O', 'B007HQR710', 'B007NWFGPM', 'B007PXV310']\n",
      "ADHA1W879JNT0 ['B006P4DI5E', 'B006U3O566', 'B00747N5ZE', 'B007R8U5QW', 'B008NMCPTQ']\n",
      "AA95DWUI3ODU ['B006P4DI5E', 'B00728ZAEY', 'B0073FE1F0', 'B00746LVOM', 'B007CMSEUM']\n",
      "AEZJTA4KDIWY8 ['B006P4DI5E', 'B006W41W7S', 'B008OHNZI0', 'B008THTWIW', 'B00966IREK']\n",
      "A2WB7LZ595CR50 ['B006P4DI5E', 'B006W3ZV5S', 'B006WVR9GY', 'B007471PZQ', 'B00766BF1E']\n",
      "A2NLI1M5K2MQ5E ['B006P4Y7WW', 'B0072B0UMI', 'B0079M711S', 'B007AJHGC4', 'B007IVDBTG']\n",
      "A25FL6VLD7S23S ['B006P53BK0', 'B00752NJMC', 'B00761SWWY', 'B007ECI7MA', 'B007ZFTSP6']\n",
      "A2Q7OJTVPIO2XH ['B006P57VOM', 'B006QR25WW', 'B0074WDDN8', 'B0074WDFSQ', 'B007TN0JKW']\n",
      "A30ADSBTWCORYC ['B006P58I30', 'B0076F3RS4', 'B007F7G6WW', 'B007S75FSA', 'B007VGGFZU']\n",
      "A3UR2N0ATGBCU8 ['B006P5TVXQ', 'B006QB1RPY', 'B0073HSHJY', 'B0075WEPJI', 'B007I7E9YG']\n",
      "A2C8I2RQ0WG940 ['B006P6DQ8Q', 'B006TORFU4', 'B007234F0O', 'B007A4JTDI', 'B007CS9WYI']\n",
      "A3L9E0YI7C5G0W ['B006P88USK', 'B007G5NNOW', 'B007N16ICI', 'B007V9SNNY', 'B0081ER9KG']\n",
      "A38KK0SZYEH5UD ['B006P88VSE', 'B006UPCGTC', 'B006VJT1K4', 'B00701AN5Y', 'B0076UXKDG']\n",
      "A32482Z7XIKDQX ['B006P88VSE', 'B006QB1RPY', 'B007BJHETS', 'B007TSRDWE', 'B007ZT1FAI']\n",
      "A1SHHQSPOWR00F ['B006P88VSE', 'B007GCENSK', 'B007P6ZLM4', 'B007QVSYRW', 'B0087Y1XS4']\n",
      "ANXEW7IDYDJEH ['B006P88VSE', 'B006W8U2MU', 'B007RESFR2', 'B007WTAJTO', 'B008915L2O']\n",
      "A2I5LVVQ7WXEH6 ['B006P88VSE', 'B0089E5R0W', 'B00902SFC4', 'B00EN27SHY', 'B00H09BOXQ']\n",
      "ALNE7Q71JFC0F ['B006P88VSE', 'B006U49XM6', 'B006UOYXMQ', 'B0076AYNXM', 'B007BJHETS']\n",
      "A18EA7MNLXP9H5 ['B006PCDJI2', 'B0074YRGIY', 'B007EV9GSA', 'B008DWGLG4', 'B008RJZQSW']\n",
      "AO09RWV40IX78 ['B006PH6LO6', 'B0074FGLUM', 'B0077D1LTW', 'B0079KZZKO', 'B007PRHNHO']\n",
      "A2L36AGL8CKY3D ['B006PHF3HW', 'B007BDJ5SM', 'B0083XTQ42', 'B008AF383S', 'B008V9959O']\n",
      "A2SKEQT0WTB954 ['B006PIU2KO', 'B006U1YUZE', 'B006UMM2BW', 'B0072FJEA8', 'B0075SUK14']\n",
      "AFR9GYKAHM37U ['B006PIXZQW', 'B0096239G0', 'B009F1INL8', 'B009SJ9PIM', 'B00A7O6PFI']\n",
      "A1PM7HH4F77NEH ['B006PJ6EDW', 'B0071BTJPI', 'B0074KBLAW', 'B008DCBS94', 'B00ESUOMFW']\n",
      "A3BI8BKIHESDNQ ['B006PJXU84', 'B00752NJMC', 'B007IHEPW2', 'B007P4VOWC', 'B007US83IG']\n",
      "A274MXTX3DYLUV ['B006PL97C0', 'B007H5WXRY', 'B007OCGF4W', 'B007PFQ0PC', 'B007YXA5TC']\n",
      "AEAFHD09X8044 ['B006POXKPM', 'B006XJYVZW', 'B0070U6N6I', 'B007VWEEQQ', 'B00894YWD0']\n",
      "A4WEZJOIZIV4U ['B006PP3ZK6', 'B006TT91TW', 'B006W8U2MU', 'B006XXQRSM', 'B007471PZQ']\n",
      "A2WBVO6X3KPMDT ['B006PTOFCE', 'B006UACRVO', 'B006V72AHC', 'B00752R4PK', 'B007EM7NES']\n",
      "A3NYBI5VMVEEIK ['B006PTP7JY', 'B006ZAC1ME', 'B007WQ7HR4', 'B008C3DC3Y', 'B0095N4A7C']\n",
      "A1WG97A0EFHYXN ['B006PTPAIC', 'B007B5YUMQ', 'B007C7XZME', 'B007G5L54C', 'B007OVKZD0']\n",
      "A1L5TA5UQF7EWE ['B006PU81QE', 'B006ZHX8S8', 'B007BJC7YU', 'B007PPZ2I8', 'B007PTCFFW']\n",
      "A2WF58BAWLVI95 ['B006PU81QE', 'B0075SUK14', 'B007JOO4YS', 'B007T28JK0', 'B008LR2B7E']\n",
      "A2WW57XX2UVLM6 ['B006PU8236', 'B006S8DS4I', 'B007B61ITI', 'B00834SJSK', 'B008OCF8BW']\n",
      "APBB297H3ZA5E ['B006PWGEQQ', 'B0072LATE2', 'B0074WDDN8', 'B0074WDGAI', 'B008D9AIMA']\n",
      "A2PMR2PIGWKCQ9 ['B006PWGEQQ', 'B007P4VOWC', 'B007ZZ6OW6', 'B00829THK0', 'B00884WH74']\n",
      "A1P4XD7IORSEFN ['B006PWGESY', 'B006QB1RPY', 'B006YBQ6V6', 'B0078PY0E2', 'B007BWTOHU']\n",
      "A19HT7YC1UW3D6 ['B006PWGEVQ', 'B006R2N8VS', 'B007GNN0AG', 'B007OXK0YM', 'B007P4YAPK']\n",
      "A1UTM65Y3G9HUL ['B006PWGEVQ', 'B00746W3HG', 'B00746YHV6', 'B007CZDS64', 'B007KRX3GY']\n",
      "ADOR3TR7GDF68 ['B006PWGEVQ', 'B006Q6RAAA', 'B006TK44D4', 'B006UIFTTS', 'B0072XQI2W']\n",
      "A2JOPUWVV0XQJ3 ['B006PWGEVQ', 'B0072FJEA8', 'B0078FBX24', 'B007DL79FS', 'B007NZGPAY']\n",
      "AENULRBQ2IE5I ['B006PWGEVQ', 'B006YB9082', 'B006ZP8UOW', 'B0074J7ITG', 'B009SPJ7PW']\n",
      "A24P4E3RJ6AX94 ['B006Q4EK7S', 'B006VFS4J2', 'B006WCZ7QW', 'B0075SUK14', 'B007M7RP6Q']\n",
      "A3EZFFPVS34AMO ['B006Q4MH28', 'B006RG0QC8', 'B006Z394L2', 'B0077B403S', 'B007BXD66E']\n",
      "A3SDJ70H00OQCJ ['B006Q5LJEY', 'B006U0AKTK', 'B007O9OQKA', 'B008OEHV6U', 'B0097FM3PE']\n",
      "A2QAOP52OEB5EV ['B006Q6RAB4', 'B006ZT4VA0', 'B00826L4GI', 'B009CN8VNY', 'B00A34TU7W']\n",
      "A3IK2VCQ007CJ ['B006QB1RPY', 'B006UMM1PO', 'B007476KRY', 'B0074FGNDC', 'B0074FGSBY']\n",
      "A2GMZZ6TDYOHY7 ['B006QB1RPY', 'B006U8CZNQ', 'B006WXK874', 'B007NZGPAY', 'B007R5YDYA']\n",
      "A2LFWJ8X817QGX ['B006QB1RPY', 'B006W8U2MU', 'B006ZZQ5EY', 'B0071NWYP8', 'B0077V88V8']\n",
      "A14Z6D3IRJ23F7 ['B006QB1RPY', 'B007PAHHWM', 'B007PODI1W', 'B007WTAJTO', 'B007Z419BI']\n",
      "A30XZK10EZN9V4 ['B006QB1RPY', 'B006W3ZWXE', 'B007G3DQI2', 'B007IJ7UKE', 'B007PJ4Q4A']\n",
      "A3CLWR1UUZT6TG ['B006QB1RPY', 'B006TLMNAE', 'B0077RKBSK', 'B007COEPO4', 'B007J4BOWI']\n",
      "A6XDZ1MJ0B1A2 ['B006QB1RPY', 'B006SOO1Q6', 'B00721TUNS', 'B0078GCM4Q', 'B007F9XHAY']\n",
      "A2NX6PABLIJLP1 ['B006QB1RPY', 'B006ZZQ5EY', 'B007OY5V68', 'B007R5YDYA', 'B007R5YGO2']\n",
      "A32NEDX6UVV8DE ['B006QB1RPY', 'B006ZP8UOW', 'B0079M711S', 'B007B31IAK', 'B007BXD6DW']\n",
      "A7Z2J9V37ABCO ['B006QB1RPY', 'B006TT91TW', 'B006ZS5ATM', 'B00746YZS6', 'B0076W9Q5A']\n",
      "A1Z4GII5CHCDG7 ['B006QB1RPY', 'B0076F3RS4', 'B0076W9Q5A', 'B0077CR5RK', 'B007M50PTM']\n",
      "A2MOJANFPX353G ['B006QB1RPY', 'B008ATU2X8', 'B008L2WS8Q', 'B008ZGKWQI', 'B0093HMKVI']\n",
      "A1NQFT941TOTT7 ['B006QB1RPY', 'B006T0CHLA', 'B0070UFMOW', 'B007F174OC', 'B007G0QJB6']\n",
      "AYGEKID3G7DPW ['B006QB1RPY', 'B0072B5CNU', 'B007B4ZDUA', 'B007TSDQUM', 'B007US83IG']\n",
      "A1CN1P7147QDJC ['B006QB1RPY', 'B006ZGCH18', 'B007WT9SSC', 'B007ZW2LY4', 'B0080PLH0Y']\n",
      "ASJSX783R5HTZ ['B006QB1RPY', 'B006T4USAI', 'B006TAP096', 'B0073K645A', 'B00752R4PK']\n",
      "A1BVE2ZIBKJ7YI ['B006QB1RPY', 'B006V4H99E', 'B00726185Q', 'B0073HSH8U', 'B0073N2CTO']\n",
      "A21T0D2F7SKG5S ['B006QB1RPY', 'B00COYOAYW', 'B00G003CKY']\n",
      "A11R5VW7IM6ISQ ['B006QB1RPY', 'B006T9B6R2', 'B007WTAJTO', 'B008XVAVAW', 'B00CXACPN0']\n",
      "A2KYRPDKVBI2R4 ['B006QB1RPY', 'B006YLYYZ6', 'B006ZHX8S8', 'B007F86YPA', 'B007GFX0PY']\n",
      "ABMF4UC4Z00NT ['B006QB1RPY', 'B006U1YVZ8', 'B006UMM1PO', 'B007I5JT4S', 'B007M506WS']\n",
      "A21GW4L8FO307V ['B006QB1RPY', 'B00752VLRC', 'B007BFV2O0', 'B007HJ5R32', 'B007NU35J8']\n",
      "A1YEPFLLH42OU1 ['B006QB1RPY', 'B006QTEV22', 'B006TT91TW', 'B006V72AHC', 'B0071BJK34']\n",
      "A2D1ZQEFS1NBH2 ['B006QDYH9U', 'B006TG7KWU', 'B0074BW614', 'B007JGB8R2', 'B007R5YDYA']\n",
      "A307Y3LMCVEZS1 ['B006QH5D9Y', 'B008OUKZZI', 'B00H2YWF5K', 'B00JTHKB04']\n",
      "A2I2KPNJDQ9SL0 ['B006QHG1Q8', 'B006ZP8UOW', 'B007KFLV9W', 'B007R0J2YQ', 'B007SM7O2U']\n",
      "AK3GKIV8DEY8B ['B006QLIW1Q', 'B0085ZG95M', 'B008C3DEXM', 'B009YYFO0E', 'B009YYFY4K']\n",
      "A3TR3KLL5PXSZ8 ['B006QMWG08', 'B007ADFTWE', 'B007Z0MN30', 'B0087KEDOO', 'B00908IFAU']\n",
      "A206CGM6J75UJY ['B006QNMZZ8', 'B006W8U2MU', 'B007477COO', 'B0079VGCM8', 'B007KZQMO6']\n",
      "A32HSNCNPRUMTR ['B006QNMZZ8', 'B007F9B0BW', 'B007GNMW6O', 'B007PJ4Q4A', 'B007ZS3O62']\n",
      "A3QDMDSANPYGUX ['B006QOG4KE', 'B007474Y04', 'B007AL0372', 'B007VG78AQ', 'B00866DUR0']\n",
      "A1ZU55TM45Y2R8 ['B006QOJ3YI', 'B006U3ZIM6', 'B006WHPQCC', 'B0079UAT0A', 'B007B5QQ96']\n",
      "A1IU7S4HCK1XK0 ['B006QOLYPO', 'B006TZGBYE', 'B006WVR9GY', 'B0071NWYP8', 'B0079R8KO0']\n",
      "A132ETQPMHQ585 ['B006QOM1FG', 'B006RAF0NY', 'B007BYLO4E', 'B00825BZUY', 'B0087NZ31S']\n",
      "A11KZ906QD08C5 ['B006QPKSPU', 'B006WVR9GY', 'B006XXQRSM', 'B0074BW614', 'B0074IOE62']\n",
      "A3SU7JSTPH9CC9 ['B006QR25WW', 'B007TN2PF4', 'B007VWZVB8', 'B0081ER9KG', 'B0084FM5JC']\n",
      "A3IY316DRNF5F2 ['B006QR8W6K', 'B006W8U2MU', 'B006WSQUVM', 'B0070B6BKU', 'B0071CU6HC']\n",
      "A1QNYLBG73QRNF ['B006QR8W6K', 'B0078JFPVA', 'B0078JFQ0K', 'B0078JFQD2', 'B0081FLFQE']\n",
      "A3HR0ZZOFKQ97N ['B006QRENTU', 'B006RE6BSI', 'B006U3O566', 'B006WAGG14', 'B0075WEPJI']\n",
      "A1U5IJHJK84S54 ['B006QV7WM6', 'B006TAO7CM', 'B0073GJFAA', 'B0076UXKDG', 'B007B5PPF2']\n",
      "A23D13HKTA95WX ['B006QV7WM6', 'B007WUPDRQ', 'B00834SJNA', 'B0088PUEPK', 'B008CTB0B4']\n",
      "A39137LW12KK7B ['B006QX8P3E', 'B0072N4TNW', 'B0074BW614', 'B007ICCYQ6', 'B007KEZMX4']\n",
      "A1XEQGYY1IL8CD ['B006QYGFJ4', 'B006TO8490', 'B006X25XTW', 'B007ZQ4KYO', 'B0082N98CI']\n",
      "A1CST2WUA32GP0 ['B006QZ7EKW', 'B007POCJ80', 'B007Q8JGWM', 'B007SM7O2U', 'B008I646WG']\n",
      "A38C12950IM24P ['B006QZ96XA', 'B0071NWYP8', 'B0074BW614', 'B0074FGLUM', 'B0078LSTWU']\n",
      "A1AH8033GWKBY7 ['B006QZ96XA', 'B006ZH0JQM', 'B0071BTJPI', 'B007B6YPAW', 'B007BZ1092']\n",
      "AC9QEWWN4W9MC ['B006R0FI3Q', 'B006V72AE0', 'B006ZTMEZ4', 'B007FQNK2W', 'B007PRHNHO']\n",
      "A3INN916E4VION ['B006R239IA', 'B006TT91TW', 'B006V72AHC', 'B0070UFMOW', 'B0073ESZ58']\n",
      "A38V76R24EJSHA ['B006R2HZZI', 'B006ZI35J4', 'B00713DPM4', 'B0073LC8N6', 'B0076S5022']\n",
      "A2KZOIOFXXMC1H ['B006R2N8VS', 'B006R3AGWG', 'B0077CR5RK', 'B007PR8NQO', 'B0083L10DY']\n",
      "A3UW23DBF2KHWC ['B006R3231I', 'B006YG8ZNI', 'B007TN0IGM', 'B0082E9K7U', 'B0087BIM3Q']\n",
      "A195EZSQDW3E21 ['B006R3231I', 'B006T60QNK', 'B006T7QUA2', 'B006ZN0664', 'B0071RTCTU']\n",
      "A2T3S3VTW65VO5 ['B006R3231I', 'B006U1YVZ8', 'B0074FGLUM', 'B00792VT98', 'B007KXI2R8']\n",
      "A1NJHKPHD4YWZV ['B006R38IJY', 'B007RZB3KM', 'B00863L2MS', 'B008OD1BNK', 'B00AP81T7U']\n",
      "AS269J1OGZT1V ['B006R38IJY', 'B0070HPQ28', 'B0072LYIDU', 'B007EICZTU', 'B00822GIH2']\n",
      "A35KBAQ4VBNQ6L ['B006R38IJY', 'B006UUTDNE', 'B0079M711S', 'B007BLF22M', 'B007FL6100']\n",
      "A18NDN2CIG2TKR ['B006R38IJY', 'B0084Y5YAA', 'B00857RNS2', 'B008JNKI84', 'B008OXUX1Q']\n",
      "A3DWO5RJDA430F ['B006R38IJY', 'B006W8U2MU', 'B0070QPA3Y', 'B0071STU1O', 'B007E4PUT6']\n",
      "ASHJAZC9OA9NS ['B006R38IJY', 'B0083WYFWG', 'B0087N0GH4', 'B0087N0SBI', 'B008XW7T8I']\n",
      "A7KBAXO177NND ['B006R3EHSK', 'B006Z8C5AY', 'B007FDE4Y8', 'B007MYDWKW', 'B00803N2AY']\n",
      "A2M9ME0N2S3R39 ['B006R5KHSM', 'B0079G1TA8', 'B007C81JL2', 'B007RFW1NA', 'B008L1OCF4']\n",
      "AT6CZDCP4TRGA ['B006RA0ODK', 'B00740MR78', 'B007ABIY4Q', 'B007POCCBY', 'B008MH9DFG']\n",
      "A1Q5P5ML3176C0 ['B006RAW2BM', 'B006UMMPGE', 'B006XAGB1S', 'B0070QNGFS', 'B00737M15U']\n",
      "A34C9AFFZOI45T ['B006RBK9ZW', 'B0071CU6HC', 'B00723KZTY', 'B007NG3WR2', 'B007Q45EF4']\n",
      "A2IIAQ7VVAHXTD ['B006RBMJ46', 'B00746YHV6', 'B007I5JT4S', 'B00894YP00', 'B008CS5T76']\n",
      "A3IOQ7NVVLAUEE ['B006RBODUO', 'B006TTQGF4', 'B006VAD2C6', 'B006VK91IA', 'B0073FE1F0']\n",
      "AEN44U6T9R93 ['B006RC0ZI2', 'B006STFISQ', 'B006U5S40W', 'B006ZP8UOW', 'B0077EAOSU']\n",
      "A2AY4YUOX2N1BQ ['B006RCMC4W', 'B006TT91TW', 'B006VZI4QA', 'B0071I3RWM', 'B0075SUHKI']\n",
      "AFHYEO3Y1IIDD ['B006RD5WQG', 'B006T9FURY', 'B0079R8KO0', 'B007GR44PM', 'B007JCNOHI']\n",
      "A23WPWLYT3P1CZ ['B006RE204M', 'B006W8U2MU', 'B007BFM3CK', 'B007RQ3J7G', 'B007SZ0EOW']\n",
      "A8CKH8XB33XGN ['B006RF7KFK', 'B006RG232O', 'B006U3O566', 'B006W1CWQQ', 'B00760VRCM']\n",
      "A1J5HIF41ENSMZ ['B006RG0QC8', 'B006U3O566', 'B006WYVJ6W', 'B007477COO', 'B0076POAOE']\n",
      "A3RGHO0Q938FRS ['B006RG0QC8', 'B006THIULY', 'B0072ZQGIG', 'B0076POB8O', 'B007XOQUY6']\n",
      "AQB4DH57MSZSC ['B006RG0QC8', 'B0076POAI0', 'B0077KMY4G', 'B0078LSTWU', 'B007PTCFFW']\n",
      "A3LWC833HQIG7J ['B006RG0QC8', 'B006ZBWV0K', 'B0072DKWQ0', 'B0074BW614', 'B0079T724W']\n",
      "A2VAD79S4A06DD ['B006RG0QC8', 'B006TF3746', 'B00752R4S2', 'B0079UAT0A', 'B00884WH74']\n",
      "A1LYMYNURB9EWW ['B006RG0QC8', 'B007VL8Y2C', 'B007ZW7YEQ', 'B00884WH74', 'B009HQCAPQ']\n",
      "A19HKRB4LU5YR ['B006RG0QC8', 'B007PTCFFW', 'B007Q8GOGI', 'B007VOGRDC', 'B00829THVO']\n",
      "A2ME89MSWVG9NF ['B006RG0QC8', 'B00728Z9JA', 'B0076POAPS', 'B007FEEZ00', 'B007GMPZ9Q']\n",
      "A30J7WQV0ZNRXG ['B006RG0QC8', 'B006X2HIR2', 'B0072B5E4M', 'B0079T722E', 'B007C8GMPU']\n",
      "AGGAQLXPVGM5D ['B006RG0QC8', 'B007FL6100', 'B007IV7KRU', 'B007L5NKZO', 'B007TSERQO']\n",
      "AJX9A4Q19UTJU ['B006RG0QC8', 'B007FPIQ0E', 'B007JCNOHI', 'B007Q8GOGI', 'B007Q8GOHM']\n",
      "AL1XV4L25FZ2S ['B006RG0QC8', 'B0078I832O', 'B007T9WEXG', 'B008QSJXJM', 'B008YFB4FS']\n",
      "ATS2855497V0I ['B006RG0QC8', 'B00746LVOM', 'B0074BW614', 'B0079TOEQQ', 'B007FPIRN0']\n",
      "AYMD77ITD15PT ['B006RG0QC8', 'B006W3ZWXE', 'B007EV9GSA', 'B007IJ7UHC', 'B007NZGPAY']\n",
      "A313H6238N589 ['B006RG0QC8', 'B007MX9XU6', 'B007WTAJTO', 'B008E0VFZC', 'B008N0ATDW']\n",
      "A2QI2NTDTMK2FV ['B006RG0QC8', 'B007JBN6AO', 'B00834SJNA', 'B008HK3YOO', 'B008M11XPA']\n",
      "A3U41ZL33SS92P ['B006RG0QC8', 'B006VCP72W', 'B0071AEHHO', 'B0076POAI0', 'B0079TOEQQ']\n",
      "A2JMJVNTBL7K7E ['B006RG0QC8', 'B0079T724W', 'B0079TOEQQ', 'B007C0Y8NQ', 'B007FPIQ3Q']\n",
      "A13WOT3RSXKRD5 ['B006RG0QC8', 'B0079TOG82', 'B007AHJNF4', 'B007NZGPAY', 'B007PRHNHO']\n",
      "A2PSD2R9A1CXG7 ['B006RG0QC8', 'B006ZH0KVG', 'B0074BW614', 'B0079TOI8K', 'B007BXD66E']\n",
      "A18S2VGUH9SCV5 ['B006RG0QC8', 'B0072ZQGIG', 'B00746W3HG', 'B0076POAI0', 'B0079TOGDW']\n",
      "A1F1A0QQP2XVH5 ['B006RG0QC8', 'B006TF37H8', 'B00746LVOM', 'B00746YHV6', 'B007477COO']\n",
      "AXR3CV6A4FMBG ['B006RG0QC8', 'B006ZH0L2E', 'B007FGH6WM', 'B007IQRD9K', 'B007X3VECU']\n",
      "A3F3B1JPACN215 ['B006RG0QC8', 'B006VJREFS', 'B007BY0MIS', 'B007Q8GOGI', 'B00829THEG']\n",
      "A26BDXG9KVH7SU ['B006RG0QC8', 'B0079R8KO0', 'B007B6YPAW', 'B007C0Y7RI', 'B007FPIQZ4']\n",
      "A316XO4RWX21YN ['B006RG0QC8', 'B006ZH0JBM', 'B0075SUJ4W', 'B007JGBB6K', 'B007X6XJ98']\n",
      "A3UKWQS8SRW6IO ['B006RG0QC8', 'B007B64ND6', 'B007YKUWN4', 'B00829THVO', 'B0084Y9V54']\n",
      "A9LNWA25IM2DX ['B006RG0QC8', 'B0079T724W', 'B007FPIQZ4', 'B007PZYAJ0', 'B00829THK0']\n",
      "A2IFGGXG3YV3Y6 ['B006RG0QC8', 'B006UMM1PO', 'B007B61GAO', 'B007JCNOHI', 'B007PMA2FY']\n",
      "A31RZMVAFMLB8B ['B006RG0QC8', 'B007T0NM2M', 'B007WTAJTO', 'B00AAIPT76', 'B00AAIPVH4']\n",
      "A1MRRMHGV3PN5W ['B006RG0QC8', 'B006TF3746', 'B0079R8KO0', 'B0079TOGDW', 'B0079UAT0A']\n",
      "A2WLNSZ9U0T1S3 ['B006RG0QC8', 'B006SVV6HG', 'B0076POAI0', 'B0079T724W', 'B0079TOEQQ']\n",
      "A3G7BEJJCPD6DS ['B006RG0QC8', 'B007LBOCVY', 'B007SHJIO2', 'B0087NZ31S', 'B0088CJT4U']\n",
      "A2E1EFNIZL2FVA ['B006RG21ZS', 'B006ZBWV0K', 'B0079T724W', 'B007FPIP6Y', 'B007FPIRSU']\n",
      "AVSMRPI23DQI2 ['B006RG21ZS', 'B006WAGG14', 'B007X6XJ98', 'B008PQAFRO', 'B0094R4POC']\n",
      "A2KOV8XWZOZ0FQ ['B006RG21ZS', 'B006W3ZV6W', 'B0074WVYNO', 'B007P71IM0', 'B007RNCK60']\n",
      "AFFVUZEGP1FDQ ['B006RG21ZS', 'B007PKLXQS', 'B007PM8AFS', 'B00829THK0', 'B0082E9K7U']\n",
      "A2J3VCGBNDLAKF ['B006RG232O', 'B007000QQ6', 'B0072XQI2W', 'B0077V88W2', 'B007BJHETS']\n",
      "A3OXHLG6DIBRW8 ['B006RG23JC', 'B006TT91TW', 'B006VK814K', 'B006WHPQCM', 'B006WVR9GY']\n",
      "ACJT8MUC0LRF0 ['B006RG23JC', 'B006TL5KWC', 'B006WVR9GY', 'B0071BTJPI', 'B0075WEYZI']\n",
      "A1E1LEVQ9VQNK ['B006RG23JC', 'B0070JNULA', 'B0070S7DDM', 'B0074BW614', 'B0078AFGW2']\n",
      "A1UQBFCERIP7VJ ['B006RG23JC', 'B006T7KQDO', 'B006WHPQE0', 'B006WVR9GY', 'B0073FE1F0']\n",
      "A22CW0ZHY3NJH8 ['B006RG23JC', 'B006T9B6R2', 'B006TT91TW', 'B006U3ZIM6', 'B00703BLCG']\n",
      "A1ODOGXEYECQQ8 ['B006RG23JC', 'B006U1YUHC', 'B0074KBLAW', 'B0076MBOC8', 'B0076POAPS']\n",
      "A3S3R88HA0HZG3 ['B006RG23JC', 'B006TT91TW', 'B006WVR9GY', 'B006ZH0JBM', 'B006ZH0KVG']\n",
      "A1ZTR0FR5AW9B4 ['B006RHKE9M', 'B006SL2WRE', 'B006SSV3VI', 'B006UMM15O', 'B007FFIF0K']\n",
      "A145LBW8ZHF0TW ['B006RIMS9U', 'B007F9XHBI', 'B007Y8DJEA', 'B009LL9VDG', 'B00E4JT1CQ']\n",
      "A2EW01G2LNJN06 ['B006RJEQ2G', 'B007JF8FD8', 'B007TS9DHW', 'B007ZSYHYU', 'B00833IYXG']\n",
      "AUUV3XDYB16X5 ['B006RJQ74G', 'B0079M711S', 'B007BF9Q4I', 'B007P71IM0', 'B008R79W3E']\n",
      "A2FRKEXDXDN1KI ['B006RK370M', 'B006WVR9GY', 'B0076MBOC8', 'B007ABIY4Q', 'B007AHJNF4']\n",
      "AG0PM9IAHQ06C ['B006RKUTGW', 'B0074BW614', 'B007639744', 'B007B6XX64', 'B0081EC08M']\n",
      "AWHL379EE14K7 ['B006ROO1XA', 'B006T7QRN2', 'B006W41W7S', 'B006Y61KY4', 'B007B31IAK']\n",
      "A298GL2D0BHGKZ ['B006ROO1XA', 'B0073ESZ58', 'B007CS9WYI', 'B0087NZ31S', 'B0087Y1XS4']\n",
      "A14MZJTZAQS6CV ['B006ROO1XA', 'B006Y54IK8', 'B00741IGFY', 'B007FGYZFI', 'B007G3S4OS']\n",
      "A21INUA35HX4XQ ['B006ROO1XA', 'B006W8U2MU', 'B006ZH0JBM', 'B0076D099Q', 'B0079DNGYS']\n",
      "A28I5UM0FT3I6T ['B006RPCI5M', 'B0077J5ME6', 'B007JPVT8G', 'B007P4YAPK', 'B007WTAJTO']\n",
      "A2NYK9KWFMJV4Y ['B006RQC0B8', 'B006TL5KWC', 'B006WS3GOQ', 'B00769VUV6', 'B007KEZMX4']\n",
      "A1L0P1ZP5FD6EC ['B006RQC1CQ', 'B0073DP3XG', 'B007DNG9DY', 'B007EELV58', 'B007EELVDK']\n",
      "A3SL0HA6422W4M ['B006RUIWC0', 'B0070U6N6I', 'B0070UFMOW', 'B007GC4L7S', 'B007RRTO2Y']\n",
      "A3T7V207KRDE2O ['B006RWNL1K', 'B006TF3746', 'B006TF37H8', 'B006YQBKE4', 'B007472CIK']\n",
      "A4S2WAQVQR6PI ['B006S3O3MO', 'B0074GTZTU', 'B007A547JI', 'B007HQR710', 'B0083CA7K0']\n",
      "A1VEELTKS8NLZB ['B006S6BKZO', 'B006YTUQ1O', 'B006Z1J2JI', 'B006ZAHMPA', 'B007GC4L7S']\n",
      "A1VFX417XDNWIU ['B006S8DS4I', 'B006TF3746', 'B006U1YUW2', 'B00752R8KG', 'B007EM7NES']\n",
      "A2TVH2OBNXYXHV ['B006S8DS4I', 'B006ZH0JBM', 'B0074WVYNO', 'B0076POAI0', 'B0078I832O']\n",
      "AN2IZT80ZUNJN ['B006SDY8ZQ', 'B007CAQTKG', 'B007CF78JM', 'B007FDE4Y8', 'B007V2SQS8']\n",
      "A39K52QDP4C3ZS ['B006SF68OS', 'B006ZZUK5Y', 'B0070UFMOW', 'B0076NA716', 'B007BTOPH2']\n",
      "A28621TSIR5EOG ['B006SF6ANW', 'B006SF6BCM', 'B006W8U2MU', 'B007GFX0PY', 'B007WTAJTO']\n",
      "AGX2K0FMS0IVL ['B006SHXUAG', 'B0073HSK0K', 'B007Q2M17K', 'B007WTAJTO', 'B008GVD7F0']\n",
      "A1CSRR7FCKBL9M ['B006SJSBBM', 'B0074LEMDO', 'B00763WVG0', 'B0079SM06I', 'B007GGC3P6']\n",
      "A2TN0U8173HM7A ['B006SLV25C', 'B0076R7F1M', 'B007BG3FE4', 'B007Q45EF4', 'B007QTN05A']\n",
      "A100UD67AHFODS ['B006SOLITY', 'B006X2HIR2', 'B0071369M2', 'B0071BTJPI', 'B00746LVOM']\n",
      "A2Y29IRSI08F0I ['B006SOLITY', 'B007PRHNHO', 'B0089E5R0W', 'B008R7EWEI', 'B0097BEFYA']\n",
      "A23ZNGL704AW7O ['B006SOLITY', 'B007KZQM8W', 'B0081FLFQE', 'B00825BZUY', 'B00884WH74']\n",
      "A2OS3TIVAKUAHG ['B006SOLITY', 'B006U1YULS', 'B00752VKTG', 'B007BIUKLI', 'B007JCNOHI']\n",
      "A3N4I2KRSMACW8 ['B006SOLITY', 'B007G51UWY', 'B007JOO4XE', 'B007RFCGLM', 'B008XEYT5M']\n",
      "A3PJJTAKISAFI9 ['B006SOLITY', 'B0073FE1F0', 'B007VD36K0', 'B00824948U', 'B0083J8D90']\n",
      "A18A5VSD0IPN14 ['B006SOLITY', 'B00752R4PK', 'B007G5NNOW', 'B0081EC08M', 'B0085IXB3C']\n",
      "A20ZM879PCQQEZ ['B006SOMERY', 'B007MXGG5Q', 'B00836H2DQ', 'B0085TBFNO', 'B0087N049Y']\n",
      "A19X4BF861LQST ['B006SONX74', 'B00740MR78', 'B007BWWVAC', 'B0083U94D8', 'B0094NXBZ0']\n",
      "A1EQ5D5JRSW23K ['B006SQGRSE', 'B006WVR9GY', 'B0074BW614', 'B007SHJIO2', 'B008HK3WK0']\n",
      "A1FDSZISWIXH1A ['B006SQGRSE', 'B0079UAT0A', 'B007BY0MIS', 'B007Q8GOGI', 'B007Q8GOHM']\n",
      "A1R377IPZOKLMM ['B006SRYI9S', 'B006VCP72W', 'B00752QXZ2', 'B007RTACDM', 'B007YKUWN4']\n",
      "A2RWHTNM5P3I8Y ['B006SRYI9S', 'B006WHPQUO', 'B006Z1J2JI', 'B007C0Y7RI', 'B007KZQM8W']\n",
      "A1R76R4E6A8S3B ['B006SVV6HG', 'B006WYVJ6W', 'B00829THK0', 'B00829THVO', 'B00829TIEK']\n",
      "A3G5MOHY1U635N ['B006SVV6HG', 'B006YTZUA6', 'B007ZT4N5C', 'B00829TIA4', 'B008LCYIEI']\n",
      "A3V2EZ6MA32FF6 ['B006SVV6HG', 'B007ABIY4Q', 'B007BY0MIS', 'B007JGBD2M', 'B007K3SB6K']\n",
      "A1JZFGZEZVWQPY ['B006SVV6HG', 'B006ZBWV0K', 'B00723PZ2G', 'B007CFRF72', 'B007I5JT4S']\n",
      "A2V5M5EJPOD2IU ['B006SVV6HG', 'B006WYVDWC', 'B007BJHETS', 'B007KZQM8W', 'B007PG02Q4']\n",
      "ATFBVUXDIRXT6 ['B006SVV6HG', 'B007BYLLNI', 'B007R5YDYA', 'B007Y4TTWU', 'B00829THEG']\n",
      "A1GWG5CWLKJ7ET ['B006SVV6HG', 'B006ZGB58Y', 'B0081H8TRA', 'B00829THEG', 'B0088CJT4U']\n",
      "A3FOSLM5G1BO63 ['B006SVV6HG', 'B006WHPQD6', 'B0076POAI0', 'B0079TOEQQ', 'B0079UAT0A']\n",
      "A1DB5QPH7WO488 ['B006SVV6HG', 'B006YTZUA6', 'B0076MBOC8', 'B007B4UKOE', 'B007KZQMO6']\n",
      "A3963R7EPE3A7E ['B006SVV6HG', 'B0074FGMEW', 'B007KFLV9W', 'B007X3VC7W', 'B008DWCRQW']\n",
      "A267FU71Z01CIH ['B006SVV6HG', 'B0079R8KO0', 'B0079UAT0A', 'B007PPYXOC', 'B007W7PK04']\n",
      "A1T9MILRRZ00F8 ['B006SVV6HG', 'B007ZW7YJQ', 'B0081FLFQE', 'B00829THEG', 'B00829TIA4']\n",
      "A2KHG3JOFXQ4CE ['B006SVV6HG', 'B007H3L24Q', 'B0081FLFQE', 'B00829TIEK', 'B008DWCRQW']\n",
      "A20L63B48RPSOH ['B006SVV6HG', 'B007IJ7UHC', 'B007RFW1NA', 'B0080CXSOU', 'B00829THK0']\n",
      "A3NVZTGPORNPRW ['B006SX31AY', 'B007FGH78A', 'B007R21K9E', 'B007RFFTUW', 'B007ZUDOKG']\n",
      "A2N3JSOIQ6ZNFL ['B006T0CHLA', 'B006WAGG14', 'B00763YT3S', 'B007K90QB2', 'B007RIFKTY']\n",
      "A1XK4VP74IB9TQ ['B006T0CHLA', 'B007RFW1NA', 'B007YWMCA8', 'B0080FFZ8E', 'B008MAZHW6']\n",
      "A1NMM0RDRF6R84 ['B006T0R8FA', 'B006YTQ7B2', 'B0072XQILS', 'B007K94I2U', 'B007QXMG60']\n",
      "A6KL17KKN0A5L ['B006T3AUCU', 'B007D00FBO', 'B007Y008R4', 'B00894YP00', 'B009KG77D8']\n",
      "AYLLSFYS3UP1H ['B006T3RM08', 'B006T9B6R2', 'B006TT91TW', 'B00746W3HG', 'B0076W9Q5A']\n",
      "A2XHOLOLKGV1FE ['B006T3RM08', 'B006U1YUJ0', 'B006ZH0JBM', 'B0073FE1F0', 'B0074703CM']\n",
      "A6TBR6L2D4XKC ['B006T4USAI', 'B00854NP7S', 'B008I628QC', 'B00972M942', 'B0099Y21ZA']\n",
      "A2BIJMB2BITQUM ['B006T65CXE', 'B0078J2HS4', 'B007GR44PM', 'B007WTAJTO', 'B00829THEG']\n",
      "A2ZY3S7SD3QO8Z ['B006T7HXI0', 'B0074FGNDC', 'B007FPIQX6', 'B0081TXIXI', 'B00829THK0']\n",
      "AHQRU3MRORIWQ ['B006T7HXI0', 'B006THIULY', 'B007PFWW0Y', 'B00829THK0', 'B00834SJNA']\n",
      "A31RULW0KNYJ5H ['B006T7HXI0', 'B006WVR9GY', 'B00744QNA6', 'B0074WVYNO', 'B0078SAIUY']\n",
      "A1J75JJ0Q2OEJN ['B006T7HXI0', 'B00766BF1E', 'B0076POAI0', 'B0079TOG82', 'B007CU56X2']\n",
      "ADLVFFE4VBT8 ['B006T7KQDO', 'B006YB9082', 'B0071BTJPI', 'B0073ESZ58', 'B0073FE1F0']\n",
      "AW5JSQCHC2ZJO ['B006T7KQDO', 'B007PJ4PKK', 'B007WVA2PI', 'B0082XN57W', 'B00871F9E6']\n",
      "A2503LT8PZIHAD ['B006T7KQDO', 'B006W3ZV6W', 'B00742BLO6', 'B0074703CM', 'B0074VEPI6']\n",
      "A34UVV757IKPVB ['B006T7KQDO', 'B00793MIJC', 'B0079UAT0A', 'B007JCNOQO', 'B0082DCPQ4']\n",
      "A1BBYSMT9YCODI ['B006T7KQDO', 'B007FPIQ0E', 'B007ZW7YEQ', 'B00829TIEK', 'B008EQYRRY']\n",
      "AMUP8DYE7EAN2 ['B006T7KQDO', 'B0079XKYP2', 'B007GMPZ9Q', 'B007KXBUHW', 'B00829TIA4']\n",
      "A1VRANSQ0WF1YS ['B006T7KQDO', 'B007B31IAK', 'B0081RNO52', 'B008O37J04', 'B009SJNTIY']\n",
      "ALQ4USPEQ9L5N ['B006T7KQDO', 'B0077SAYY0', 'B0079TOEQQ', 'B0079UAT0A', 'B007PJ4P4G']\n",
      "A3CG93783LP0FO ['B006T7QRMS', 'B00728Z9JA', 'B0073HSH08', 'B0075SUHKI', 'B0078AFGW2']\n",
      "A3PU3EDJ2FG1AW ['B006T7QRN2', 'B006TR0FCQ', 'B0072B5COY', 'B0072B5DZC', 'B0076PEU1C']\n",
      "A2W9I628I6SE1U ['B006T7QRN2', 'B006VJREFS', 'B0071BTJPI', 'B00747WW9E', 'B0079TOEQQ']\n",
      "A3GVXKCTFN3YDN ['B006T7QRN2', 'B00718X2TU', 'B0073XTHLA', 'B0076PEM6K', 'B007JP165M']\n",
      "A11FX8HL2ANK6T ['B006T7QRN2', 'B00729VF0Q', 'B007DL79FS', 'B007SHJJFU', 'B0081TSZ18']\n",
      "A35OIWPVTGW3UC ['B006T7QSV8', 'B006ZAHMZA', 'B00722JCMQ', 'B00728ZAEY', 'B00728ZBA2']\n",
      "ANW6EGY12V5XS ['B006T9AE0C', 'B0074CQRBS', 'B007JPVT8G', 'B007KA7BAA', 'B007M5NKRQ']\n",
      "AVPNQUVZWMDSX ['B006T9B6R2', 'B006YG9MU8', 'B00742BLO6', 'B0078ZZ5Q4', 'B0079T722E']\n",
      "A3OZA8HNJM26DC ['B006T9B6R2', 'B007B31IAK', 'B007HSKSMI', 'B007N6N1NC', 'B007R5YDYA']\n",
      "A1XE3M22N91451 ['B006T9B6R2', 'B006XDBUZ2', 'B007KTY4QU', 'B007LI1UOE', 'B007QOX5A0']\n",
      "A33775AIB1A664 ['B006T9B6R2', 'B006W494ZA', 'B007F5LYVM', 'B007T5CXWW', 'B00829TIA4']\n",
      "A51OFQVC6O5YL ['B006T9B6R2', 'B0077QTSQM', 'B007F5LYVM', 'B007KC1R3A', 'B007PY3ZPG']\n",
      "A1Y85GQ09Y95JL ['B006T9B6R2', 'B006TJM63K', 'B0074WDDN8', 'B008D1JRIO', 'B008ZGKWQI']\n",
      "AV9PIER7NE448 ['B006T9B6R2', 'B006TT91TW', 'B00812RPG6', 'B0087X71ZO', 'B008DCBS94']\n",
      "A365PBEOWM7EI7 ['B006T9B6R2', 'B0074EUKDM', 'B007A0CYCK', 'B007Q45EF4', 'B007RT2QZO']\n",
      "A87CILADRIZW0 ['B006T9B6R2', 'B007CCAYIM', 'B007N6TWF8', 'B007ZLR18G', 'B008A9UORM']\n",
      "A3872Y2XH0YDX1 ['B006T9ZKAQ', 'B007KEZMX4', 'B0088PUEPK', 'B008Y8PON8', 'B0096YOQQA']\n",
      "ABDR6IJ93HFIO ['B006T9ZKAQ', 'B006W8U2MU', 'B0072B9XPI', 'B0073HSK0K', 'B007M50PTM']\n",
      "A2JAEZ0FMAMJVW ['B006TAEH7W', 'B006WVR9GY', 'B006ZS5ATM', 'B00793MIGK', 'B00829THEG']\n",
      "A3EXWV8FNSSFL6 ['B006TAEH7W', 'B006TF37H8', 'B006TT91TW', 'B006Z1J2JI', 'B007MDQIH2']\n",
      "A19XPAWSWDRI3B ['B006TAEH7W', 'B006Y455OW', 'B00752QYLK', 'B007CS9WYI', 'B007PUC1UU']\n",
      "A3E3EQ39FZTZEK ['B006TAEH7W', 'B006TVQT54', 'B00752R89C', 'B007PJ4Q4A', 'B007R5YDYA']\n",
      "A2SYAQXJGRY3XE ['B006TAP096', 'B0073BMCUU', 'B007G5NNOW', 'B007OI6VQI', 'B007QOX5A0']\n",
      "A1SC5OXLQNGPLN ['B006TAP096', 'B007I5JT4S', 'B007Q4KI8C', 'B007Q5GUZQ', 'B0080F647A']\n",
      "A35HNL2VEDK9Z1 ['B006TAP096', 'B007JCNOZA', 'B00829THK0', 'B0083GQI5Y', 'B008B14TQ6']\n",
      "A296QED1MV1V0J ['B006TAP096', 'B006U4BD1A', 'B0075SUIEI', 'B007MZWMCA', 'B007VGGFZU']\n",
      "AZ515FFZ7I2P7 ['B006TAP096', 'B006Z1J2JI', 'B00740MR78', 'B0076MBOC8', 'B007ABAQI8']\n",
      "A362FM6FYA1SYS ['B006TAP096', 'B006TF37H8', 'B0078OS0YY', 'B007P8HV2K', 'B007SZ0E1K']\n",
      "AT28RL25Q2OLK ['B006TAP096', 'B006TF36TM', 'B006TF37H8', 'B006ZZ2V9M', 'B0074FGLUM']\n",
      "ASJZT7DM51QEM ['B006TAP096', 'B006TF36TM', 'B006TR0FCQ', 'B0077D1LTW', 'B007AHJNF4']\n",
      "AGOH8N902URMW ['B006TAP096', 'B006U1YUHC', 'B006W8U2MU', 'B0076AYNXM', 'B0076NA716']\n",
      "A1T1YSCDW0PD25 ['B006TF36TM', 'B006ZH0KJS', 'B007BWTOHU', 'B007KI8IMW', 'B007MJURAA']\n",
      "A4H4KYSM2KQ85 ['B006TF36TM', 'B0078K17WK', 'B007DC89OW', 'B007WVA2PI', 'B00884WH74']\n",
      "A2ER8G4JJJ7XER ['B006TF36TM', 'B007JCNOZA', 'B0081IFO2C', 'B0086ZU8XK', 'B0088PK040']\n",
      "A36IHC0K68NS2 ['B006TF36TM', 'B006ZS5ATM', 'B00724X77A', 'B0076MBOC8', 'B007X3VC7W']\n",
      "A3U029B8Z5WGI2 ['B006TF36TM', 'B007KEZMX4', 'B007W7PIZ6', 'B00829THK0', 'B00834SJNA']\n",
      "A1987V5OCO6QHS ['B006TF36TM', 'B0075814YQ', 'B007FGYZFI', 'B007O1PLM0', 'B007QURBMW']\n",
      "AR6APXLK7TJU2 ['B006TF36TM', 'B007FPIP6Y', 'B00829TIA4', 'B0089LR8E8', 'B008U3038I']\n",
      "ACHTDPEQYSEQL ['B006TF36TM', 'B006TF37H8', 'B007581HIO', 'B007KFLV9W', 'B0081FLFQE']\n",
      "A2UWPPU5GZLMQZ ['B006TF36TM', 'B006VJT1K4', 'B0076F3RS4', 'B007NQDNHG', 'B007OI6VQI']\n",
      "A2BLFCOPSMBOZ9 ['B006TF3746', 'B006YQBKE4', 'B006YTZUA6', 'B006ZOI9OY', 'B0073FE1F0']\n",
      "A2N75ADJSRW0AH ['B006TF3746', 'B007BXD66E', 'B00829TIEK', 'B008U3038I', 'B0095F5AFG']\n",
      "A3V15SFD7918WZ ['B006TF3746', 'B0071BTJPI', 'B007YXA5TC', 'B0081H8TRA', 'B00829THK0']\n",
      "A1DSRM2P0WGQNS ['B006TF3746', 'B006VFASAA', 'B0079UAT0A', 'B00829THK0', 'B00834SJNA']\n",
      "A3CIET1UO3G51E ['B006TF3746', 'B0071BIQZC', 'B007M4XML6', 'B007P1C4RO', 'B007TIYZ3Y']\n",
      "A1GQRGB8FGSLIZ ['B006TF3746', 'B006ZH0JBM', 'B0076MBOC8', 'B007PXV310', 'B007ZZ6OW6']\n",
      "AR3EVUQF0AC7R ['B006TF3746', 'B006THIULY', 'B006VJREFS', 'B00723KZTY', 'B0079TOI8K']\n",
      "AIJQU979J6UFY ['B006TF3746', 'B006TT91TW', 'B007AHJNF4', 'B007JCNOHI', 'B007JCNOHS']\n",
      "A1ZVFCPHCWFV71 ['B006TF3746', 'B00740MR78', 'B0076MBOC8', 'B0079UAT0A', 'B007SQB896']\n",
      "A2PY5ED630H0QJ ['B006TF3746', 'B0078FVVD0', 'B0079LGMJQ', 'B008DWH00K', 'B008U5ZM6E']\n",
      "A3LGT6UZL99IW1 ['B006TF3746', 'B006TR0FCQ', 'B0076MBOC8', 'B00793MIGK', 'B0079UAT0A']\n",
      "A2WJ5XSE4I9F55 ['B006TF3746', 'B006ZN4SP4', 'B0070AVNXQ', 'B007G5NNOW', 'B007NF55BO']\n",
      "AVBLGXSWRN666 ['B006TF3746', 'B0074BW614', 'B007L8ZAWC', 'B007W0XHK6', 'B008HK3YOO']\n",
      "A3A4ZAIBQWKOZS ['B006TF3746', 'B006TF37H8', 'B006TT91TW', 'B007BXD66E', 'B007KI8IMW']\n",
      "A17HMM1M7T9PJ1 ['B006TF3746', 'B006U1YUW2', 'B007ILEHNU', 'B007JPOX8O', 'B007X95MNG']\n",
      "A38NELQT98S4H8 ['B006TF3746', 'B00721TUNS', 'B007FPIQ3Q', 'B007PJ4PKK', 'B007Q8GOGI']\n",
      "A26KXNN6H1IL0I ['B006TF37H8', 'B006W3ZV5S', 'B0071BTJPI', 'B007ZW7YJQ', 'B0082N9BZM']\n",
      "A2RIL2NXHE00AQ ['B006TF37H8', 'B006ZP0Q9O', 'B0072B0ULE', 'B00796I546', 'B007CF78JM']\n",
      "AM8W6Y3HVXLZT ['B006TF37H8', 'B007BYLKFW', 'B007L5NKZO', 'B00884WH74', 'B008RW6R9Q']\n",
      "A5JLAU2ARJ0BO ['B006TF37H8', 'B007IFO2B8', 'B007WVA2PI', 'B00825BZUY', 'B00829THK0']\n",
      "A2Z1R98M2XOCEJ ['B006TF37H8', 'B0079TOEQQ', 'B007VL8Y2C', 'B007X3VEC0', 'B00829TIA4']\n",
      "A3F3B6HY9RJI04 ['B006TF37H8', 'B007FPIQ0E', 'B007K3SB6K', 'B007KZQM8W', 'B007VBFGC8']\n",
      "A33HIV8RXRDM88 ['B006TF37H8', 'B006VJREFS', 'B0076POAI0', 'B0079T722O', 'B0079TOGDW']\n",
      "A376OJHLE6SU9Q ['B006TF37H8', 'B0079R8IYW', 'B0079UAT0A', 'B007G95FJE', 'B007Q46KIY']\n",
      "AMVXR3NPL0GWX ['B006TF37H8', 'B006W483ZC', 'B00746O3X8', 'B0079M711S', 'B007R5YDYA']\n",
      "A1EXGL6L0QQ0M5 ['B006TF37H8', 'B006UL00R6', 'B006W3ZWXE', 'B0076ASB9Y', 'B0078K17WK']\n",
      "A2NB2E5DXE319Z ['B006TF37H8', 'B0073FE1F0', 'B007C8GMPU', 'B007EHI1DK', 'B007FPIO2E']\n",
      "A21KNRUAA5RK5E ['B006TF37H8', 'B0076POAI0', 'B007DC89OW', 'B00829TIEK', 'B00834SJSK']\n",
      "A25UZ7MA72SMKM ['B006TG7KWU', 'B006WHPQUO', 'B006ZH0KVG', 'B0074BW614', 'B0078ZZ5Q4']\n",
      "A4IL0CLL27Q33 ['B006TG7KWU', 'B006V9AUMC', 'B006WHPQE0', 'B007R5YDYA', 'B007ZW7YEQ']\n",
      "A9Y5O2R4D6EH5 ['B006THIULY', 'B006W8U2MU', 'B007FPIQZ4', 'B007Q8GOGI', 'B007WTAJTO']\n",
      "A4U27URFECK1U ['B006THIULY', 'B007G95FJE', 'B007T5CXWW', 'B007X3VC9A', 'B0082XN57W']\n",
      "A1GBT4UN2RW7XY ['B006THIULY', 'B006TI4292', 'B006W3ZWXE', 'B007I5JT4S', 'B007JGBD2M']\n",
      "AM3XNQU9TZBD8 ['B006THIULY', 'B0081FLFQE', 'B0081H8TRA', 'B0082XN57W', 'B0085RV05O']\n",
      "A2LF16F0KX9L7P ['B006THIULY', 'B006ZS5AQA', 'B0074FGSBY', 'B007HZLLOK', 'B007I5JT4S']\n",
      "A225G2TFM76GYX ['B006THIULY', 'B006W3ZWXE', 'B007477COO', 'B00752VKFA', 'B0076BDBDE']\n",
      "AONUCJBC85BL ['B006THIULY', 'B006ZS5AQA', 'B006ZS5ATM', 'B0075SUKIC', 'B0076POAOE']\n",
      "A1N5FSCYN4796F ['B006THIULY', 'B006VJREFS', 'B006WHPQCM', 'B0077JAFJS', 'B0079UAT0A']\n",
      "A1A535TCGNMVPI ['B006THIULY', 'B007DJGHH6', 'B007G95FJE', 'B007H3L24Q', 'B007L5NKZO']\n",
      "A20DZX38KRBIT8 ['B006THMCH2', 'B00746LVOM', 'B00746W3HG', 'B0074703CM', 'B00747XA9A']\n",
      "A3KCETSIJNOK56 ['B006TI42QU', 'B007CO5DZ4', 'B007IIT8KU', 'B0085YAA3U', 'B008KREIJO']\n",
      "A3NG7X4APIV649 ['B006TI443G', 'B0081YPVGU', 'B00829THK0', 'B00829TIA4', 'B0088CJT4U']\n",
      "A3AYSYSLHU26U9 ['B006TL5KWC', 'B006U1YULS', 'B006ZH0KJS', 'B0079TOET8', 'B007BY0MIS']\n",
      "A38RMU1Y5TDP9 ['B006TL5KWC', 'B006WT2AD8', 'B006ZBWV0K', 'B006ZH0KVG', 'B0070JNULA']\n",
      "A17V9XL4CWTQ6G ['B006TL5KWC', 'B007CRWQ0Q', 'B007UT2LB0', 'B0080XGJPY', 'B0081FLFQE']\n",
      "A7EU2BWLLCJY2 ['B006TL5KWC', 'B006ZBWV0K', 'B007BDJ81Q', 'B007E2M3SY', 'B007OY5V68']\n",
      "A328S9RN3U5M68 ['B006TL5KWC', 'B007N4TVRE', 'B007THCFXM', 'B0082E9K7U', 'B00946XHI8']\n",
      "A2NOW4U7W3F7RI ['B006TL5KWC', 'B00737M15U', 'B00744T1YG', 'B00746LVOM', 'B00746W3HG']\n",
      "A33GNK4YENACDJ ['B006TOHWN4', 'B0078KP0SM', 'B0084X2RIS', 'B008OZU33C', 'B0090PXQ8Y']\n",
      "A3O5ASFUXC32UA ['B006TORFU4', 'B0074BW614', 'B007PZALFC', 'B00836H2DQ', 'B0086UXT9K']\n",
      "A3P4T1DKRWTL36 ['B006TQ30TW', 'B006XGCQ2U', 'B0079TOET8', 'B007C1KMH6', 'B007KMJT7G']\n",
      "A8P6GIIQ6YQV8 ['B006TQ314G', 'B007SH0D0A', 'B008A30NW4', 'B008B52QQC', 'B008DFE7YO']\n",
      "A28UMA3GW9L124 ['B006TQ314G', 'B0076POAI0', 'B0079M711S', 'B0079TOEQQ', 'B0079TOG4Q']\n",
      "A1VUN4JU731CBH ['B006TQOJLK', 'B006W8U2MU', 'B0079TOGDW', 'B007PZBGKQ', 'B007Y4NWTQ']\n",
      "A12DQZKRKTNF5E ['B006TR0FCQ', 'B006U3O566', 'B006UUF27U', 'B006YLYYZ6', 'B0071BTJPI']\n",
      "A3DOPYDOS49I3T ['B006TR0FCQ', 'B00703BLCG', 'B0072ZQGIG', 'B007FPIQZ4', 'B0088JSE6M']\n",
      "A680RUE1FDO8B ['B006TR0FCQ', 'B006UAJ690', 'B006W1J3OK', 'B006WHPQUO', 'B006ZP8UOW']\n",
      "AFQBS241UKPAZ ['B006TR0FCQ', 'B006ZBWV0K', 'B0072DKWQ0', 'B00793MIJC', 'B007FPIQ0E']\n",
      "AYB4ELCS5AM8P ['B006TR0FCQ', 'B00746LVOM', 'B0074BW614', 'B007CGO45W', 'B007E6J96Y']\n",
      "A1W4F91DH3XPB2 ['B006TR0FCQ', 'B0074BW614', 'B007GFX798', 'B007Q8GOGI', 'B008DF53W4']\n",
      "A25QJBK33C4O0R ['B006TR0FCQ', 'B006WHPQCC', 'B0072DKWQ0', 'B007M4Z60Q', 'B007M52EXM']\n",
      "A1K4G5YJDJQI6Q ['B006TS7S16', 'B0079LGMJQ', 'B007XZCH9W', 'B008F5NSLU', 'B008FLOWAU']\n",
      "A1W415JP5WEAJK ['B006TT91TW', 'B007136EDG', 'B0075SUHKI', 'B0076POAPS', 'B007JAQBZW']\n",
      "A27AF4DLLOBQDQ ['B006TT91TW', 'B008GVM9K4', 'B008KEPX1O', 'B008R7EVE4', 'B0096YOQRY']\n",
      "AHIK7BUXFRMT8 ['B006TT91TW', 'B0074FGLUM', 'B0078LMQ9C', 'B00884WH74', 'B00CHRID4Y']\n",
      "A3OIMUR42XIOFQ ['B006TT91TW', 'B007BWTOHU', 'B007Y4NWQE', 'B007ZZ6OW6', 'B00829THK0']\n",
      "A2PK64OVZA1U8Z ['B006TT91TW', 'B006ZH0KVG', 'B007JCNOHI', 'B007RORKU0', 'B00829THH8']\n",
      "A2J7FHZFKOKGZ6 ['B006TT91TW', 'B007TG5EG8', 'B007VL8Y2C', 'B008VEFFI4', 'B0099SMFP2']\n",
      "AHF4I1FSIHABC ['B006TT91TW', 'B0094AYSPU']\n",
      "A200RY2ELZL2Q3 ['B006TT91TW', 'B006W8U2MU', 'B0073BC2ZU', 'B0074BW614', 'B007L6NYAO']\n",
      "ADZF3QDGSZE7K ['B006TT91TW', 'B0076W9Q5A', 'B007C1KMH6', 'B007FH1KAU', 'B007HZLOJC']\n",
      "A2PICNZWHEINQC ['B006TT91TW', 'B00727FE5U', 'B0076AYNXM', 'B007ABANFY', 'B00834SJNA']\n",
      "A3SOJO7Z7R9WIA ['B006TT91TW', 'B006YM9KXQ', 'B0078H8L04', 'B007DJGHF8', 'B007JIBAVE']\n",
      "A2MJ8OL2FYN7CW ['B006TT91TW', 'B006ZBWV0K', 'B006ZTMYMC', 'B00742BLO6', 'B0079UAT0A']\n",
      "A3R1WFO4KIUQXZ ['B006TT91TW', 'B006WVR9GY', 'B0079003UQ', 'B007DC89OW', 'B007RFW1NA']\n",
      "A2TA40MV2H4O6F ['B006TT91TW', 'B007476KRY', 'B007477COO', 'B007BXD66E', 'B007FEFQDA']\n",
      "A2XRMQA6PJ5ZJ8 ['B006TT91TW', 'B0076W9Q5A', 'B007ABANFY', 'B007BJHETS', 'B007BWTOHU']\n",
      "A2JP9E1H0SF392 ['B006TT91TW', 'B006U3O566', 'B007MH75J8', 'B007QXLIWI', 'B007R8U5QW']\n",
      "AI8EMB0HUC6Z5 ['B006TT91TW', 'B006W3ZV5S', 'B007B6YPAW', 'B007BJC8SK', 'B007F5LYVM']\n",
      "AXYM52DNK6NDF ['B006TT91TW', 'B006V3T7YK', 'B006ZB39QU', 'B0071UHPTQ', 'B00724W0N2']\n",
      "AGEWOMQ90BV8R ['B006TTQG0Y', 'B0088PUEPK', 'B008H6HFZM', 'B008JLJCA6', 'B00A47U22U']\n",
      "AT09WGFUM934H ['B006TVQTHW', 'B006UTE70E', 'B006W8U2MU', 'B007C2IKQU', 'B007NNTLK2']\n",
      "AQSV34W54L0VO ['B006TZ8R3W', 'B007BGTMFU', 'B007BWMVDY', 'B007KGXY0K', 'B007LTH1X2']\n",
      "A214W7SK2DJQ99 ['B006TZ8TA8', 'B007136DU0', 'B0074FUIN8', 'B0076GK4A2', 'B0079M711S']\n",
      "A2FSOHSM9X13JT ['B006TZB0T0', 'B0074BW614', 'B007B4THOI', 'B007REQU9W', 'B007RZB3KM']\n",
      "A194Y47BF3CUTJ ['B006TZE0UQ', 'B006Z394L2', 'B006ZC5PDE', 'B007KB0EGC', 'B007M4Z60Q']\n",
      "A2WYF4POBUXL2O ['B006TZE0UQ', 'B0076AYNXM', 'B007ADFTUG', 'B007CGQ6TY', 'B007OE4B7I']\n",
      "AOWF9T81XMX2S ['B006TZGCDE', 'B006U1YUZE', 'B006U3O566', 'B007TIYYQ2', 'B007TMYTK4']\n",
      "A2OOLI2WFY4L2 ['B006TZM6XO', 'B00744TS3U', 'B007B31IYQ', 'B008B1125W', 'B00961GM1A']\n",
      "A2JE071UW97J2A ['B006U0Z3BA', 'B006XY0F34', 'B007PJ4PKK', 'B007SXJ13E', 'B007Y4NWQE']\n",
      "A3TBMAWIIHKHFN ['B006U0Z3BA', 'B006ZH0JBM', 'B00850JLD4', 'B0087FFJZG', 'B00CF1LS94']\n",
      "A1H4IVXNXWWBLV ['B006U0Z72U', 'B0077EAOSU', 'B007G5NNOW', 'B007M4XML6', 'B007PZALFC']\n",
      "A1MJMYLRTZ76ZX ['B006U0Z72U', 'B00C66C784', 'B00CGY4KHM', 'B00D02AG7C', 'B00E7MOAKI']\n",
      "A1G3DKT38DNZJP ['B006U1KVRK', 'B006V72AHC', 'B0077M2958', 'B007FFIF0K', 'B008PO5CSI']\n",
      "A7UPJYPAH73NC ['B006U1YUHC', 'B0076POAI0', 'B007E2M3SY', 'B007FPIRN0', 'B007JCNOHS']\n",
      "AWPODHOB4GFWL ['B006U1YUHC', 'B006U3ZIM6', 'B00703BLCG', 'B0071BTJPI', 'B0075SUK14']\n",
      "ABVYGB2TKBO8F ['B006U1YUJ0', 'B007R9MK8C', 'B007WTAJTO', 'B0088PUEPK', 'B008CIOC88']\n",
      "A186697K4XKXQL ['B006U1YULS', 'B006W3ZWXE', 'B007PTCFFW', 'B007X3VDU8', 'B0081TXIXI']\n",
      "AX7317G153T8W ['B006U1YULS', 'B006U1YUW2', 'B0076R7FWQ', 'B007I5JT4S', 'B0088CJT4U']\n",
      "A14JBDSWKPKTZA ['B006U1YUW2', 'B0078GCLU6', 'B0081FLFQE', 'B0081TXIXI', 'B008CXTX5U']\n",
      "A3MU9G6YWKTGTA ['B006U1YUW2', 'B006VFOHSY', 'B007CFRF72', 'B00DV56K6O']\n",
      "AR74YY08IP2WE ['B006U1YUW2', 'B006W3ZWXE', 'B0079TOEQQ', 'B007IJ7UHC', 'B00804YXI8']\n",
      "A2YHXGPCTENZY3 ['B006U1YUW2', 'B007471PZQ', 'B007FEFQDA', 'B009C3M7H0', 'B00A460TK6']\n",
      "A2AF0NOCM71J0B ['B006U1YUW2', 'B006ZH0L2E', 'B007G95FJE', 'B007NU6F40', 'B007PODP1K']\n",
      "A3F8T3BRXRX5P3 ['B006U1YUW2', 'B007NZGPAY', 'B007RG2QNY', 'B007WTAJTO', 'B00834SJSK']\n",
      "A1UNJ46NSB352E ['B006U1YUW2', 'B00825BZUY', 'B00834SJNA', 'B00871SR68', 'B008D97LNE']\n",
      "A3EQQHWJ1EEYEU ['B006U1YUZE', 'B007B6PZK6', 'B007GR2T9K', 'B00834SJSK', 'B008COJXHC']\n",
      "A3IMALU0RM8UT9 ['B006U1YUZE', 'B006Y0YZZ6', 'B0073FE1F0', 'B0074CISLK', 'B007BJHETS']\n",
      "AZAC8O310IK4E ['B006U1YUZE', 'B00746LVOM', 'B00746YZS6', 'B0075SUK14', 'B007M8SGW2']\n",
      "AGJRUK27RBVYS ['B006U1YUZE', 'B006WVR9GY', 'B006ZH0L2E', 'B0073ESYZO', 'B00752R4S2']\n",
      "A13QOK3SKIT9QL ['B006U1YUZE', 'B006UMM1PO', 'B0079X1VQS', 'B007JPOX8O', 'B00823170Y']\n",
      "AG35JCCQWDRCS ['B006U1YUZE', 'B006XE4SIW', 'B0074AWVPG', 'B0076UXKDG', 'B0076UXKPY']\n",
      "A1VTCSCH8FFC76 ['B006U1YUZE', 'B0074703CM', 'B007KEZMX4', 'B007PRHNHO', 'B0080C21Y8']\n",
      "A1NGFGBX2VCQS8 ['B006U1YUZE', 'B00728ZBA2', 'B0073UIS40', 'B0074BW614', 'B00752R4PK']\n",
      "A33PVCHCQ2BTN0 ['B006U1YUZE', 'B006WHPQCM', 'B006Y3IDYC', 'B00752R9Q4', 'B007K9P7H0']\n",
      "A5Q1FK0FWU7DH ['B006U1YUZE', 'B007B64ND6', 'B007M52EXM', 'B007Q8GOGI', 'B00829THEG']\n",
      "A2TKWMX4563NR6 ['B006U1YUZE', 'B006W8U2MU', 'B007UXJ6LE', 'B007W7X1ZK', 'B007WTAJTO']\n",
      "A32AFX2PUJ82HG ['B006U1YUZE', 'B0075814YQ', 'B00AMC8US0', 'B00AWKC0JM', 'B00AZG1NO6']\n",
      "A2OBDNQ5ZYU1L8 ['B006U1YVZ8', 'B006ZB39QU', 'B00746LVOM', 'B00793MIJM', 'B0079TOI8K']\n",
      "A2OKRGHIYTBQ6P ['B006U1YVZ8', 'B00748GWB2', 'B007CO5DZ4', 'B007OO0BHC', 'B007TSA1AK']\n",
      "A3J8A5L5AF5TX9 ['B006U1YVZ8', 'B00752R4PK', 'B00752R9SM', 'B007BJHETS', 'B007WTAJTO']\n",
      "A3HPCRD9RX351S ['B006U1YVZ8', 'B00795K7J8', 'B007B61GAO', 'B007G5NNOW', 'B007OY5V68']\n",
      "AZBXKUH4AIW3X ['B006U1YVZ8', 'B006W8U2MU', 'B007E517DS', 'B007V9H9ZC', 'B007VYJWWK']\n",
      "A3U5HKDHPYBAK3 ['B006U1YVZ8', 'B007M4Z60Q', 'B00829TIA4', 'B008TO3YT8', 'B008V63D3Q']\n",
      "A22I55P15NSAOX ['B006U1YVZ8', 'B00793MIJC', 'B007HOHV9U', 'B007PG02Q4', 'B007ZW43IQ']\n",
      "A18L9A64XNGVGU ['B006U250KM', 'B008467K1E', 'B008MWI16I', 'B008YTAGGW', 'B0096TTOHG']\n",
      "A74UT8IQCM0I2 ['B006U3O566', 'B006UH8L8K', 'B006ZZQ5EY', 'B0077V88YU', 'B007JOO4YS']\n",
      "A314KKDIJWCNMV ['B006U3O566', 'B0071NWYP8', 'B007P4YAPK', 'B007Q4WMSG', 'B007YLQUWK']\n",
      "A1BC62X6HZJGZR ['B006U3O566', 'B0076T2C9U', 'B007F7MZ04', 'B007PV53OA', 'B008EQZ25K']\n",
      "A2GYV87WW0DMSN ['B006U3O566', 'B007MZCXN8', 'B007PMJVS8', 'B007Q7EG7I', 'B007R1FH3K']\n",
      "A2QI2JHSIQ3SN3 ['B006U3O566', 'B0078XOIH8', 'B007PFD6CC', 'B007PY3ZPG', 'B007R1FH3K']\n",
      "A2PJH18W4XHTZW ['B006U3O566', 'B0071RSI1S', 'B007477COO', 'B007X5VS88', 'B007YXA5TC']\n",
      "AGYH5U11ZKPFB ['B006U3O566', 'B006VCP72W', 'B006X2HD2M', 'B00752VKFA', 'B00752VKTG']\n",
      "A11IXJ8M1JO296 ['B006U3O566', 'B007C81JL2', 'B007PCP5H4', 'B008JF5MSS', 'B008OHNZI0']\n",
      "AOMEH9W6LHC4S ['B006U3O566', 'B006W8U2MU', 'B006WHPQCC', 'B0071BTJPI', 'B007477COO']\n",
      "A38Z6QG6988WS7 ['B006U3O566', 'B00752R9SM', 'B00834SING', 'B008I64126', 'B008PQAB3C']\n",
      "AA3FTJYJYX55C ['B006U3O566', 'B0077SKPV2', 'B007VPGL5U', 'B008Y1KK6Q', 'B008YQAFMK']\n",
      "A15U64VGUV6RBF ['B006U3O566', 'B006UMM1PO', 'B006YLYYZ6', 'B0079R8KO0', 'B007WTAJTO']\n",
      "A2ZWJVKITA32OV ['B006U3O566', 'B006W5FIJK', 'B00752R9SM', 'B007DPNDP4', 'B007EHI1BC']\n",
      "A3B20R4ZAH0Y2Y ['B006U3ZIM6', 'B0078SAIUY', 'B0079T722O', 'B007AHJNF4', 'B007IJ7UHC']\n",
      "A3SMD3T0QTN109 ['B006U3ZIM6', 'B006W8U2MU', 'B006WHPQE0', 'B007MAIN5A', 'B007PJ4P4G']\n",
      "A15T9G38F589KM ['B006U3ZIM6', 'B0079UAT0A', 'B007KZQM8W', 'B007W7PIZ6', 'B007W7PK04']\n",
      "A2W9GX82SLKROQ ['B006U3ZIM6', 'B006ZP8UOW', 'B0076MBOC8', 'B007BXD66E', 'B007EMOOK4']\n",
      "A3PGVJF37JSHFO ['B006U3ZIM6', 'B006UMM1PO', 'B0076KUTKS', 'B007WTAJTO', 'B007YPUXGU']\n",
      "AOVTLYTHVDNUX ['B006U3ZIM6', 'B0078I832O', 'B007DL79FS', 'B007FELOZO', 'B007ULT422']\n",
      "AKSQNMIKOU01H ['B006U43AMA', 'B0079M711S', 'B007OI6VQI', 'B007P8HV2K', 'B008MLAT78']\n",
      "A3QNX5KWHDV0GD ['B006U49XM6', 'B006WQ5W9K', 'B00728Z8U0', 'B00746LVOM', 'B0077HED8O']\n",
      "A3GX0FAMEXV6FB ['B006U4AV54', 'B0074KBLAW', 'B00796I546', 'B0079R2MH6', 'B007EM7NES']\n",
      "A2Z2MUP8JRJXEU ['B006U4BD1A', 'B007VBQ492', 'B00844N5OC', 'B008E9P6VM', 'B008U5ZM6E']\n",
      "A3F7F7QKQP2FKT ['B006U5W49O', 'B0074CQUHY', 'B00752QXZ2', 'B007R5YDYA', 'B008LYU2K0']\n",
      "A1ZPUEHF4AES86 ['B006U5W49O', 'B00746LVOM', 'B0076D099Q', 'B007B5YD50', 'B007T9WEXG']\n",
      "A2MCRCK1V61FWQ ['B006UACSZ4', 'B007M4WW5I', 'B007R67FTY', 'B00862522A', 'B008RF7I5K']\n",
      "A3S0DBBR693O06 ['B006UD5K2Y', 'B007DJGHF8', 'B007JIBAZA', 'B0088CJT4U', 'B008O2HWSO']\n",
      "ANYC38I00IRVK ['B006UH7974', 'B006YLTLUY', 'B007BK42ME', 'B007JGB6TW', 'B007QOX5A0']\n",
      "A16J281SJ9QXIQ ['B006UIFTTS', 'B00722JCMQ', 'B007FUDKB4', 'B007I5JT4S', 'B007I7X1XG']\n",
      "AOEDWQLH2WKKW ['B006UL00R6', 'B006Z1J2JI', 'B0073YY6KQ', 'B0076F3RS4', 'B0076POAPS']\n",
      "AS7J4952JB5XR ['B006UL00R6', 'B006UV6YMQ', 'B007BJHETS', 'B007BY3PBE', 'B007MV7H8S']\n",
      "A294BKN913UOGP ['B006UL00R6', 'B0073FE1F0', 'B007FUDKB4', 'B007GJ4GFS', 'B007VWH422']\n",
      "A2VODABWSVHV8E ['B006UL00R6', 'B006W1J3OK', 'B007EMOOK4', 'B007ILK234', 'B007TMZW2S']\n",
      "A5GPH59NDWJRB ['B006UMM15O', 'B007OY5V68', 'B007TSERQO', 'B007W7PK04', 'B0084Y9V54']\n",
      "A2HPJKM7L4EOQB ['B006UMM15O', 'B007B2QDFQ', 'B009JU18TY', 'B00C699L30', 'B00DR6SY84']\n",
      "A23ONMGKEWDG4M ['B006UMM15O', 'B006UMM2BW', 'B006ZCCH76', 'B006ZNBILG', 'B007BJHETS']\n",
      "A361M14PU2GUEG ['B006UMM1PO', 'B006ZH0KVG', 'B007B6YPAW', 'B007FNF5IC', 'B007WTAJTO']\n",
      "A9DYWY9VOSP1P ['B006UMM1PO', 'B007HYJTTK', 'B007PJ4P4G', 'B007STKM7W', 'B0085YH7JK']\n",
      "A6FIAB28IS79 ['B006UMM1PO', 'B00728Z9O0', 'B0073K64NM', 'B00746YHV6', 'B0074703CM']\n",
      "A3LDFTSXU3UPBO ['B006UMM1PO', 'B00722JCMQ', 'B0073HSK0K', 'B0075SUHKI', 'B007P4VOWC']\n",
      "A2L90SGUP36KGA ['B006UMM1PO', 'B006W3ZXG0', 'B006X4ME0Q', 'B006Z1HTJI', 'B006Z1KBES']\n",
      "A1O229NVVDJUX2 ['B006UMM2BW', 'B006W8U2MU', 'B0075SUKIC', 'B0076BNKU8', 'B007CRWQ0Q']\n",
      "A15G70V9OBTOVO ['B006UMM2BW', 'B0070O9ROY', 'B0076BNKOY', 'B007FGYZFI', 'B007UN382M']\n",
      "A1ATVMMJZP3Q4X ['B006UMM2BW', 'B0072DKWQ0', 'B007NTFTLG', 'B007QIXSVM', 'B00817UWQ6']\n",
      "A3PPO2X5PJE1L9 ['B006UMM2BW', 'B007KCV0RS', 'B007Q1RBBC', 'B007Q5JMQA', 'B0081ER9KG']\n",
      "A1XB7JGJ459ERP ['B006UMM2BW', 'B006VCP72W', 'B007CGHTQ8', 'B007SM7O2U', 'B007UN4MOA']\n",
      "A3QX0ERX4D03TF ['B006UMMP8C', 'B00728Z8T6', 'B0074FGLUM', 'B007OUIL1Y', 'B007X67ETO']\n",
      "A10ZFE6YE0UHW8 ['B006UMMPGE', 'B006ZW4H4C', 'B007472CIK', 'B007472SZ2', 'B00793MIGK']\n",
      "A3FKQQTSMHOCE0 ['B006UMMPGE', 'B00AXZYWR4']\n",
      "A2SL5IW096Z2BL ['B006UOVN4M', 'B00759V7WO', 'B007GFX0PY', 'B00A9YQP8I']\n",
      "ACP9S40H3SHY1 ['B006UPCEFS', 'B0073A1FGS', 'B0074WDDN8', 'B0074WDFSQ', 'B0074WDGAI']\n",
      "A32T2H8150OJLU ['B006UT8Z70', 'B006WHPQD6', 'B00829THK0', 'B00829TIEK', 'B00871SR68']\n",
      "A3E9O1VNJ3U324 ['B006UTK3ZM', 'B00737R8SA', 'B007PQ0K1G', 'B007Q8KD6U', 'B007ZLN00E']\n",
      "A3V0YR50F1XSKP ['B006UUF27U', 'B00748GBXG', 'B00763WKZW', 'B0077VC0P8', 'B007C81JL2']\n",
      "ADKZOXAOV8EXD ['B006UV6YMQ', 'B006YTZUA6', 'B0076BNKU8', 'B007JGAR8I', 'B007VGGFZU']\n",
      "AD9ZL63H0VKCZ ['B006V3T7YK', 'B0074BW614', 'B0076MBCJ8', 'B007MAYD7M', 'B007MBFT9W']\n",
      "A2F7CSE6KT7NI4 ['B006V5SZMI', 'B007RIFKUI', 'B007RWXCKO', 'B008195P34', 'B0088CJT4U']\n",
      "A25WJCAP606YMP ['B006V5YZKO', 'B006ZT4VA0', 'B0074F5DMO', 'B007GR44PM', 'B007XOQUY6']\n",
      "A1435P5AMCPB3X ['B006V72AHC', 'B007A3JG8C', 'B00CO8KXX0']\n",
      "A4IEUHNRFZO0 ['B006V72AHC', 'B0074024XU', 'B007BJHETS', 'B007CO5DZ4', 'B007JOO4YS']\n",
      "A2LEIANN1UZTHP ['B006V9AUMC', 'B006ZW4HY2', 'B0077E48TG', 'B007UR1PIC', 'B007YX9O94']\n",
      "A2858RV2VLI14X ['B006VAD2C6', 'B006ZGCH18', 'B007FL7GGS', 'B007PA1K84', 'B007R67FNA']\n",
      "A15TABNGK6L4N3 ['B006VAD2C6', 'B006Z394L2', 'B00723KZTY', 'B007E4WQSO', 'B007MS3488']\n",
      "AOTZOHB2LZGYR ['B006VAD2C6', 'B00725FE20', 'B00746YHV6', 'B0074J7ITG', 'B007CS9WYI']\n",
      "A1PV5T5S4D5NPI ['B006VCP72W', 'B007G5NNOW', 'B007V5A1BK', 'B007WTAJTO', 'B007XA668A']\n",
      "A2YYHSORXIHZCS ['B006VCP72W', 'B006ZH0JBM', 'B0078H8L04', 'B0079LGGZ6', 'B007B5Y1EI']\n",
      "A3QRR8PSCBI07C ['B006VCP72W', 'B0084JFLUS', 'B008MJHSFG', 'B009NB8WR0', 'B00AAKLE00']\n",
      "A3223W5IROMYTY ['B006VCP72W', 'B0075SUK14', 'B007RIFKUS', 'B007SZ0EOW', 'B007ZZE63A']\n",
      "AAW7X3GRD8GY9 ['B006VCP72W', 'B006ZP8UOW', 'B0074AVUI0', 'B0076W9Q5A', 'B007PRHNHO']\n",
      "AMWL7XIWIPXEZ ['B006VCP72W', 'B0076W9Q5A', 'B007L8Q75G', 'B007M506WS', 'B0085P2DQ6']\n",
      "A2HRHF83I3NDGT ['B006VCP72W', 'B006W8U2MU', 'B00762YNMG', 'B00778G78C', 'B0077V88V8']\n",
      "A3TNM3C9ENUCFW ['B006VDPCGC', 'B007FPIRSU', 'B007PTCFFW', 'B0081OY8B4', 'B0082D563I']\n",
      "A3BNMHRW2R35LK ['B006VDPCGC', 'B006ZH0KJS', 'B0076BDBDE', 'B0077KMY4G', 'B0079UAT0A']\n",
      "A2AFTRU43PY9P5 ['B006VFQ74G', 'B0071U6WHW', 'B007X6FCWA', 'B0080H7UZS', 'B0082BZY4G']\n",
      "APMYPD97EHUUZ ['B006VJREFS', 'B0076POAOE', 'B00829THK0', 'B00829TIEK', 'B0085YTDBA']\n",
      "A1MQQEM7W77L62 ['B006VJREFS', 'B006VJT1K4', 'B0074703CM', 'B007I5JT4S', 'B007PKLXQS']\n",
      "A19W47CXJJP1MI ['B006VJT1K4', 'B0079TOET8', 'B007BY0MIS', 'B007FGH6WM', 'B007FPIQ0E']\n",
      "A2UOHALGF2X77Q ['B006VJT1K4', 'B006ZOF5RI', 'B007CO5DZ4', 'B007H3L24Q', 'B007JY58FM']\n",
      "A34VRVI4CSI5RQ ['B006VJT1K4', 'B006WVR9GY', 'B0076HMDQO', 'B007G95FJE', 'B007M52EXM']\n",
      "A2VALCFTOWFYXZ ['B006VK6BRY', 'B006VK6OC6', 'B006VKFX1Y', 'B0071O3SXE', 'B0078IWS9I']\n",
      "A84FLVDK2R5JF ['B006VOT7XA', 'B007ILFFS6', 'B007SPM8ZA', 'B0081FLFQE', 'B00884WH74']\n",
      "A31N0XY2UTB25C ['B006VXPQ4A', 'B00752R4PK', 'B0079MX4Q4', 'B007B5RIN4', 'B007CNL35E']\n",
      "A1A5KUIIIHFF4U ['B006VZI4QA', 'B007KTT3IE', 'B007RHD2P4', 'B0081IQNE0', 'B0085HXUWA']\n",
      "A1V5TRJXTI6F01 ['B006W1DMQA', 'B007136D46', 'B007HBLK9K', 'B007HBXCVY', 'B007SM7O2U']\n",
      "AEFTIUQHSVUFX ['B006W1J3OK', 'B006WHPQCM', 'B0075SUK14', 'B007WTAJTO', 'B007YX9O94']\n",
      "A2ZRG5NOFZ47RK ['B006W2I46M', 'B006Y0YZZ6', 'B007WTAJTO', 'B007ZB58Z4', 'B00834SJSK']\n",
      "A2OOXVZ6B1VZ9A ['B006W2IJNA', 'B00752R9PK', 'B00788FIGS', 'B007PPEPJ0', 'B0094DH05C']\n",
      "AR18DH5SL9F73 ['B006W379CG', 'B008BFXOZE', 'B008XVAVAW', 'B00913KM14', 'B0091UHMHO']\n",
      "A3NOBH42C7UI5M ['B006W3ZV5S', 'B006YTZUA6', 'B0077V88V8', 'B007XDFO9O', 'B00825BZUY']\n",
      "A35X2JJI49OBZP ['B006W3ZV5S', 'B006ZBWV0K', 'B006ZT4VA0', 'B0080I9MRQ', 'B0083MR5JQ']\n",
      "A11EYMH9UV9XG7 ['B006W3ZV5S', 'B0079R8KO0', 'B007RNCK60', 'B0081FLFQE', 'B0081TXIXI']\n",
      "A2V2URLB31HG59 ['B006W3ZV5S', 'B00752R4S2', 'B00766BF1E', 'B0079R8KO0', 'B007IJ7T4G']\n",
      "A17NVM7IAPF2NS ['B006W3ZV5S', 'B006ZGB58Y', 'B007C81JL2', 'B007ZT4N5C', 'B00829THEG']\n",
      "A2WPL6Y08K6ZQH ['B006W3ZV5S', 'B0079UAT0A', 'B007BY0MIS', 'B007IS3EMI', 'B007LLYB4M']\n",
      "A2EF8N7ZE7ONWX ['B006W3ZV5S', 'B007BDJ81Q', 'B00829THK0', 'B00834SJNA', 'B009GPY97A']\n",
      "AVFJ327UXPXLF ['B006W3ZV6W', 'B006WHPQCM', 'B006ZP8UOW', 'B0074BW614', 'B0079TOI8K']\n",
      "A33SX0AD5PYD9B ['B006W3ZV6W', 'B007OM6LBE', 'B0081FLFQE', 'B00829TIA4', 'B008681YPS']\n",
      "AV8MDYLHHTUOY ['B006W3ZWXE', 'B0078ZZ5NM', 'B0079TOI8K', 'B0079VXOWO', 'B007E2M3SY']\n",
      "AMS2CPERWN7JV ['B006W3ZWXE', 'B0079TOET8', 'B007IJ7UHC', 'B007SHJIO2', 'B0088CJT4U']\n",
      "A20VG5W98SX99L ['B006W3ZWXE', 'B007X3VEUC', 'B00829TIEK', 'B00834SJNA', 'B00834SJSK']\n",
      "A111WCUF5KA2I6 ['B006W494ZA', 'B006Z95LHW', 'B00762YNMG', 'B007FN910U', 'B007WLPNPW']\n",
      "A28LUOEY0ECT9G ['B006W494ZA', 'B007PODZQU', 'B007STKINK', 'B0084JSJ98', 'B0087O4EDK']\n",
      "AHR86ZEYETLJI ['B006W8U2MU', 'B0073HSH8U', 'B0076O2TNE', 'B007B6YPAW', 'B007MDFN50']\n",
      "A1X3ESYZ79H59E ['B006W8U2MU', 'B0079UAT0A', 'B007BY0MIS', 'B007FPIP2I', 'B007HZLLOK']\n",
      "A3J2YU2D9BH2J7 ['B006W8U2MU', 'B007U1YGOS', 'B007VSRAZW', 'B007Y8EVH4', 'B007ZKEAS6']\n",
      "AX05DBU8IRUWY ['B006W8U2MU', 'B0077QHF1C', 'B007OY5V68', 'B007WTAJTO', 'B0082E9K7U']\n",
      "A2XXBZPQT5EXHV ['B006W8U2MU', 'B00834SJNA', 'B008OZF9SQ', 'B008TCUXLW', 'B009SQQF9C']\n",
      "A32JCI4AK2JTTG ['B006W8U2MU', 'B0073FE1F0', 'B007WDXIJI', 'B007X4KAF6', 'B008AZSFHC']\n",
      "A2294LS59GC5K7 ['B006W8U2MU', 'B006ZZXVCI', 'B0076AYNXM', 'B007RIFKUS', 'B007XIUPCU']\n",
      "A1FXT4VNDA25LY ['B006W8U2MU', 'B00727FE5U', 'B007P8CWGU', 'B0087QK9TG', 'B008D5GJY0']\n",
      "A36K2N527TXXJN ['B006W8U2MU', 'B006YLYYZ6', 'B00752R4S2', 'B0077JAEI0', 'B0079UAT0A']\n",
      "A3KTWUXXB8KKC7 ['B006W8U2MU', 'B00ATANVLG', 'B00AX9ZA6W', 'B00CM0XHNS', 'B00HIY8T4A']\n",
      "A18FLOC8YQY0P8 ['B006W8U2MU', 'B006ZH1WQI', 'B0075SUK14', 'B00769HGG4', 'B0076DKLA8']\n",
      "AKX9EQ37PAYMY ['B006W8U2MU', 'B00721TUNS', 'B0079X1VQS', 'B007Q45EF4', 'B00834SJNA']\n",
      "ACY9QYNDFLVBI ['B006W8U2MU', 'B006XGCQ2U', 'B007B5RIYI', 'B007G5NNOW', 'B007R1FH3K']\n",
      "A1Z7SC7HH1BJKA ['B006W8U2MU', 'B007B5SCBQ', 'B00846Z34K', 'B00847TYYO', 'B008D2POAS']\n",
      "ATDQ9CGCWTT8D ['B006W8U2MU', 'B00752R5Z4', 'B0076RRKJE', 'B0078ZZ2IU', 'B007HH95F0']\n",
      "A10X9ME6R66JDX ['B006W8U2MU', 'B007B5WJJM', 'B007B6YPAW', 'B007FL6100', 'B007LOLVLU']\n",
      "A2MOD50IHEDH3G ['B006W8U2MU', 'B006ZH0KVG', 'B00742BLO6', 'B0074CISLK', 'B007ELPQXO']\n",
      "A3AG5QAT8L0I3R ['B006W8U2MU', 'B006Y3IDYC', 'B006YTZUA6', 'B0079TOET8', 'B007LLYAIO']\n",
      "A10O7THJ2O20AG ['B006W8U2MU', 'B007PJ4P4G', 'B007PJ4Q4A', 'B007WTAJTO', 'B007XGL5U8']\n",
      "A3V6QSTG2T9MIO ['B006W8U2MU', 'B0078K17WK', 'B007BYLKFW', 'B007PTCFFW', 'B00829TIEK']\n",
      "A1FR68QH6Z4YZM ['B006W8U2MU', 'B007BJHETS', 'B008ACCPBW', 'B009D1UWUA', 'B009D40X4C']\n",
      "AGILRZOT49R0V ['B006W8U2MU', 'B00746UEOK', 'B0089DTV4Q', 'B008BWA3FQ', 'B008C4WBK8']\n",
      "A3LPL35P7FH78Y ['B006W8U2MU', 'B0074J7ITG', 'B007RESFHM', 'B007RESFYK', 'B0088PUEPK']\n",
      "A2F2GLVFRNV7JJ ['B006W8U2MU', 'B0074BW614', 'B007BJHETS', 'B007PJ4PLO', 'B007PZBGKQ']\n",
      "A2PL06HW6KZH2 ['B006W8U2MU', 'B0078LSTWU', 'B007RHW0ZW', 'B007TUZ5KE', 'B007V9SNNY']\n",
      "A3M82NO6OU1FHS ['B006W8U2MU', 'B006ZZQ5EY', 'B00776W34Q', 'B007NZGPAY', 'B0081N9180']\n",
      "A1MBXP3NZM2BUO ['B006W8U2MU', 'B00746YHV6', 'B007FPIQ3Q', 'B007PRHNHO', 'B007X3VC7W']\n",
      "A3HRDRQ5VAFPQS ['B006W8U2MU', 'B006WHPQCM', 'B007RFW1NA', 'B007V9SNNY', 'B007X95MNG']\n",
      "ATZJNEXX7LWD3 ['B006W8U2MU', 'B0079TOG82', 'B007F5LYVM', 'B007X3VEUC', 'B00829THEG']\n",
      "A3FPSY1M6G7XIB ['B006W8U2MU', 'B0073IYLFW', 'B007FFKUW6', 'B007JIN6T8', 'B007O0IB6O']\n",
      "A2X06FP2PQ6EK0 ['B006W8U2MU', 'B00B0CQCK4', 'B00BGGDVOO', 'B00BWL33H8', 'B00CG70K78']\n",
      "A1GYEGLX3P2Y7P ['B006W8U2MU', 'B00727FE5U', 'B007VL8Y5E', 'B007ZZ6OW6', 'B00829THK0']\n",
      "A64LEAZ2QF8L2 ['B006W8U2MU', 'B0071BTJPI', 'B007BJHETS', 'B0083J46Q4', 'B008RZ0EQ0']\n",
      "A3R19YKNL641X3 ['B006W8U2MU', 'B006WFV830', 'B006ZBWV0K', 'B006ZT4VA0', 'B0071BTJPI']\n",
      "AW6FQE5QRF2LM ['B006W8U2MU', 'B006X1RJZY', 'B006ZP8UOW', 'B007BCIJP8', 'B007EM7NES']\n",
      "A3DGJMO6VPG6FJ ['B006W8U2MU', 'B007AHJNF4', 'B007BYLMB4', 'B007JPCL88', 'B007OWQGTG']\n",
      "AZNUHQSHZHSUE ['B006W9ULPM', 'B0072ZQGIG', 'B007PG02Q4', 'B007X3VEC0', 'B009A6CZYO']\n",
      "A3H4S6YO9VNGDZ ['B006WAGG14', 'B006YG9E7O', 'B007IMPMW4', 'B007KJ1TGS', 'B007QXLIWI']\n",
      "ASF3J4UYV34KA ['B006WAGG14', 'B007WTAJTO', 'B00856XDOQ', 'B008DW95NA', 'B008HNP6W4']\n",
      "ASCBJEPXTOU0V ['B006WAGG14', 'B0077QRGES', 'B00785I5ZM', 'B007PJ4PKK', 'B007PPEPJ0']\n",
      "AL42PIIG5DXYD ['B006WAGG14', 'B007PODP1K', 'B007S9Q04G', 'B008J0ZOV8', 'B009PHTHRG']\n",
      "A13WREJ05GMRA6 ['B006WAGG14', 'B006ZAHMUU', 'B007O32MFW', 'B007RFYEQW', 'B008G9V60K']\n",
      "A21VM9WVF8EOSJ ['B006WAGG14', 'B00713DPM4', 'B0075Z2SMG', 'B0078IWRC6', 'B007DJGHF8']\n",
      "A27ADCSD15F3GL ['B006WAGG14', 'B006ZS5ATM', 'B00793MIJC', 'B007B6YPAW', 'B007ILFFS6']\n",
      "A3VONQL7YW8UPM ['B006WAPM78', 'B0074BW614', 'B007PLL4CK', 'B007SM7O2U', 'B007WTAJTO']\n",
      "AE88D7OM7YU99 ['B006WAPM78', 'B0079TOEQQ', 'B007BY0MIS', 'B007GR44PM', 'B007PRHNHO']\n",
      "A1C47ROOK7BSVL ['B006WASDPG', 'B006WSUGDU', 'B007A9UUJK', 'B007QOX5A0', 'B007RFW1NA']\n",
      "A2SR7S6ZJJDGNB ['B006WBVU50', 'B006ZTMEZ4', 'B007D6UWRK', 'B007P4VOWC', 'B007P79R2I']\n",
      "A1DTCJV6KOMJOA ['B006WHPQCC', 'B006WHPQE0', 'B0079003UQ', 'B007KTQU5I', 'B007QWF9GK']\n",
      "AIFLY2HF8NS8U ['B006WHPQCC', 'B0079UAT0A', 'B007B5QQ96', 'B007IJ7T4G', 'B007L5NKZO']\n",
      "A1GW7V6S6XSXX3 ['B006WHPQCC', 'B00746YHV6', 'B0076POB8O', 'B007X3VEC0', 'B007YXA5TC']\n",
      "A3F9CMU8KNAY1M ['B006WHPQCC', 'B0079UAT0A', 'B0079X0P3I', 'B00822GIH2', 'B00825BZUY']\n",
      "A3VZH0PWLQ9BB1 ['B006WHPQCC', 'B007GMPZ9Q', 'B007PZYBTY', 'B007WTAJTO', 'B008D1JRIO']\n",
      "A357B3PUHSVQA ['B006WHPQCC', 'B0079UAT0A', 'B007B6YPAW', 'B007G92MG8', 'B007G95FJE']\n",
      "A1KXJCXS6HFRQZ ['B006WHPQCM', 'B007DAK1AO', 'B007R3Z44U', 'B0081FLFQE', 'B00834SJSK']\n",
      "A2WCFDOCS73PNB ['B006WHPQCM', 'B007C8GMPU', 'B007GQ615O', 'B007H3L24Q', 'B007KZQM8W']\n",
      "A19XMHRB3G4DIR ['B006WHPQCM', 'B0076MBOC8', 'B0079UAT0A', 'B007FPIP2I', 'B008DWCRQW']\n",
      "A1KDUQ2HU0WD68 ['B006WHPQCM', 'B007FPIP6Y', 'B007G94EW8', 'B007Q8GOGI', 'B007X3VC7W']\n",
      "A1BT6TL7UCIC5Y ['B006WHPQCM', 'B006WHPQE0', 'B006ZBWV0K', 'B00742BLO6', 'B0079003UQ']\n",
      "AY6A8KPYCE6B0 ['B006WHPQCM', 'B006ZBWV0K', 'B0079UAT0A', 'B007B61GAO', 'B007FPIP2I']\n",
      "A3S5WYWYKSAI9C ['B006WHPQD6', 'B007AHJNF4', 'B007KZQM9G', 'B007PZYAJ0', 'B00829TIEK']\n",
      "A353U0L2HAMSHV ['B006WHPQD6', 'B006WHPQE0', 'B0077SAYY0', 'B0079UAT0A', 'B007KEZMX4']\n",
      "ABIVKBMSIPEDY ['B006WHPQD6', 'B006YQBKE4', 'B006ZS5AQA', 'B0072DKWQ0', 'B007KXBUHW']\n",
      "A359MYLPLEOF7N ['B006WHPQD6', 'B0075C1C44', 'B00793LVTU', 'B007TW93CI', 'B008Y92PS4']\n",
      "A1VQHH85U7PX0 ['B006WHPQD6', 'B006WVR9GY', 'B007LK5S0E', 'B007PJ4P4G', 'B007PJ4PKK']\n",
      "A3JUHP1E3WUHEA ['B006WHPQDG', 'B0076BNK30', 'B007ADFRS0', 'B007BZRXK2', 'B007FGYZFI']\n",
      "A215WH6RUDUCMP ['B006WHPQDG', 'B006Z1J2JI', 'B0074BW614', 'B00752RAWW', 'B0077AOALQ']\n",
      "AG7EF0SVBQOUX ['B006WHPQDG', 'B006Z1J2JI', 'B0073XID2E', 'B007CMSEUM', 'B007G5NNOW']\n",
      "AWNBZSEZ9P8BE ['B006WHPQE0', 'B006YTZUA6', 'B007IFO2B8', 'B007KZQM8W', 'B007X3VEX4']\n",
      "AUITG1DJ3QUGK ['B006WHPQE0', 'B00752R4S2', 'B007RFW1NA', 'B007XA7A3K', 'B00829THEG']\n",
      "A3094EPI56GKZ6 ['B006WHPQE0', 'B0074BW614', 'B007KZQM9G', 'B007PZYAJ0', 'B007X3VECU']\n",
      "A105S56ODHGJEK ['B006WHPQE0', 'B0079UAT0A', 'B007QJ3HKI', 'B007W7PK04', 'B007X3DAMM']\n",
      "A3MQ15651KGVLJ ['B006WHPQE0', 'B0079UAT0A', 'B007CLWM1K', 'B007F6XSL0', 'B007KXBUHW']\n",
      "A2X3L31KCXBHCL ['B006WHPQE0', 'B00739VGTU', 'B007PTCFFW', 'B007Y4TTWK', 'B00829THEG']\n",
      "A2RN2AO4BE6F4K ['B006WHPQE0', 'B007ZZ6OW6', 'B00829THVO', 'B00834SJNA', 'B0086KP1SM']\n",
      "ARIDN94LOCQFD ['B006WHPQE0', 'B0079UAT0A', 'B007KFLV9W', 'B007KXBUHW', 'B007RB164E']\n",
      "A1SB9BNNGKNX2Z ['B006WHPQUO', 'B0074FGLUM', 'B0076MBOC8', 'B007ZW7YJQ', 'B00834SJSK']\n",
      "AO8NH0BV82XIE ['B006WHPQUO', 'B006Z1J2JI', 'B007AMSSXM', 'B007BZRXK2', 'B00927N6NU']\n",
      "AC1YLEFC9AN5X ['B006WHPQUO', 'B007K3SB6K', 'B00829TIEK', 'B00884WH74', 'B0088CJT4U']\n",
      "ARTA78TP6H73D ['B006WHPQUO', 'B0078GCMGY', 'B007B61GAO', 'B007PZYAJ0', 'B007QJ3HKI']\n",
      "AFH97KY1SBP2C ['B006WHPQUO', 'B007B31IAK', 'B007B8S4JI', 'B007G4O5IG', 'B007OXY8H2']\n",
      "A1HBEQWSMVQEWJ ['B006WLBEPQ', 'B006ZH0LHY', 'B0072DKWQ0', 'B0075ZZUQ2', 'B007CCUJS2']\n",
      "A1EVV74UQYVKRY ['B006WPR60O', 'B006WXK874', 'B006ZT4VA0', 'B00742BLO6', 'B0078LSTWU']\n",
      "A2RGWCT6K2C3EZ ['B006WSUGDU', 'B00761ZRG8', 'B007M506WS', 'B0084TM1PG', 'B008JGR44W']\n",
      "A2OWR5G2OAQF7C ['B006WT2K8I', 'B006ZBWV0K', 'B0073HSH8U', 'B007PTCFFW', 'B007R9CTE2']\n",
      "A30C8WHQ2CYFO4 ['B006WU6ZT2', 'B007FGYZFI', 'B007RZB3KM', 'B00894YP00', 'B008XEYT5M']\n",
      "A1DQHS7MOVYYYA ['B006WVR9GY', 'B0079TOI8K', 'B007PJ4PLO', 'B0093GIME8', 'B0096YORV4']\n",
      "A37PV5GMP2ILJC ['B006WVR9GY', 'B007AHJNF4', 'B00834SJNA', 'B008B14TQ6', 'B008LTBHYU']\n",
      "A1Z16630QMH8Q6 ['B006WVR9GY', 'B007J7V2GS', 'B007PTCFFW', 'B007S642BW', 'B007ZSV9XM']\n",
      "A2SZLNSI5KOQJT ['B006WVR9GY', 'B0076POAI0', 'B0079UAT0A', 'B007HOHV9U', 'B007JAQBZW']\n",
      "A2DG63DN704LOI ['B006WVR9GY', 'B007BZRXK2', 'B007JGBD2M', 'B007OY5V68', 'B00829THK0']\n",
      "A5KMMY627T3W ['B006WVR9GY', 'B0077JAEI0', 'B0078GCM4G', 'B007BY0MIS', 'B007ULT41S']\n",
      "A1NRMTQ5SZPZA ['B006WVR9GY', 'B0078K17WK', 'B007ILK234', 'B007ZW43IQ', 'B00829THK0']\n",
      "A2XCCN239AR1XK ['B006WVR9GY', 'B006YTZUA6', 'B0071CU6HC', 'B0075SUHKI', 'B007KFLV9W']\n",
      "A1URXSRV6WDHVY ['B006WVR9GY', 'B006Y3IDYC', 'B006ZH0JBM', 'B006ZH0KVG', 'B006ZH0MP0']\n",
      "A1WXG10FJ353K0 ['B006WVR9GY', 'B006YLYYZ6', 'B0079UAT0A', 'B007IJ7UHC', 'B007KO7Z5W']\n",
      "A2HNH4PKE5DPSI ['B006WVR9GY', 'B0076F3RS4', 'B007FZN53W', 'B00829THEG', 'B00829THVO']\n",
      "A1IG1I6MR3HAWA ['B006WVR9GY', 'B0073A1EBE', 'B0073AIXOA', 'B0078J2HS4', 'B007Y4NWRI']\n",
      "A19NP8YYADOOSF ['B006WVR9GY', 'B006ZP8UOW', 'B007EPMRKK', 'B007FPIQ72', 'B007MX9XU6']\n",
      "ALDAF4VVLFRHP ['B006WVR9GY', 'B0079TOGDW', 'B0079TOI8K', 'B007DAJVVE', 'B007FPIP2I']\n",
      "A3REK3OFONWB1Q ['B006WVR9GY', 'B006ZBWV0K', 'B0079T722E', 'B007BXD66E', 'B007JCMDA2']\n",
      "A3M7BCQKSQAK4L ['B006WVR9GY', 'B007BYLKFW', 'B007GMPZ9Q', 'B007PRHNHO', 'B007SHJIO2']\n",
      "A2QRXQPHDMFCQV ['B006WVR9GY', 'B007AHJNF4', 'B007JELV8U', 'B007KZQM9G', 'B007X3VC7W']\n",
      "A3QU3O79AGNWCY ['B006WVR9GY', 'B006ZBWV0K', 'B008G1FFBO', 'B008MF3X9K', 'B009CN8VNY']\n",
      "A3QQCEQ33O0GJU ['B006WVVA28', 'B006Y7GGH4', 'B006YG976M', 'B007CNODQA', 'B007JCNOY6']\n",
      "A1F7YU6O5RU432 ['B006WYVHHS', 'B006ZGB58Y', 'B00726185Q', 'B0072B90R4', 'B0072ZQGIG']\n",
      "A2DXENZNO2JT4F ['B006WYVJ6W', 'B00752R9SM', 'B007ABIY4Q', 'B007P4YAPK', 'B007PTCFFW']\n",
      "A5A4374R8I7NB ['B006X0XFJ4', 'B007JWUP52', 'B007KCRQS0', 'B007KF1516', 'B0082BYLZ4']\n",
      "A1KSNK256G46GX ['B006X0Y6YC', 'B00752R9PK', 'B007ZT4N5C', 'B00BCA41PW', 'B00BEWF4R2']\n",
      "A3OYO7B6SS7QLH ['B006X2HD2M', 'B006Z69SG0', 'B0074FGLUM', 'B0076GK4A2', 'B007FH1FZ0']\n",
      "A32O5FZH994CNY ['B006X2HHZU', 'B006Y443TU', 'B006YWCQLO', 'B00746W3HG', 'B007471PZQ']\n",
      "A2LB4FLRZG6CUV ['B006X2HKMA', 'B006ZTMEZ4', 'B0071O4EKU', 'B0074BW614', 'B0076W9Q5A']\n",
      "A2BMZRO0H7TFCS ['B006X2HKZC', 'B0079UAT0A', 'B007HBLFT0', 'B007KTQU5I', 'B007PFQ0PC']\n",
      "A1B6O7SAIYG2N0 ['B006X3CIW6', 'B0078ZZ5Q4', 'B007ILK234', 'B007ZT4N5C', 'B00829TIEK']\n",
      "ARW8VGT10JG60 ['B006X3CIW6', 'B006ZFGDIW', 'B0073HSH8U', 'B007QOX5A0', 'B007WNN5SW']\n",
      "A2QIC4G483SQQA ['B006X3GXOU', 'B007B5PSG8', 'B007M7RP6Q', 'B007M7XRQ8', 'B008PA1SA8']\n",
      "A11YOTONCPRQ9S ['B006X98A7C', 'B006ZZUK5Y', 'B0071BTJPI', 'B0079BLTPS', 'B007GJ5DN2']\n",
      "A2UCDLO7V7DG6 ['B006X98A7C', 'B007TUSXEY', 'B008H3Z3ZO', 'B00AE2JGG8', 'B00B46TF9Q']\n",
      "AI2AOCTC8BQVZ ['B006XGCQ2U', 'B006XXPG6Q', 'B00742T0QW', 'B0077V88V8', 'B007MPKKLA']\n",
      "A1U5NWJOYH2QQH ['B006XGCQ2U', 'B007EEJNL2', 'B007JCNOY6', 'B007MHMNFE', 'B007P4VOWC']\n",
      "A25TQLMIAPI1T6 ['B006XGLF4A', 'B00728ZC1K', 'B007KEZMX4', 'B0089ZV1WY', 'B008AGUFL0']\n",
      "A2V7EO331SFUF6 ['B006XIQEM6', 'B008IEGSGU', 'B008LURQ76', 'B008XV7VTG', 'B0097BEF1S']\n",
      "A2X695AM08AIN1 ['B006XN3VI6', 'B006YW3DI4', 'B0075SUK14', 'B007BY3PMI', 'B007WTAJTO']\n",
      "A3IRA0BHI9NE9U ['B006XOX0JA', 'B007B6YPAW', 'B007GFX0PY', 'B00834SJNA', 'B009E6R89C']\n",
      "A1V4A5U5O3TMMD ['B006XXQRSM', 'B006ZNBILG', 'B0076OX780', 'B007FGYZFI', 'B007G5NNOW']\n",
      "A14I1F2H7NOYDC ['B006XXQRSM', 'B006ZH0LW4', 'B007PJF8RY', 'B007PZALFC', 'B007T0NM2M']\n",
      "A2ZFBTGPDP6PH6 ['B006Y0YZZ6', 'B007PAABDY', 'B007S642MG', 'B0083EPC80', 'B00CGTMXNA']\n",
      "A1C5WS021EL3WO ['B006Y0YZZ6', 'B007FH1KX2', 'B007G5NNOW', 'B007GYU71K', 'B007KXI2R8']\n",
      "A16HXVNPU5TCGE ['B006Y0YZZ6', 'B00894YWD0', 'B008SFSIXU', 'B008T17W9O', 'B009992QNC']\n",
      "A26EQ8U96JA92T ['B006Y0YZZ6', 'B0079TOET8', 'B008DWCRQW', 'B008ULPE70', 'B008X9Z8NE']\n",
      "A1OGCPMSIVK7G4 ['B006Y0YZZ6', 'B006ZS4R46', 'B00724X70C', 'B00746BJJY', 'B0078K16IK']\n",
      "APG2BHOAXPNEQ ['B006Y2BFG6', 'B006YLYYZ6', 'B00752QXZ2', 'B008AST7R6', 'B0098Y77OG']\n",
      "A3CJ7MHAS9IMAM ['B006Y3IDYC', 'B0077XIY06', 'B0079TOEQQ', 'B007FPIRSU', 'B007J8S96S']\n",
      "A1VYFEJM12ZP11 ['B006Y3IDYC', 'B007HV1P7W', 'B007IFO2B8', 'B007WTAJTO', 'B007XXVA60']\n",
      "A3LZA698SQPCXE ['B006Y3IDYC', 'B00746W3HG', 'B00746YHV6', 'B007AHJNF4', 'B007T8S490']\n",
      "A23E9QQHJLNGUI ['B006Y3IDYC', 'B00829THO6', 'B00829TIA4', 'B00834SJSK', 'B00894YP00']\n",
      "AP2NZAALUQKF5 ['B006Y44DAY', 'B007QE03IM', 'B007TASTPM', 'B00802PJ7O', 'B00BF6I01O']\n",
      "A3HXGSMCIOZEW8 ['B006Y44DAY', 'B006ZP8UOW', 'B00724H73U', 'B00746YHV6', 'B007FTEO1A']\n",
      "A3PCEB9ND82AGE ['B006Y54IK8', 'B0079XWO4G', 'B007GFX0PY', 'B007QVSYRW', 'B007WTAJTO']\n",
      "A3RMEU4GNP60BM ['B006Y61KY4', 'B006ZINK0S', 'B0077CR5RK', 'B007BJHETS', 'B007RQ0MDA']\n",
      "A2D0CO1OA6DSWY ['B006YB9082', 'B0074BW614', 'B008J7IJOK', 'B008OHNZI0', 'B009IKCE5C']\n",
      "A2VCXIAWCPQ13P ['B006YB9082', 'B00944KHJC', 'B00BP54KNM', 'B00CIQI0CY']\n",
      "A2ULZRSHXS3HL7 ['B006YC7S5I', 'B007EZGOMC', 'B007P8CWGU', 'B007SK9GCS', 'B0083WYFWG']\n",
      "A1TFDMY4YNTV97 ['B006YCHW5O', 'B007KPYBYE', 'B007L44LBW', 'B007ZZC2ZO', 'B008ILBKKM']\n",
      "A1QRST0A3IQIEF ['B006YG88QC', 'B007D3MHJY', 'B007EHKXS6', 'B007P6ZLM4', 'B007R67FNA']\n",
      "A2PREU4LOFQRB1 ['B006YG96KO', 'B006Z1J2JI', 'B0075WEPJI', 'B0077E48A0', 'B007JF8FD8']\n",
      "A3JU990UTN5RQP ['B006YG9QFE', 'B0078GCLRY', 'B007BZRXK2', 'B007KFVQXI', 'B007PYY8K2']\n",
      "A8WEXFRWX1ZHH ['B006YLTLUY', 'B0079TOEQQ', 'B007PTCFFW', 'B008YU39LU', 'B0096YOQRY']\n",
      "AW3LX47IHPFRL ['B006YLTLUY', 'B007BE9SGA', 'B008D9MU0S', 'B008DZ2YT4', 'B008RK9XTO']\n",
      "A8X478DM3KAWM ['B006YLTLUY', 'B0075W9QD8', 'B007B60SCG', 'B007P8CWGU', 'B007R9U3L8']\n",
      "AP53MVRC8ZEW2 ['B006YLTLUY', 'B0070JNULA', 'B0078IWQPE', 'B007GFX0PY', 'B007LB07HM']\n",
      "A1L1N3J6XNABO2 ['B006YP41I2', 'B0071QJB9M', 'B007HA3UYE', 'B007US83IG', 'B0090F8JAE']\n",
      "A2XU6J41ZQOJ2V ['B006YP41I2', 'B00752RAWW', 'B007ABIY4Q', 'B007EHI1DK', 'B007P4VOWC']\n",
      "A1ZCSSCAGBCD49 ['B006YP41I2', 'B00728ZAEY', 'B007BY0MIS', 'B007FL2794', 'B007HBLXI8']\n",
      "AWNJAY0M5UI70 ['B006YQBIB4', 'B0077E47SI', 'B0079EVQ2Q', 'B007BJC7UO', 'B007NKGA5Y']\n",
      "A1AWL9JASMG904 ['B006YQBIB4', 'B007109ZA8', 'B00711JB24', 'B0077KMY4G', 'B007BDJ81Q']\n",
      "A2W0XCWOK3MW6F ['B006YQBIB4', 'B007CLWM1K', 'B007FPIQ0E', 'B008HK3QII', 'B008HK3SSG']\n",
      "A1RL1OTV8IJMVD ['B006YQBIB4', 'B0073ESYZO', 'B0079T724W', 'B0079TOI8K', 'B007GR44PM']\n",
      "A3284KYDZ00BZA ['B006YQBKE4', 'B0081H8TRA', 'B00829THK0', 'B0082XN4PA', 'B0087B6SV4']\n",
      "A1ZPY91VE3IDN1 ['B006YQBKE4', 'B0079UAT0A', 'B007BY0MIS', 'B007X3VC7W', 'B007X3VDU8']\n",
      "A2IT7S59GSASN7 ['B006YQBKE4', 'B00742BLO6', 'B007JCNOHI', 'B007KTQU5I', 'B007VL8Y2C']\n",
      "A10PEXB6XAQ5XF ['B006YQBKE4', 'B006ZBWV0K', 'B0074BW614', 'B0079UAT0A', 'B007C8GMPU']\n",
      "ANTGGAQYPSWHF ['B006YQBKE4', 'B0074IOE62', 'B00829THEG', 'B008HK3WK0', 'B008ULPBJG']\n",
      "A2J8DE8R94ZB02 ['B006YQBKE4', 'B006ZT4VA0', 'B0071NWYP8', 'B00829THK0', 'B00834SJNA']\n",
      "A2Y3WWPUKIJ59I ['B006YQBKE4', 'B007PTCFFW', 'B007YX9O94', 'B00829THVO', 'B00829TIA4']\n",
      "A2TMFC9O3ZCNKE ['B006YSKIBS', 'B0072FJEA8', 'B007BCIJP8', 'B007M506WS', 'B007NZGPAY']\n",
      "A1R6RKKE44AYA8 ['B006YTUQ1O', 'B00834SJSK', 'B008D4X4GW', 'B009ZN9WIO', 'B009ZOVPUG']\n",
      "A2BUQ240COLAOP ['B006YTZR0Y', 'B007GBUCTA', 'B007RGF27Q', 'B007SLDF7O', 'B007SVHFXO']\n",
      "AQCJWSMSURQI2 ['B006YTZUA6', 'B007PJ4PKK', 'B00829THVO', 'B0088CJT4U', 'B0088PPFP4']\n",
      "A2V9DTXTQ5YIMK ['B006YTZUA6', 'B00746W3HG', 'B0074BW614', 'B0075Z2SMG', 'B0078GCLRY']\n",
      "ATDE9JYCPI0L1 ['B006YTZUA6', 'B007X3VEBG', 'B009VV56TY', 'B00DEYHPHU', 'B00E6ONJJU']\n",
      "A1HFT68GJ42LTM ['B006YTZUA6', 'B0077SAYY0', 'B0079TOG4Q', 'B007STRVTY', 'B007X3VECU']\n",
      "A20OBCQWBKCGZT ['B006YTZUA6', 'B0076POAPS', 'B0079TOEQQ', 'B0079UAT0A', 'B007C0Y7RI']\n",
      "A35W3JQYP0M655 ['B006YTZUA6', 'B0071CVTAK', 'B007KFLV9W', 'B007OY5V68', 'B007PJ4P4G']\n",
      "A356RFKNIG043B ['B006YTZUA6', 'B0076POAOE', 'B007C0Y7RI', 'B007JCMDA2', 'B0082E9K7U']\n",
      "A17BUUBOU0598B ['B006YTZUA6', 'B007200FCY', 'B0079TOET8', 'B0079UAT0A', 'B007JIBAZA']\n",
      "A1OA2ZW406NQXM ['B006YTZUA6', 'B007PJ4P4G', 'B0089L4TL8', 'B008LCYIEI', 'B00AQRUW4Q']\n",
      "AS8C336DDLSO4 ['B006YTZUA6', 'B007VGGIB6', 'B0081TQ83K', 'B008DWCRQW', 'B009O7Y8ZI']\n",
      "A2J8T58Z4X15IO ['B006YTZUA6', 'B007C0Y8NQ', 'B007DJGHH6', 'B007H3L24Q', 'B007Q8GOGI']\n",
      "A16WP8NTPYB0ZM ['B006YVWDJ0', 'B006Z0Q2SI', 'B007JF861O', 'B0085GBG54', 'B0085IOLZO']\n",
      "AZ8XSDMIX04VJ ['B006YWKCTW', 'B00752QXZ2', 'B007BJHETS', 'B007WTAJTO', 'B0083J95P6']\n",
      "A3TBMGNSEQBWIL ['B006YYSYAE', 'B007136CKQ', 'B007SIC4W4', 'B007WZK00G', 'B0086DVEIU']\n",
      "A1PVX61PRPVX27 ['B006YZ7DJQ', 'B0072FJEA8', 'B007TYUUPK', 'B007TYWF80', 'B007UMLEWO']\n",
      "AY4EXFOO43C3S ['B006Z0Q2SI', 'B008DWH00K', 'B008TCUXLW', 'B008ZGKWQI', 'B009DNIWKA']\n",
      "A2HKUM9OEBQKDW ['B006Z0Q2SI', 'B00744R5G2', 'B0074703CM', 'B0074BW614', 'B00763WVG0']\n",
      "AYP0YPLSP9ISM ['B006Z0Q2SI', 'B0078XGE3Y', 'B007HBLX8I', 'B007PJ4PKK', 'B007VQEIBS']\n",
      "A27GITTN6AVW5I ['B006Z0Q2SI', 'B007B5POVC', 'B007C0Y8NQ', 'B007HBLX8I', 'B007PA1K84']\n",
      "A213J54E63SYOP ['B006Z0Q2SI', 'B006Z7TA1W', 'B007BT9E78', 'B007HIIB4K', 'B007HJ5R32']\n",
      "A3PDWA32BAMB2Y ['B006Z1HTHK', 'B007SZ0E1K', 'B00834SJNA', 'B008DW95NA', 'B008EC4O76']\n",
      "A1H6SBO7R007I8 ['B006Z1J2JI', 'B006ZH0J30', 'B00714E9WS', 'B007471PZQ', 'B007FL6100']\n",
      "AGFSSC5DBY2HU ['B006Z1J2JI', 'B007FPIQ72', 'B007Q8GOGI', 'B007Q8GOHM', 'B00829THK0']\n",
      "A1UMSB7LAW0RIR ['B006Z1J2JI', 'B0079UAT0A', 'B007Q8GOHM', 'B008DWCRQW', 'B008H9BXMK']\n",
      "A3Q6ZPW60CVF2L ['B006Z394L2', 'B0088PUEPK', 'B008COJXHC', 'B0096TTOHG', 'B009YDO05U']\n",
      "A20UU20K7M9ZPF ['B006Z4AAG4', 'B0075BT8GO', 'B007B31IAK', 'B007NO9EEE', 'B00846Z34K']\n",
      "AN9WA4C5E7YY5 ['B006ZA8NEO', 'B0073T0D4O', 'B00746LVOM', 'B00785I5ZM', 'B007EYP5M8']\n",
      "A2HMF8ZR67BNZS ['B006ZA8RCC', 'B006ZB39QU', 'B006ZCCH76', 'B006ZN0664', 'B0075SUEOM']\n",
      "A3D0UM4ZD2CMAW ['B006ZAHMPA', 'B0073JYZ48', 'B0074CCDTS', 'B00775OC28', 'B0079XWPEK']\n",
      "A2J4XMWKR8PPD0 ['B006ZAHMUU', 'B007261A36', 'B00728Z9JA', 'B0077S79C0', 'B007GQ615O']\n",
      "A3PD8JD9L4WEII ['B006ZAHMZA', 'B006ZT4VA0', 'B0070ZHY6G', 'B00726185Q', 'B007261C6Q']\n",
      "A19N3S7CBSU6O7 ['B006ZB39QU', 'B008EIKTX8', 'B00923G46U', 'B00BC4J5O0', 'B00BGA9WK2']\n",
      "A3TP31S61PPE3G ['B006ZBWV0K', 'B0077CSBA0', 'B0077SAYY0', 'B0079R8KO0', 'B007C8GMPU']\n",
      "A1D9V11QUHXENQ ['B006ZBWV0K', 'B007B5QOHK', 'B007RFW1NA', 'B007WVA2PI', 'B00834SJNA']\n",
      "AG2YXYIQ8TLTA ['B006ZBWV0K', 'B0077SAYY0', 'B007OY5V68', 'B007R5YDYA', 'B00829THK0']\n",
      "A3QUDXLOJTKEP9 ['B006ZBWV0K', 'B007C0Y7RI', 'B007FPIO2E', 'B007JGB4RQ', 'B00829THK0']\n",
      "AMO1MLSIJSQOF ['B006ZBWV0K', 'B0078GCM4G', 'B007F9XHBI', 'B007JGBD2M', 'B007M4Z60Q']\n",
      "A361U4SXK7FCQE ['B006ZBWV0K', 'B0076POAOE', 'B0078GCLU6', 'B0078GCM4G', 'B0079R8KO0']\n",
      "ABUE0ALHKWKHC ['B006ZBWV0K', 'B007KEZMX4', 'B007WVA2PI', 'B0082E9K7U', 'B00856XDOG']\n",
      "A20DDH4NT6Q1E8 ['B006ZBWV0K', 'B00703BLCG', 'B007J3C5KY', 'B007NJ0S1W', 'B007PJ4P4G']\n",
      "A15J71JLC29KPW ['B006ZBWV0K', 'B007YXA5TC', 'B00829THVO', 'B008O2HWAM', 'B0092MD8OW']\n",
      "A226VGZWOEBPGL ['B006ZBWV0K', 'B007DC89OW', 'B007SHJIO2', 'B007W3REUW', 'B00829THO6']\n",
      "A30UP2KKD5IQEP ['B006ZBWV0K', 'B007H3L24Q', 'B007PZYAJ0', 'B00829THK0', 'B0085RZPPA']\n",
      "A1PPS91NLI7KEH ['B006ZBWV0K', 'B0074BW614', 'B0076POAI0', 'B0076POAOE', 'B0079UAT0A']\n",
      "ACQYIC13JXAOI ['B006ZBWV0K', 'B006ZC5PDE', 'B0079UAT0A', 'B007BYLLNI', 'B007WTAJTO']\n",
      "A3LSEIG2PIJYBL ['B006ZBZDPA', 'B0074024XU', 'B0079RY5AI', 'B007AUPY6I', 'B007WTAJTO']\n",
      "ARX7Z3NI6O0F7 ['B006ZC5PDE', 'B007QXZ73Y', 'B00829THVO', 'B00829TIA4', 'B008AL9VXI']\n",
      "A36A1ZYZH8568P ['B006ZCCH76', 'B0079R8KO0', 'B007BJHETS', 'B007WTAJTO', 'B0092KRAVQ']\n",
      "A247L282PID4PE ['B006ZCHVM2', 'B007DNHQPE', 'B007M7RP6Q', 'B007NSOS96', 'B008IZQCGK']\n",
      "AR8LWDT6TUKNZ ['B006ZGB58Y', 'B0079M711S', 'B007VGGIB6', 'B007X4A4RA', 'B0084ZY3QK']\n",
      "A17UNMURMLX0ZE ['B006ZGB58Y', 'B0079UAT0A', 'B007GR44PM', 'B007XJ7E5K', 'B00829THH8']\n",
      "A2WC9NFLG57W4H ['B006ZGB58Y', 'B00793MIJC', 'B007KZQM9G', 'B007W3REUW', 'B007X3VC7W']\n",
      "A1GNYV0RA0EQSS ['B006ZGB58Y', 'B0079UAT0A', 'B007B5PRA0', 'B007GR44PM', 'B007P4VOWC']\n",
      "A1VGXHHR08G044 ['B006ZGWJU2', 'B00766BF1E', 'B007PG02Q4', 'B007Q87KP2', 'B007R9M6PO']\n",
      "A110PC8C5Y7MQD ['B006ZGWJU2', 'B007476KRY', 'B007BWTOHU', 'B007KB3VIU', 'B007ULT41S']\n",
      "A1GBU479WXR7UG ['B006ZGWJU2', 'B00727FE5U', 'B0074BW614', 'B0082OJ2VE', 'B00861DI4U']\n",
      "A3NHUQ33CFH3VM ['B006ZH0JBM', 'B006ZH0KJS', 'B006ZH0KVG', 'B0071BTJPI', 'B0079T722O']\n",
      "ATMQEI1LKR6VB ['B006ZH0JBM', 'B0078SAIUY', 'B00829TIA4', 'B008O515CK', 'B009APBY0G']\n",
      "A3GQY0TFRG0MPZ ['B006ZH0JQM', 'B007I5BRIE', 'B007R1FH3K', 'B007RESFHM', 'B007SNMQDQ']\n",
      "A9J4UURM4OSDW ['B006ZH0K2K', 'B00894YP00', 'B0096W1OCG', 'B00AA478UQ']\n",
      "A30R8VFR16RE32 ['B006ZH0KJS', 'B0076POAPS', 'B0079TOG82', 'B007C1KNFW', 'B007RFW1NA']\n",
      "A37D1ZP8GBHE38 ['B006ZH0KJS', 'B007AHJNF4', 'B007IJ7UHC', 'B0081FLFQE', 'B0081H8TRA']\n",
      "A2NN1KIYEM2SKS ['B006ZH0KVG', 'B007FNF5IC', 'B007PJ4P4G', 'B007PR8NQO', 'B007VXJ9IS']\n",
      "A1OMXVXXP07F05 ['B006ZH0KVG', 'B006ZT4VA0', 'B00768SBAU', 'B0079UAT0A', 'B007Y4BL1C']\n",
      "A1NZLRAZJGD99W ['B006ZH0KVG', 'B00865MZKY', 'B008C1JC4O', 'B008HY8XTG', 'B008I636D6']\n",
      "A1RPTVW5VEOSI ['B006ZH0KVG', 'B0078SAIUY', 'B00793MIGK', 'B00829THEG', 'B00829TIEK']\n",
      "A3MMR2WDKAK0PA ['B006ZH0KVG', 'B007B2QDFQ', 'B007PJ4PKK', 'B009P7JJEC', 'B009VN9F0S']\n",
      "A3EK2KTYHJCPB9 ['B006ZH0L2E', 'B0074BW614', 'B0074WVYNO', 'B00829THEG', 'B00829TIEK']\n",
      "A3RR2P5IS3DGPR ['B006ZH0L2E', 'B00742BLO6', 'B007F5LYVM', 'B007GFX0PY', 'B007WTAJTO']\n",
      "A30X750M8V1XXW ['B006ZH0L2E', 'B0076POAI0', 'B007FPIQ0E', 'B007PZYAJ0', 'B007T9TK9M']\n",
      "A1HBI9BBQIG1NH ['B006ZH0L2E', 'B007ZW7YJQ', 'B00829TIA4', 'B0088CJT4U', 'B008MJ01QE']\n",
      "A2SGAJWXG65464 ['B006ZH1WVS', 'B007B31IAK', 'B007HBLX8I', 'B007HBLXI8', 'B007JVXZIC']\n",
      "AJCR7L4AXL2OG ['B006ZN4SDG', 'B006ZN4U34', 'B006ZN54NO', 'B007AJZF4U', 'B00AMPIVFO']\n",
      "A35SNSDRNE9P8Q ['B006ZNBILG', 'B0073XD78Y', 'B00740MR78', 'B007A72AR2', 'B007L44LBW']\n",
      "A1P3DDFL423B3C ['B006ZNX81E']\n",
      "A32AK8FOAZEPE2 ['B006ZNYSX6', 'B0077CT8K2', 'B007DZIC6E', 'B007P8I3K4', 'B0088TKU14']\n",
      "A1U4GOVZWL8ZTL ['B006ZOEOOS', 'B00761MABI', 'B0076GK4A2', 'B0079M711S', 'B007BY3PBE']\n",
      "A1M7HP5CHDXXOU ['B006ZOG4PU', 'B0073BOCNU', 'B007471PZQ', 'B007B6YPAM', 'B007F10V60']\n",
      "A2AX2UGB167J31 ['B006ZOG4PU', 'B007EPEH44', 'B007KXI2R8', 'B007PFR8V2', 'B007PTCFFW']\n",
      "A23QII83UGZP5U ['B006ZOI9OY', 'B0073K64NM', 'B007E8TWPU', 'B007KTQU5I', 'B007OWZRC8']\n",
      "A1KWPIORLG2QV ['B006ZOI9YY', 'B007D6Y58M', 'B007HZLLOK', 'B00829THK0', 'B00834SJNA']\n",
      "A3L1VJMHFWONCB ['B006ZOIJ0S', 'B0079SJEJE', 'B0079SLU5A', 'B007M5T4NA', 'B007XJIYI6']\n",
      "AL5CUWBFBMWYQ ['B006ZP8UOW', 'B007JUFKLI', 'B007WTAJTO', 'B00829TIA4', 'B00829TIEK']\n",
      "A3TAS1AG6FMBQW ['B006ZP8UOW', 'B0073FE1F0', 'B00752RAWW', 'B0079UAT0A', 'B007AHJNF4']\n",
      "A2ZDY0V4Q1SZD7 ['B006ZP8UOW', 'B0077HED8O', 'B007DJGHF8', 'B0081H8TRA', 'B00834SJNA']\n",
      "A2I6GN7OHB9JKF ['B006ZP8UOW', 'B0072XQI2W', 'B0074FGLUM', 'B007JWICOI', 'B007WTAJTO']\n",
      "AW6A4PPENVZY3 ['B006ZP8UOW', 'B0076HMDQO', 'B007FGYZFI', 'B007FH1KX2', 'B007R7DTRK']\n",
      "A3JAH5WW61N2EK ['B006ZP8UOW', 'B0075SUK14', 'B007929ZLC', 'B007B4ZDUA', 'B007DL79FS']\n",
      "A3LQUEB84IR3VO ['B006ZP8UOW', 'B0076U29LK', 'B007B31IAK', 'B007R67FTY', 'B007WTAJTO']\n",
      "A2ZFFSJ0VM6KSJ ['B006ZP8UOW', 'B007I5JT4S', 'B007MHFMMU', 'B007WTAJTO', 'B007XW5QC0']\n",
      "A2L42QEWR77PKZ ['B006ZP8UOW', 'B00713AA5E', 'B0077V88V8', 'B007NDJ2J2', 'B007NKOC2W']\n",
      "A3CP3J7OEGQMD5 ['B006ZP8UOW', 'B007B5ZNV8', 'B008EE7NY0', 'B009EIUH6G', 'B009KY58FE']\n",
      "A253IOATGMT2UP ['B006ZQI1VS', 'B0071BTJPI', 'B0072B90R4', 'B00752R4PK', 'B0076DKLA8']\n",
      "ALHC64J88LVWO ['B006ZRVBV4', 'B0073XD78Y', 'B007Q94CZM', 'B007TUSXEY', 'B0082PRPIA']\n",
      "AV10H5K6VPQIJ ['B006ZS4R46', 'B007CO5DZ4', 'B007WTAJTO', 'B0081RQO1S', 'B0089OG84Q']\n",
      "A3R4794K2RVU1S ['B006ZS5AQA', 'B006ZS5ATM', 'B007F5LYVM', 'B007KZQM9G', 'B007PFMCCW']\n",
      "A23GFTVIETX7DS ['B006ZS5AQA', 'B00721DM3W', 'B00746LVOM', 'B0078AFGW2', 'B0078ZZ5NM']\n",
      "ALRCAGJOJ9583 ['B006ZS5AQA', 'B0078K17WK', 'B007SM7O2U', 'B007XDFO9O', 'B00829TIA4']\n",
      "AEJAGHLC675A7 ['B006ZS5AQA', 'B006ZT4VA0', 'B0071BTJPI', 'B007621EL4', 'B0076MBOC8']\n",
      "A3EM243NDJ4DF3 ['B006ZS5AQA', 'B0079TOG82', 'B007OJKQGI', 'B007XOQUY6', 'B00829THK0']\n",
      "A24HWYHR28JJ7A ['B006ZT4VA0', 'B0079T724W', 'B0079TOEQQ', 'B0079TOET8', 'B007BXD66E']\n",
      "APGQTZZ4ZFPHO ['B006ZT4VA0', 'B0072FJEA8', 'B0079WZ386', 'B007NFPBA4', 'B00840KRDI']\n",
      "AYNAH993VDECT ['B006ZT4VA0', 'B0079UAT0A', 'B007T08XA8', 'B008H9BXMK', 'B008LCYIEI']\n",
      "A2I18AO597DSDI ['B006ZT4VA0', 'B007BYLKFW', 'B007IFAP6Y', 'B007LLYB4M', 'B0081H8TRA']\n",
      "A3SP7T2PZ3HSDE ['B006ZT4VA0', 'B007JMNJFK', 'B00829TIA4', 'B0082YEH8M', 'B0096VCHMI']\n",
      "A18GJ9MYYO6GCQ ['B006ZT4VA0', 'B0079UAT0A', 'B007W66RCU', 'B008HK3QII', 'B008HK3SSG']\n",
      "A781ITP3HE2N5 ['B006ZT4VA0', 'B007BCIJP8', 'B007V5A1BK', 'B00821U130', 'B008G9V60K']\n",
      "A1H7Y5XKPGT0OS ['B006ZT4VA0', 'B0074BW614', 'B007FPIP6Y', 'B0081WPKKO', 'B008EQYRRY']\n",
      "A1CMWB7AWQUQH4 ['B006ZT4VA0', 'B00728Z9JA', 'B0074BW614', 'B0077CR5RK', 'B007TG8QRW']\n",
      "A197T2N6RU7K56 ['B006ZT4VA0', 'B007703QDO', 'B0078K16IK', 'B007N6OED8', 'B007XOYBE2']\n",
      "AKSFZ4G1AXYFC ['B006ZTMEZ4', 'B00813KIAA', 'B008XV7VTG', 'B0091SD3CE', 'B009LQMNIG']\n",
      "A18U49406IPPIJ ['B006ZTMEZ4', 'B0084Y47SK', 'B0085IZNJW', 'B0085V61HW', 'B008AST7R6']\n",
      "A1R3GN9MEJFXM3 ['B006ZTMEZ4', 'B007WTAJTO', 'B007X19M1W', 'B008YXFV0E', 'B009PK9SBS']\n",
      "A2NX6MFZP8TM6S ['B006ZW4HY2', 'B007R5YDYA', 'B007X3VC9A', 'B007X3VEBG', 'B00834SJSK']\n",
      "AN9CP6J4JF91X ['B006ZW4HY2', 'B007G5NNOW', 'B007WTAJTO', 'B007YXA5SI', 'B00829THK0']\n",
      "A1KD8NJPZ01R37 ['B006ZYJS7G', 'B006ZYK26W', 'B006ZZW3X6', 'B00700UU3K', 'B0070UFMOW']\n",
      "A33YZNZIRA3H97 ['B006ZZ2V9M', 'B0077V88YU', 'B007K3QVPI', 'B007RFW1NA', 'B007RH5GZI']\n",
      "AS2II0671KT2C ['B006ZZSX26', 'B00722JCMQ', 'B0074BW614', 'B00776S11U', 'B0077CR5RK']\n",
      "A274X54O9CN2SR ['B006ZZUIXS', 'B008ABOJKS', 'B008IV9RR0', 'B009MSGEHO', 'B00AQT653G']\n",
      "A18YMFFJW974QS ['B006ZZUK5Y', 'B007Q8GOHM', 'B008DWCRQW', 'B00AYQ433U', 'B00BOHNYU6']\n",
      "A15QYHQH80W30L ['B006ZZXVCI', 'B0075GDS60', 'B0085TBFNO', 'B008S2YMFG', 'B0093HGD2K']\n",
      "A29KJ32G75L7G9 ['B007019HJW', 'B0074BW614', 'B007IIT8KU', 'B007M506WS', 'B007PJ4Q4A']\n",
      "A17W0GMB0YY83M ['B007019HJW', 'B0074BW614', 'B0074F5DMO', 'B0076NA716', 'B007B6YPAW']\n",
      "A1VR1HIOVQWN09 ['B00703BGAS', 'B00746W3HG', 'B0077V88ZE', 'B007B31IAK', 'B007ZTQW9M']\n",
      "AG6TX1ZJHLMO7 ['B00703BLCG', 'B0077QUZS2', 'B0079UAT0A', 'B007G95FJE', 'B007JCMDA2']\n",
      "AXU3VKZE848IY ['B00704UJ1Y', 'B007F5LYVM', 'B007IFO2B8', 'B0081KKE4I', 'B0081TXIXI']\n",
      "AZMY6E8B52L2T ['B0070CNY9K', 'B007M6OZCE', 'B007OY5V68', 'B007PX7QES', 'B0081CRXGI']\n",
      "A6VXZ1EEPRTLV ['B0070JNULA', 'B007GJ5DN2', 'B0082E9K7U', 'B0092KRAVQ', 'B00AKO7XOW']\n",
      "AOEAD7DPLZE53 ['B0070S7DDM', 'B00722JCMQ', 'B0077IJEYG', 'B007B5TPVM', 'B007BJC8SK']\n",
      "A2Z9S2RQD542CP ['B0070TR6XS', 'B00746LVOM', 'B0074BW614', 'B0079M711S', 'B007ADFKAK']\n",
      "A2CWIYIETNBAK3 ['B0070U8KSM', 'B00829THEG', 'B00829THK0', 'B00829TIA4', 'B00829TIEK']\n",
      "A17RFKCYS69M3Y ['B0070XF9LA', 'B0088Y12UW', 'B00G04ZLMW']\n",
      "ANEDXRFDZDL18 ['B00710TNLE', 'B0071BTJPI', 'B0074WVYNO', 'B007BYLO4E', 'B007LKSZ7W']\n",
      "A35A2RWUMC737N ['B0071368WI', 'B0073G6MGU', 'B007HISGRW', 'B007PQ0K1G', 'B007W66BRG']\n",
      "A2Q204DY2L7YRP ['B007136AW6', 'B0079M711S', 'B007A83S7M', 'B007MAYD7M', 'B007ORX8ME']\n",
      "A185O1MX1RP964 ['B007136BMA', 'B0083COMXS', 'B0085IZNJW', 'B0088CJT4U', 'B008AEBY1M']\n",
      "AYOTEJ617O60K ['B00713AA5E', 'B007477COO', 'B0074H3IU6', 'B007B6YPAM', 'B007FUDKB4']\n",
      "A1P0JSFW184ZXJ ['B00713DPM4', 'B00752VKFA', 'B007AHJNF4', 'B007K9P7H0', 'B007KEZMX4']\n",
      "A1PVJICI412IN4 ['B00713DPME', 'B0071AKB38', 'B007G7CO2C', 'B007XWHGIC', 'B00840353W']\n",
      "A3RGJ1FXOB1ZLL ['B00713RT62', 'B007A44VAE', 'B007CF2TW8', 'B007HJJLVQ', 'B007RESFYK']\n",
      "A1MRPX3RM48T2I ['B00713RT6M', 'B007TEEB0U', 'B0081H8TRA', 'B00825BZUY', 'B0087KGMUC']\n",
      "A1MCH5RXDOH87H ['B00715CTVU', 'B007AHJNF4', 'B007R5YDYA', 'B007XDFNB8', 'B007XDFO9O']\n",
      "A19UTUEBWKIZFT ['B00719CH0O', 'B00752R89C', 'B00752R9PK', 'B0075SUK14', 'B0077E48FA']\n",
      "A2MSBIA18RXYQC ['B00719CH0O', 'B007JQ6QGK', 'B007LK5S0E', 'B007UGNCMA', 'B00BFDHVAS']\n",
      "A32O98PFC3OP7K ['B0071BTJPI', 'B007JCNOHI', 'B007ZZ6OW6', 'B0082821YK', 'B008DWCRQW']\n",
      "A1V4VVBQBFXRHC ['B0071BTJPI', 'B0076LTKTS', 'B0076SIJPW', 'B007NN04KI', 'B007POCITA']\n",
      "A19FRW264WZTGP ['B0071BTJPI', 'B00829THK0', 'B00834SJNA', 'B008N0ATDW', 'B0092MD8OW']\n",
      "AY3XPKRAMKKY7 ['B0071BTJPI', 'B007ZQR15E', 'B00832NCWU', 'B00834SJSK', 'B009APBY0G']\n",
      "A2FZQF0MH29VYN ['B0071BTJPI', 'B007PX7QES', 'B007SM7O2U', 'B007ULT41S', 'B007VA78HA']\n",
      "A3BY5KCNQZXV5U ['B0071BTJPI', 'B0073V1NP0', 'B0076AUCKU', 'B007IVW15Q', 'B007PTCFFW']\n",
      "AWZR0O65DL2Q ['B0071BTJPI', 'B007VT0FT4', 'B008B3U5NK', 'B008EWNVI4', 'B008F4NL04']\n",
      "A2M14CFAMF8J7I ['B0071BTJPI', 'B0077UTDCC', 'B007R9M6PO', 'B007Y4BL1C', 'B0081FLFQE']\n",
      "AI0BCEWRE04G0 ['B0071C7BTI', 'B007NE0OLG', 'B007Y4NWQE', 'B009SGB3KI', 'B009VPQK5E']\n",
      "AU2UJF4I7KAWL ['B0071CIPYI', 'B0076EHMRW', 'B0080KFPPM', 'B00827MK3S', 'B0082IX6MG']\n",
      "A1X1CEGHTHMBL1 ['B0071D6F9E', 'B00746LVOM', 'B007BJHETS', 'B007IV7KRU', 'B007JPVT8G']\n",
      "A1IU4UAV9QIJAI ['B0071EHL7S', 'B0072L6TUK', 'B0073P32X2', 'B0077Q85LQ', 'B007X6FC48']\n",
      "A3N0P5AAMP6XD2 ['B0071HZ5RI', 'B0071N3AYC', 'B0073WTG6M', 'B00752R4PK', 'B00756YMGU']\n",
      "AAXAKFQEAQPWC ['B0071I0Z6I', 'B007B8IR9A', 'B007POFBPI', 'B007X50G8Q', 'B007XOQ3BQ']\n",
      "A3NEAETOSXDBOM ['B0071LB74E', 'B00727FE5U', 'B0073Z49AM', 'B007FPIQ0E', 'B007WVA2PI']\n",
      "A1AKW788238PWQ ['B0071LSAR6', 'B007KCNKP8', 'B008I5S4AW', 'B008ILJZRC', 'B00CURXZD0']\n",
      "A1PSVZBM894R5H ['B0071N6AC6', 'B008R77ZCO', 'B00IJILV7Q']\n",
      "A368IPE6EW0GZL ['B0071NUTJ6', 'B007FGYZFI', 'B007LGD6HA', 'B008FXYH3U', 'B008H6HFZM']\n",
      "A1LD5SE8IZ1H70 ['B0071NWYP8', 'B00752R8KG', 'B00752R9PK', 'B00752R9Q4', 'B0077E47SI']\n",
      "A3D7BGK0P5QY0X ['B0071O4EZK', 'B007C861WO', 'B007F9XHCM', 'B007F9XJW0', 'B007ZT2K9I']\n",
      "A2VIYTWXANL343 ['B0071O4EZK', 'B00793MIJC', 'B007AIQF3G', 'B007MPN67K', 'B0087X71ZO']\n",
      "A1TQBAHI3M4ZBQ ['B0071OSXYS', 'B008DCBS94', 'B00BWF5U0M', 'B00COX9UXY']\n",
      "A1SFPA80X7TRBR ['B0071RRT18', 'B008B7ZSVK', 'B008MDSWI4', 'B008QSRRJ0', 'B00F23HCVU']\n",
      "A16C19G0I2DE8S ['B00722JCMQ', 'B007FN910U', 'B007N4TVRE', 'B007PF3PY6', 'B007SM7O2U']\n",
      "AKBVYIIHWI04B ['B00722JCMQ', 'B0080E1W5A', 'B008AJNF78', 'B008OUQAFM', 'B009BAV266']\n",
      "A1MFPAM9TTRTXN ['B00722JCMQ', 'B007IIT8KU', 'B007WTAJTO', 'B008AJNF78', 'B008EC4O76']\n",
      "A3N4VTNFPMTHEF ['B00723KZTY', 'B0079T724W', 'B007FPIQ0E', 'B007PJ4Q4A', 'B007RESGGC']\n",
      "A1QLQCJVGCQPP0 ['B00724W0N2', 'B007FL6100', 'B0083I7Y8W', 'B008LTBITY', 'B008OGE8UU']\n",
      "A8FKL1DHTHC12 ['B00725FE20', 'B00741IGFY', 'B0079R2OU6', 'B007B31IAK', 'B007FH1FZ0']\n",
      "A2DIQTZPF26T1L ['B00725FE20', 'B007EJU8CU', 'B007O3572C', 'B007Q4WMSG', 'B007WTAJTO']\n",
      "A10NMELR4KX0J6 ['B00727FE5U', 'B007G51VEQ', 'B007SZ0EHE', 'B007SZ0EOW', 'B0081CRXGI']\n",
      "A20951I210L0IB ['B00727FE5U', 'B007ABBHWW', 'B007H1ZB5Y', 'B007JPVT8G', 'B007NNN568']\n",
      "A17O9AHKHK66AI ['B00728ZAEY', 'B007M4XML6', 'B007MUZ3VM', 'B007W2ZDX8', 'B007X3VEX4']\n",
      "ADPKRJ2BSFJ0I ['B00728ZBA2', 'B0073FE1F0', 'B008MB6ZX0', 'B0096W1OCG', 'B0099D2LOM']\n",
      "A3EX8ZFNVDHGPM ['B00728ZBA2', 'B007PJ4P4G', 'B008RFA39S', 'B008TWWLAS', 'B0092SJY9O']\n",
      "A1C5TCCR2IGKBU ['B00728ZBA2', 'B0094342T4']\n",
      "A1N3EH28S4DI8L ['B0072B0T2O', 'B0074DNYPE', 'B0076BNK30', 'B007FGYZFI', 'B007TIYYQ2']\n",
      "A17Z0LVY96TO53 ['B0072B5COY', 'B0074F5DMO', 'B007FGYZFI', 'B007R21KBC', 'B007SZ0EHE']\n",
      "AA91O96C1Z18W ['B0072B9XP8', 'B007BYUVUW', 'B007G92MG8', 'B007NE7FXG', 'B0080NAI10']\n",
      "A3VL4RXCWNSR3H ['B0072C8DE4', 'B007LB07HM', 'B007YC3H1Q', 'B009FD4UDG', 'B00A81SXHI']\n",
      "A3KCKECEO3E2AN ['B0072DKWQ0', 'B007CRWQ74', 'B007F9XHBI', 'B007K3SB6K', 'B007R8U5R6']\n",
      "A2IMLOJ2Z2QEU2 ['B0072DKWQ0', 'B008DWCRQW', 'B008EQZ25K', 'B008MJ01QE', 'B008ULPA2O']\n",
      "A1ASWDAEDTTY5I ['B0072FJEA8', 'B007KEZMX4', 'B007Y8N19S', 'B008OZF9SQ', 'B0092THNDW']\n",
      "A1OH33MR6K4G5J ['B0072K16PY', 'B00746W3HG', 'B0074BW614', 'B007DJGHF8', 'B007HTGS9O']\n",
      "A3639Z6O5JBLIZ ['B0072L5P6Y', 'B007A7P614', 'B007P4VOWC', 'B008Z0F3FY', 'B0096239G0']\n",
      "A1G650TTTHEAL5 ['B0072LASLQ', 'B007CF13JS', 'B008EQYRRY', 'B008F05Q2E', 'B008N06I2I']\n",
      "A2R1HUYHXV7H18 ['B0072LEKMO', 'B0079UAT0A', 'B007B5TPVM', 'B0088CJT4U', 'B008DWCRQW']\n",
      "A2QDOJFFLFGF18 ['B0072LEKMO', 'B0077SAYY0', 'B0079UAT0A', 'B007Q8GOHM', 'B007W7PK04']\n",
      "A3DL29NLZ7SXXG ['B0072NPFH6', 'B0088LEVI0', 'B008DGYQC6', 'B008ZUIGVC', 'B00B3KZ48Y']\n",
      "A3E049PVKG7NDK ['B0072NQBWO', 'B007BPR4Y2', 'B007C861WO', 'B007R3Z44U', 'B007R9M6PO']\n",
      "A12ANFNOSMW5VD ['B0072XQI2W', 'B007XGLC9C', 'B0081FLFQE', 'B008F4NL04', 'B008FH1R0M']\n",
      "A25RTRAPQAJBDJ ['B0072ZQGIG', 'B007W66RCU', 'B00871SR68', 'B008MF48J4', 'B008R6WUZC']\n",
      "A2WA8TDCTGUADI ['B0072ZQGIG', 'B007W0XHK6', 'B00884WH74', 'B0088CJT4U', 'B008P8FDEW']\n",
      "A12O5SEIF162P8 ['B0072ZQGIG', 'B007ABIY4Q', 'B008HK3YEE', 'B008O8EGOQ', 'B008X9Z6EA']\n",
      "A2MIP3AQVSF2SS ['B00731EXK2', 'B007IMPMW4', 'B007MW73C2', 'B007QXLIWI', 'B007WTAJTO']\n",
      "A3SQCTNYQFVBWM ['B00737M4PW', 'B007CDGYVW', 'B007HOST8C', 'B007MYDWKW', 'B007VXJ1WW']\n",
      "A2LLSFQO8O8XNW ['B00739TCH8', 'B007PODQTQ', 'B007PPEW52', 'B007SDHAJ6', 'B009C3M7H0']\n",
      "A7FDGFK0KN7QG ['B0073A1EBE', 'B0074WDGAI', 'B0082E9K7U', 'B00836JHVQ', 'B0087BEHRG']\n",
      "A16SRDVPBXN69C ['B0073AIXOA', 'B007ZZC35I', 'B0084FM5JC', 'B0087TESSQ', 'B00894YP00']\n",
      "A2NT3W1F1XYBFZ ['B0073B3LRS', 'B007ZEB8N2', 'B008BBI70A', 'B008X1C1AK', 'B0093M2URM']\n",
      "AWJWCKB92RJX2 ['B0073B6VXO', 'B0073WRKAG', 'B00BE50BPO']\n",
      "A2T24Z5QP2OMXU ['B0073ESYZO', 'B007FL6100', 'B007WR0EP0', 'B007WTAJTO', 'B007XOQ3BQ']\n",
      "AFNG8O2DXRCUV ['B0073ESZ58', 'B007PAHHWM', 'B007POCVQK', 'B007WTAJTO', 'B00825BZUY']\n",
      "A1QQA7Y92L4F9R ['B0073FE1F0', 'B007WTAJTO', 'B00B46XUQU', 'B00E83XHXM']\n",
      "A1MEISNED4NP7U ['B0073FE1F0', 'B007PJ4P4G', 'B007PLL4CK', 'B007PTCFFW', 'B007R21JYA']\n",
      "A1UEL5C1N6E5SE ['B0073FE1F0', 'B00746LVOM', 'B007PUUU76', 'B008D6JDS8', 'B0091C1HTG']\n",
      "A12EVK82QUTSA6 ['B0073FE1F0', 'B0079TOG82', 'B007IV7KRU', 'B007PTCFFW', 'B00829TIA4']\n",
      "A1EH2S92FHWZRP ['B0073FE1F0', 'B007PTCFFW', 'B007QIXSVM', 'B007X3VEC0', 'B00884WH74']\n",
      "A1CM4HI4S5P0WO ['B0073GLC6U', 'B0073PRJYK', 'B0088AP6IK', 'B008MPKAPK', 'B008S7AVTC']\n",
      "A3T8WOFS5RD2IR ['B0073H2WP4', 'B0076POAI0', 'B007YKUWN4', 'B0088CJT4U', 'B008NFWAO8']\n",
      "AK9BXHEXOOM6Z ['B0073H2WP4', 'B0073W6YDA', 'B0077CR5RK']\n",
      "AU627A4UGIW6V ['B0073HSH8U', 'B0076F3RS4', 'B008M9U3BM', 'B008MB71IS', 'B008RSX3H4']\n",
      "A27M75LRSJ788H ['B0073HSH8U', 'B0073HSK0K', 'B0074BW614', 'B007IMPMW4', 'B007M506WS']\n",
      "A2SH7OWE8QJYNC ['B0073HSH8U', 'B007PJ4PKK', 'B00858I4F2', 'B008P1V5YQ', 'B008ZT7XT4']\n",
      "ABE5E8B3J7MKY ['B0073HSHJY', 'B007R1FH3K', 'B007R5YGO2', 'B007SM7O2U', 'B00829THK0']\n",
      "A386LG0LRWKJZP ['B0073HSHJY', 'B007PTCFFW', 'B00814CAS2', 'B0085GVX8E', 'B008RJZQSW']\n",
      "A1TDR7Y90SVCHL ['B0073HSK0K', 'B007PJVB3Y', 'B007WTAJTO', 'B0083R9QQG', 'B008Y6SV1W']\n",
      "A3CW0ZLUO5X2B1 ['B0073ITZZ8', 'B00752R4S2', 'B00752R8KG', 'B0078AFGW2', 'B0079UAT0A']\n",
      "A2K6CDQ9HZ359G ['B0073K645A', 'B007IV7KRU', 'B007RZB3KM', 'B0083Z6R4W', 'B0088PPFP4']\n",
      "ABSYIF0ONC2AF ['B0073K64NM', 'B0079TOG82', 'B007B5WHTE', 'B007TWNDWY', 'B00829TIA4']\n",
      "AHROSV6WJOEGY ['B0073UIS40', 'B007IQGLO8', 'B007MD4C8O', 'B007PJ4Q4A', 'B008ALA6DW']\n",
      "A2JXS1JII6SAUD ['B0073VB3KA', 'B00752QYLK', 'B007CE7W08', 'B007P4VOWC', 'B007R1FH3K']\n",
      "A22MANL4US4RMY ['B0073VRV5G', 'B0074CISLK', 'B00752R4PK', 'B0077B403S', 'B007NJ0S1W']\n",
      "A2POXR5VS3PHKR ['B0073WTG6M', 'B0073XFBHO', 'B007O9NW6Y', 'B0089V4WOC', 'B008ZGKWQI']\n",
      "A3CFU12GS5CZCN ['B0073XZ0DO', 'B0076HMDQO', 'B0078T8346', 'B007PFZEKY', 'B007WTAJTO']\n",
      "A11ULAZ4B5ZXC8 ['B0073XZ0DO', 'B007JF85WE', 'B007MPMAFE', 'B007Q8JGWM', 'B007YV0UQW']\n",
      "A2XPK6XCL0UH1S ['B0073YY6KQ', 'B007Q8GOGI', 'B00AJG3NK4', 'B00BOHNYU6', 'B00FXYT12G']\n",
      "A28P7V9KI7MXP ['B0073Z49AM', 'B007PE3FC4', 'B00829THH8', 'B0083F32KY', 'B0085DZRDE']\n",
      "A3IJL9A50KVVZ1 ['B0074024XU', 'B007B5OZXU', 'B007SM7O2U', 'B007WTAJTO', 'B007X9QIXO']\n",
      "ANSVB7OYSXZSL ['B00740MR78', 'B007HOSPC2', 'B007HOST8C', 'B007P6JJUE', 'B007RV6SQA']\n",
      "A16RL0RMRF974O ['B00741IGFY', 'B007WTAJTO', 'B0083XTQ42', 'B008AJNF78', 'B008B6UA8M']\n",
      "A1VQBEW0G4IH1J ['B00742BLO6', 'B00766BF1E', 'B007NSR0AK', 'B007W2ZDX8', 'B008J127IA']\n",
      "A1F5O1USOUOOXI ['B00742BLO6', 'B007R9M6PO', 'B007X3VECU', 'B00829THVO', 'B00882OHL0']\n",
      "A31HOWJKEIY037 ['B00744QP8G', 'B00763Y1XQ', 'B007BCIJP8', 'B007NCJ1IA', 'B007NZGPAY']\n",
      "A2HXEJXEQQTM1D ['B00744QP8G', 'B00744R7YW', 'B007P4VOWC', 'B007X4PUGU', 'B0086D1ER6']\n",
      "A3SRDVCD2ATIIS ['B00744T7HM', 'B007I5JT4S', 'B007WTAJTO', 'B00847Q5AA', 'B008NMCPTQ']\n",
      "A2PZXXPGLXXKZU ['B00746LVOM', 'B007I5JT4S', 'B007JGB6X8', 'B007KXBTNW', 'B007LLYB4M']\n",
      "A2BX8DDQGCCG2J ['B00746LVOM', 'B00746W3HG', 'B007987838', 'B007C1KMH6', 'B007YJIGPQ']\n",
      "A1KI7YHQEOS1RB ['B00746LVOM', 'B007W1157C', 'B0088LYCZC', 'B008FC8DFY', 'B008RDI0TU']\n",
      "ABMN74TBW5UWE ['B00746LVOM', 'B0079M711S', 'B007CB506Y', 'B007MYDWKW', 'B007P4VOWC']\n",
      "A1Y051MQ2SVPFI ['B00746LVOM', 'B007I5JT4S', 'B008FQMUL8', 'B008JJLW4M', 'B00BBXTUA6']\n",
      "A3QMJMTLJC34QC ['B00746LVOM', 'B0094NY3R0', 'B0095ABFGO']\n",
      "A18OTCHQ6MXD6X ['B00746O3X8', 'B0078LNTL6', 'B007KA3LQS', 'B007S02G0W', 'B0081N4FMW']\n",
      "AH3LF9RAD1O2V ['B00746O3X8', 'B0079U1N00', 'B007A0OGBW', 'B007X0ASZW', 'B00834SJSK']\n",
      "ABXANRX4GPYRZ ['B00746W3HG', 'B007P4VOWC', 'B007Y8DJ22', 'B0095P2F1S', 'B00B5IQ3TI']\n",
      "A2S26YGSVXBCFL ['B00746W3HG', 'B0079TOEQQ', 'B007BY0MIS', 'B007L5NKZO', 'B007Q8GOGI']\n",
      "A27T4RQ3XA661C ['B00746W3HG', 'B00752R4U0', 'B0078GCLUG', 'B0078P6O8W', 'B007HBLXI8']\n",
      "A1AQ8JT2A3UWMY ['B00746W3HG', 'B007WT9SSC', 'B008BDBPTS', 'B008G32ZTM', 'B008LA6B9K']\n",
      "A1MFAPVBW9BEGD ['B00746W3HG', 'B007472SZ2', 'B007477COO', 'B0076AYNXM', 'B007PLL4CK']\n",
      "A34BZM6S9L7QI4 ['B00746YHV6', 'B0074BW614', 'B0074FGNDC', 'B0079TOG4Q', 'B0079UAT0A']\n",
      "A2BYV7S1QP2YIG ['B00746YHV6', 'B007I5JT4S', 'B007IFVSDI', 'B007IFVSYM', 'B007M58WWO']\n",
      "A3BKNXX8QFIXIV ['B00746YHV6', 'B00752RAWW', 'B007FZN53W', 'B007KTQU5I', 'B007RGENE4']\n",
      "A22S7D0LP8GRDH ['B00746YZS6', 'B0079T722E', 'B0079TOEQQ', 'B007BY0MIS', 'B007FPIP2I']\n",
      "AZCE11PSTCH1L ['B0074703CM', 'B007B5P46W', 'B0085MPDCU', 'B0087OV77G', 'B008K4CZYC']\n",
      "AGVWTYW0ULXHT ['B007471PZQ', 'B0076EHMRW', 'B007GNN0AG', 'B007K3SB6K', 'B007MDQIH2']\n",
      "A198CCH4NNLI2E ['B007473X6A', 'B007474DSM', 'B0076POB8O', 'B007OY5V68', 'B008C1JC4O']\n",
      "A2LCE1D0TW2XY0 ['B007474Y04', 'B007B5Q5HY', 'B007SZ0EHE', 'B007ZW0T3Y', 'B0087TESSQ']\n",
      "A5QDZEOIMQ4LW ['B007476KRY', 'B00747Y9C2', 'B00747YRWO', 'B0078P6O8W', 'B007IJ7UKE']\n",
      "A15J9K7O10A3M6 ['B007477COO', 'B007BWTOHU', 'B007DBJ2VM', 'B007FH1KX2', 'B007IV7KRU']\n",
      "A3JV071KO43Q5X ['B00748IJ2M', 'B007IMPMW4', 'B007R9M6PO', 'B008DWCRQW', 'B008JGR9MO']\n",
      "A3HSDV9Y0TV5Z2 ['B00748L9DS', 'B007PQ0K1G', 'B007UHFW4K', 'B007X4RYSM', 'B007Z92SS6']\n",
      "A1MNN0ZMHYPJDU ['B00749PLXQ', 'B00756KJBC', 'B007BXD6DW', 'B007R5YDYA', 'B007U5MGBE']\n",
      "A2NOIWPJDD7WIQ ['B0074BW614', 'B007JBN6AO', 'B007XGLC9C', 'B007ZL0PI4', 'B0081CRXGI']\n",
      "A1LAGS8H4A2DR7 ['B0074BW614', 'B0077V88VI', 'B007ILFFS6', 'B007KZQM8W', 'B00884WH74']\n",
      "A1UCAVBNJUZMPR ['B0074BW614', 'B00763WWQE', 'B007HJ9AEY', 'B007O64C0C', 'B007WHYP0A']\n",
      "A28X0LT2100RL1 ['B0074BW614', 'B00752QXZ2', 'B007BJHETS', 'B007R5YDYA', 'B007XX5RRS']\n",
      "A2LF07KCXDR70D ['B0074BW614', 'B0077QTSQM', 'B0079MX4Q4', 'B007I5JT4S', 'B0085VB8GQ']\n",
      "A1BZIM4WGZ6DZP ['B0074BW614', 'B007B60SCG', 'B007KFLV9W', 'B008GGH4OK', 'B0098R9B9C']\n",
      "A25KKXUQQ0OLWB ['B0074BW614', 'B007SYKBL4', 'B00829THVO', 'B0088CJT4U', 'B008GGH5HQ']\n",
      "A11I1I9QLMAM1A ['B0074BW614', 'B007DC89OW', 'B007KTQU5I', 'B007PAR6SC', 'B007WTAJTO']\n",
      "A215IN14OKAE2T ['B0074BW614', 'B008DVMRXG', 'B008XVAVAW', 'B009T4J1TO', 'B009UKZV0A']\n",
      "A10H24TDLK2VDP ['B0074BW614', 'B007X3VEC0', 'B00829TIA4', 'B0085TKI46', 'B0088CJT4U']\n",
      "AQR4HPVSOPS08 ['B0074CQUZG', 'B0077B403S', 'B007SEZT1Q', 'B0089NE6NW', 'B008MW6Y12']\n",
      "A3NKRH3TJ4DPVI ['B0074F5DKG', 'B007ILFFS6', 'B007WTAJTO', 'B00895BUPC', 'B00C28L6EW']\n",
      "A13BX9O5UDBILC ['B0074F5DKG', 'B008ABKADI', 'B009FU8BR0', 'B009FUF6DM', 'B009LL9VDG']\n",
      "AT8V3JOZD3KWK ['B0074F5DMO', 'B00768SBAU', 'B007DJGHF8', 'B00889ST2G', 'B0096VBXQE']\n",
      "A30JPZ9TZ7I61U ['B0074FGLUM', 'B0079UAT0A', 'B007BY0MIS', 'B007BYLLNI', 'B007OULVOS']\n",
      "A3TRY87JJCA5Y8 ['B0074FGLUM', 'B007ALZSTA', 'B007Q45EF4', 'B009I9N1NW', 'B00DSXG4YW']\n",
      "A1ILWPH1GHUXE2 ['B0074FGLUM', 'B0076MBOC8', 'B0079BLTPS', 'B007JIBAZA', 'B007RZB3KM']\n",
      "A1MZL91Z44RN06 ['B0074FGLUM', 'B00766BF1E', 'B0079UAT0A', 'B007IJ7UHC', 'B007JIBAZA']\n",
      "A3S3VSXEFXBMRC ['B0074FGLUM', 'B0075SUHKI', 'B007FTJ9PQ', 'B007QXNQXC', 'B0080DTFIM']\n",
      "A10AFVU66A79Y1 ['B0074FGLUM', 'B007B64ND6', 'B007BG3FE4', 'B0081FLFQE', 'B0089L4TL8']\n",
      "A2RIXSMGE9VIBG ['B0074FGLUM', 'B007F7MZ04', 'B007M58WWO', 'B0088PUEPK', 'B008Y2SPH6']\n",
      "A1YE1IK0JYSIIE ['B0074GWJ7A', 'B0076POAJE', 'B007FELOZO', 'B007QSCRTQ', 'B007S642BW']\n",
      "ALUNVOQRXOZIA ['B0074H3IU6', 'B0096YOQRY', 'B009MAKTB4', 'B009NROEBM', 'B009PK9S90']\n",
      "A3UXW18DP4WSD6 ['B0074H3IU6', 'B00762YNMG', 'B007P4YAPK', 'B008G2GBN4', 'B008I646WG']\n",
      "A2RW587355CMVA ['B0074IOE62', 'B007BYLMB4', 'B007DAK1AO', 'B007RNCLBY', 'B007X3VEX4']\n",
      "A3L6L5O89JTX2T ['B0074IOE62', 'B0075SUJH4', 'B0075W8TEA', 'B00876GH3I', 'B008TRI90E']\n",
      "A11KQADBYE0UZL ['B0074J7ITG', 'B0077E48IM', 'B00856XDOQ', 'B008R6OPJQ', 'B0091RA8U0']\n",
      "A2TRXEZYU9GYY8 ['B0074J7ITG', 'B007R9CRGW']\n",
      "A3BACUOZV1M0WM ['B0074KBLAW', 'B007BJHETS', 'B007X26SMC', 'B0089ZV1WY', 'B008BBR8CI']\n",
      "A2XX2A4OJCDNLZ ['B0074KBLAW', 'B007K4UPWM', 'B0082E9K7U', 'B0093H8QJ8', 'B0093HAJCK']\n",
      "A1I96OYAUJ3HQE ['B0074RTZ7G', 'B007FH1KX2', 'B007NLSGOQ', 'B007TIYZ3Y', 'B007XZGH02']\n",
      "A2EZTM9WY5B5IL ['B0074WDDN8', 'B007A2WLSK', 'B009SF1BGA', 'B00ATM1NAU', 'B00AWZFJ22']\n",
      "A2GOHNFBHUU3UI ['B0074WDDN8', 'B007PRHNHO', 'B0081OY8B4', 'B00884WH74', 'B00889ST2G']\n",
      "A1H0D7635GEEJ1 ['B0074WDDN8', 'B008LPZDAS', 'B008NMCPTQ', 'B009HXG8BQ', 'B00DJS830Y']\n",
      "AU3GYRAKBUAEU ['B0074WVYNO', 'B00834SJSK', 'B0087Y1XS4', 'B008H9BXMK', 'B008V63D4U']\n",
      "A3LDLV1GWQJLEQ ['B007519E7C', 'B007FPIQX6', 'B007PTCFFW', 'B007Q8GOGI', 'B007X3VEX4']\n",
      "AETQIN7OH0RL9 ['B007525SLM', 'B007KWLXRK', 'B007PQ11SC', 'B007T8S490', 'B007WAWHD4']\n",
      "A3QJU4FEN8PQSZ ['B00752R4PK', 'B0076POAI0', 'B0076POB8O', 'B0076U29LK', 'B0079T722E']\n",
      "A2Y1WNETD9AYHO ['B00752R4PK', 'B007EHWHZS', 'B007JBN6NQ', 'B007PJ4PKK', 'B007PRHNHO']\n",
      "AMZCZBK1EF1PV ['B00752R4PK', 'B007I5JT4S', 'B00829TIA4', 'B008E18PDG', 'B008LCYIEI']\n",
      "A1REY92IEZJUSX ['B00752R4PK', 'B007BXD66E', 'B007FH1KX2', 'B0089DYOCA', 'B008B0FZQU']\n",
      "A1F9Z42CFF9IAY ['B00752R4QO', 'B00752VKFA', 'B007C1KMH6', 'B007FSRSZU', 'B007HBLX5G']\n",
      "A1ZBEIL78MLR9Z ['B00752R4S2', 'B0076MBOC8', 'B007H3L24Q', 'B0089VKNHM', 'B008KR9CYK']\n",
      "A3VBXQKRM7A4JR ['B00752R4S2', 'B0079UAT0A', 'B007PM8AFS', 'B008DWCRQW', 'B008MF3X9K']\n",
      "ACSX5AIZE3MJ9 ['B00752R4S2', 'B00752VLRC', 'B007BY0MIS', 'B007KZQM9G', 'B00829THK0']\n",
      "A4D5B7Q8A7PA6 ['B00752R5Z4', 'B0076POAI0', 'B007CRWQ74', 'B007FPIQ72', 'B007TSERQO']\n",
      "A2XJMQ2COPGWJH ['B00752R89C', 'B00856XEN6', 'B008R7EVE4', 'B00934CQ56', 'B009NJAE4Q']\n",
      "ABAPF3XY1W6JX ['B00752R89C', 'B00768SBAU', 'B0077E48IM', 'B007ILEHNU', 'B007ILEHSA']\n",
      "A2SH6A32BE6NEV ['B00752R9PK', 'B0076NA716', 'B007DAK1AO', 'B007ULT41S', 'B007ZD735U']\n",
      "AAA0TUKS5VBSA ['B00752R9PK', 'B0079UAT0A', 'B007B6YPAW', 'B007DC89OW', 'B007KZQMO6']\n",
      "A212MDP6K4VJS5 ['B00752VKFA', 'B0080BRT5U', 'B00834SJSK', 'B008FQKKB0', 'B009A6CZ30']\n",
      "A1VHCO8RQFIGQJ ['B007534LFK', 'B007FDE4Y8', 'B007I5JT4S', 'B007IJ7UHC', 'B007PU2X6C']\n",
      "A2YEOR4XJ8N3QE ['B00757BF8W', 'B0079UAT0A', 'B007B5WHTE', 'B007PTCFFW', 'B007RNCK60']\n",
      "A2ROZACRW31PC2 ['B007582KGM', 'B007L5XWN4', 'B008MUDIAO', 'B008U69LC4', 'B008XVAVAW']\n",
      "A259MPG6SOL02P ['B00759H7AA', 'B007LGD6HA', 'B007POCI5E', 'B007RG2QNY', 'B0080JOB2G']\n",
      "AC6Z7DP1Z5GHD ['B0075AKKEE', 'B007BG65M8', 'B00860R4AK', 'B008FO7PQA', 'B0090EC5MS']\n",
      "A2YRX8J4WM5BRX ['B0075SUG3Q', 'B007P4VOWC', 'B008B14VAK', 'B009B0MZ1M', 'B00AXTQQDS']\n",
      "A2WDCAMKCCP1UR ['B0075SUHKI', 'B00775E034', 'B008U69LC4', 'B0098RDBD4', 'B009GD9K1C']\n",
      "A3LDPF5FMB782Z ['B0075SUK14', 'B008I6672I', 'B0098JS19G', 'B00995IGBM', 'B00BLCLUQO']\n",
      "A1VJ0V58N0698J ['B0075SUK14', 'B0078LN0K6', 'B007C1KKW8', 'B007M50PTM', 'B007P4VOWC']\n",
      "A27H0T39U3FZB5 ['B0075SUKIC', 'B00829TIA4', 'B00834SJNA', 'B0085YTCYS', 'B008DH4XJQ']\n",
      "A1RDHBBZE1NPS3 ['B0075W8E4A', 'B007EHI1DK', 'B007Q94CJS', 'B007Q94CZM', 'B007SS2HHQ']\n",
      "A1USYP4AXF5I1D ['B0075WEPJI', 'B008MXC7GM', 'B009SYZ8OC', 'B00A9JO0TO', 'B00CHGJNVW']\n",
      "A3W4D8XOGLWUN5 ['B0075WEYZI', 'B007AB92DI', 'B007F3JYV6', 'B007PJ4P4G', 'B007WTAJTO']\n",
      "AG5WSXI52FPKH ['B00760VRCM', 'B007B6YPAM', 'B007JV5OWM', 'B007P4VOWC', 'B007VPGL5U']\n",
      "A2F2F7N94SR1KQ ['B00760VRCM', 'B007BDJ5SM', 'B007XJIYI6', 'B0086ZV2L2', 'B009P8KTPE']\n",
      "A33XMCG1UFDSY2 ['B00762YNMG', 'B007HJI6KS', 'B007RNCLBY', 'B007XAIFCA', 'B0087NZ31S']\n",
      "A1A306IAZ3TM1 ['B00762YNMG', 'B00CL58JYQ']\n",
      "A3077MQTAKOVFZ ['B00762YNMG', 'B007BY3PBE', 'B007DL79FS', 'B007IFO2B8', 'B007TEE90W']\n",
      "A12R3YGEHW7D8G ['B007639744', 'B007KB3VIU', 'B007WTAJTO', 'B0081GEBC8', 'B0087TVYP6']\n",
      "A1SDPA1J98UP4L ['B007639744', 'B007BJHETS', 'B0082OJ2VE', 'B008AHTO20', 'B008HK50ZA']\n",
      "AUK79PXTAOJP9 ['B00763WKZW', 'B0077CR5RK', 'B007I5JT4S', 'B007R1FH3K', 'B008AJLPYS']\n",
      "A3S5EXYZDEBF3K ['B00766BF1E', 'B00884WH74', 'B0088PPFP4', 'B008F537KC', 'B008H9BXMK']\n",
      "A14X244VGHWPSX ['B00766BF1E', 'B007IJ7UHC', 'B007W0XHK6', 'B00829TIA4', 'B00829TIEK']\n",
      "A2F92M62KN324B ['B00768M2QE', 'B0076U29LK', 'B007I5JT4S', 'B007L6NYAO', 'B007W02PRM']\n",
      "A3EP26M3QHINXT ['B00768SBAU', 'B0085IOLZO', 'B008I8B6E0', 'B008YLHBEA', 'B00939ETTC']\n",
      "A34CKIMZ969UW7 ['B0076AYNXM', 'B007P8CWGU', 'B00834SJSK', 'B0083PA7JI', 'B008I646WG']\n",
      "AFICF7DKHTQ87 ['B0076AYNXM', 'B0076MBOC8', 'B0078J2HS4', 'B007CLWLQ6', 'B007X3VC7W']\n",
      "A3V7D0LH8L7BG0 ['B0076BDBDE', 'B0076POAPS', 'B0079T724W', 'B0079TOGDW', 'B007KTQU5I']\n",
      "A1C82BC5GNABOA ['B0076BNK30', 'B007A4JTDI', 'B007FEFQDA', 'B007FGYZFI', 'B007FH1FZ0']\n",
      "A28BX3MM90A6FI ['B0076BNK30', 'B007BXD66E', 'B007C1EH3G', 'B007FEFQDA', 'B007FGYZFI']\n",
      "A1UL2JH7XOUGM5 ['B0076BNK30', 'B0076BNKOY', 'B0076BNKU8', 'B0078IWRF8', 'B007FH1KX2']\n",
      "AW63IRQWH10GF ['B0076E9CL6', 'B008R6OPJQ', 'B008RIEOBS', 'B0090YPCTQ', 'B0093LINVK']\n",
      "A1JBEKU5TYIWE7 ['B0076H8VBK', 'B007YD1JX8', 'B0087HSDG6', 'B00966PFHW', 'B009PK9SB8']\n",
      "A2OTQMC69J8MUI ['B0076KQRXG', 'B007BJHETS', 'B007BXJDXE', 'B007WTAJTO', 'B0086JSW02']\n",
      "A2DF62DP20RIXF ['B0076KUTKS', 'B0081TQ83K', 'B008F537KC', 'B009Z7KMUM', 'B00BNRQ27Y']\n",
      "A22NKFOH9RATRC ['B0076LY7UK', 'B007N5L626', 'B007RMAS1K', 'B007Y4TUZQ', 'B0080ID9ZW']\n",
      "ATOKT8QYK967L ['B0076MBOC8', 'B007AMSSXM', 'B007I5JT4S', 'B007X3VC7W', 'B00829TIA4']\n",
      "A3CEUT263RNUDO ['B0076MBOC8', 'B007FH1KAU', 'B007Q8GOGI', 'B007X3VC7W', 'B0089E5R0W']\n",
      "AUCIFMWP3DU8R ['B0076NA716', 'B007JCNOQO', 'B007K3SB6K', 'B0088CJT4U', 'B008O515CK']\n",
      "A3VC74TJ06WDDD ['B0076O7W04', 'B007KZQM9G', 'B007XCKGFW', 'B007Y2YVH0', 'B008233A1S']\n",
      "A3775OP5VTX5ON ['B0076OND2A', 'B009YP1K7Y', 'B00AEGGOKK', 'B00DR0PDNE', 'B00DYP98LU']\n",
      "A2QNS95WGN35G9 ['B0076POAI0', 'B007ABIY4Q']\n",
      "ARXU3FESTWMJJ ['B0076POAI0', 'B0076POAOE', 'B0079TOEQQ', 'B007CLWM1K', 'B007PPYXOC']\n",
      "AEWYUPCNDV7HY ['B0076POAI0', 'B0078SAIUY', 'B0079UAT0A', 'B007BY0MIS', 'B007C0Y8NQ']\n",
      "A3VBZDYGHF4NK8 ['B0076POAI0', 'B007C0Y8NQ', 'B007FPIQ3Q', 'B007Q8GOGI', 'B00825BZUY']\n",
      "A18HE80910BTZI ['B0076POAI0', 'B007AMIXM8', 'B007KZQMO6', 'B007M50PTM', 'B007T08XA8']\n",
      "A28N2AWOVO2PB ['B0076POAI0', 'B007FPIQ0E', 'B007FPIQX6', 'B007LLYAB6', 'B007Q8GOHM']\n",
      "A3F9CBHV4OHFBS ['B0076POAI0', 'B0078LSTWU', 'B0078PY0E2', 'B007I5JT4S', 'B007S642BW']\n",
      "A1EOTB1WHLSW6G ['B0076POAJE', 'B007B5POJE', 'B007B5Q164', 'B007LGD6HA', 'B007PJ4Q4A']\n",
      "A30KPB2ILF6K6J ['B0076POAOE', 'B0079TOGDW', 'B007B5QOHK', 'B0081FLFQE', 'B00829THVO']\n",
      "A1TR1R2QKWRSRA ['B0076POAPS', 'B0079TOI8K', 'B007B6YPAW', 'B007Q8GOHM', 'B00829THEG']\n",
      "AVU1ILDDYW301 ['B0076POAPS', 'B0079T722E', 'B0079TOET8', 'B007PG02Q4', 'B0089VKNHM']\n",
      "A1KY5G5FP31F2F ['B0076POAPS', 'B007PA1K84', 'B007PTCFFW', 'B00834SJSK', 'B0092KRAVQ']\n",
      "A2LW5AL0KQ9P1M ['B0076POB8O', 'B0077JAEI0', 'B0079TOEQQ', 'B007M52EXM', 'B007W7PK04']\n",
      "A35HOUWHAYZZN6 ['B0076POB8O', 'B007GNN0AG', 'B007PTCFFW', 'B007X3VDU8', 'B0081FLFQE']\n",
      "AYO1146CBIV5C ['B0076POB8O', 'B007FPIQ0E', 'B00829THK0', 'B00834SJNA', 'B0088CJT4U']\n",
      "A3O4OIBCML0683 ['B0076R7F1M', 'B0078LN0K6', 'B007HO546C', 'B007K9P7H0', 'B007Q45EF4']\n",
      "A1901NTE8LFJF6 ['B0076R7F1M', 'B007ABANFY', 'B007V9SNNY', 'B0085RZPPA', 'B008AT6BMY']\n",
      "AMKNPIDFLRFMP ['B0076R7FFI', 'B007PJ4PKK', 'B00834SJSK', 'B0088CJT4U', 'B008A3KFB8']\n",
      "AAK6SOEJY30YG ['B0076SIARO', 'B00793MIJM', 'B007JF85VU', 'B007R1FH3K', 'B007TMZ1BK']\n",
      "A16CVJUQOB6GIB ['B0076SIH04', 'B007BJC75E', 'B008G9V60K', 'B008M56YHS', 'B0093H8H8I']\n",
      "ASFP250F22MDZ ['B0076UXKDG', 'B0079UAT0A', 'B007BY0MIS', 'B00829THK0', 'B0082JVGSG']\n",
      "ADKGE078JK8K7 ['B007703QDO', 'B007MLR0QM', 'B007U5MGDC', 'B008FU1HE0', 'B00A2XYH2W']\n",
      "A2YW6XOID7GV6G ['B00772202U', 'B007KCV0RS', 'B007RNCLBY', 'B0089L4TL8', 'B009BKUEFG']\n",
      "A2NP9CGUSFP22E ['B00773DB4A', 'B007I5JT4S', 'B007V5A1BK', 'B0083YIGXI', 'B008467K1E']\n",
      "A2HDTOF8222KN3 ['B00773DB4A', 'B007BYLO4E', 'B007GB8N2S', 'B007P4VOWC', 'B007PAOTGY']\n",
      "A3HH340REI4J47 ['B00779R8JI', 'B007WR0EP0', 'B008MF3R82', 'B009F7HFRA', 'B00A1ZU1I0']\n",
      "A21I62TCDL4754 ['B0077B3E5S', 'B007BJHETS', 'B00829THEG', 'B0085DZRDE', 'B008I636D6']\n",
      "A38CHSS1ZAE51B ['B0077CR5RK', 'B008I6B14M', 'B008RF7I5K', 'B00ASIWHQ4', 'B00B4GGW5Q']\n",
      "A3S0EHEIR52HP1 ['B0077DIJ9M', 'B007PRHNHO', 'B00825QXPQ', 'B008HK1YAA', 'B008HYK8OE']\n",
      "A1FLJCHN5CG5M5 ['B0077EAOSU', 'B008H6PBYE', 'B008I636D6', 'B008RZ0FFA', 'B008Y2SPH6']\n",
      "A38NHXL5257E3B ['B0077EVNY4', 'B007FPIRN0', 'B007KZQM8W', 'B007X3VC7W', 'B0081FLFQE']\n",
      "A2L9OPJAAEK08Q ['B0077IQGVU', 'B007PJ4P4G', 'B007S9ZSGW', 'B0085D7U20', 'B008CXTX7S']\n",
      "AA8RBTN3J2F5H ['B0077M2958', 'B007BWTOHU', 'B007PFR8V2', 'B007QR8Y9Y', 'B008AJLPYS']\n",
      "A3TPNC3TKGCCEI ['B0077SAYY0', 'B007CRWQ74', 'B007KZQM8W', 'B007X3DAMM', 'B0088CJT4U']\n",
      "A2Q2A6JKY95RTP ['B0077SAYY0', 'B007KPTYCI', 'B0080M3PCU', 'B0081FLFQE', 'B0088CJT4U']\n",
      "A292TRC6DX2GKK ['B0077V88W2', 'B007D7TW5W', 'B007PXV6OO', 'B00A02PG0C', 'B00A4796D6']\n",
      "A1XXMNLOLKNO0I ['B0077XIY06', 'B0079EOVMI', 'B007BJHETS', 'B007F7MZ04', 'B007F9XHBI']\n",
      "A2XQYE6TJYROHQ ['B00785WBCU', 'B007SZI2T6', 'B00B8EEUZ8']\n",
      "A2D1LPEUCTNT8X ['B0078AFGW2', 'B008AGP5H4', 'B008AGP5HO', 'B008G3BFLG', 'B008JFCDMQ']\n",
      "A1B4MIXYVIKMU2 ['B0078FBX7O', 'B007KXBUHW', 'B0081LQIJW', 'B00825BZUY', 'B00829THK0']\n",
      "A25TNBMJ4ZO7RD ['B0078GCLS8', 'B007JGB4RQ', 'B0081OY8B4', 'B00829TIEK', 'B0088PPFP4']\n",
      "A1IBKN1GXYJ3K4 ['B0078GCLU6', 'B00829THK0', 'B009CQNPYQ', 'B009NHWVIA', 'B00BNK3JWM']\n",
      "A11T807LX2EF00 ['B0078GCM4G', 'B0078ZZ5Q4', 'B0079TOI8K', 'B007FPIO2E', 'B007FPIQ0E']\n",
      "A12LH2100CKQO ['B0078GCM50', 'B007IG2YLW', 'B00AC8AF4G']\n",
      "A19RW25Q6206I3 ['B0078GCMGY', 'B007GFX798', 'B007W66RCU', 'B007WTAJTO', 'B007ZE36D2']\n",
      "A31ICLWQ9CSHRS ['B0078I832O', 'B007WTAJTO', 'B0080F66YQ', 'B0087B6SV4', 'B008DWCRQW']\n",
      "A31BD4RXCON7QO ['B0078I832O', 'B007PXLCXY', 'B00A7PPLP2', 'B00BVQXG1W', 'B00EVIBMR2']\n",
      "A2PB325LKXYDOL ['B0078IWQEU', 'B007B5PSG8', 'B007YW7YH4', 'B007YXA5SI', 'B00834SJNA']\n",
      "A1ZA5SXZS8Z3CK ['B0078IWS6Q', 'B0078IWSES', 'B007CJETUO', 'B007G51UV0', 'B007JPVT8G']\n",
      "A26LD9FQHTM8ZH ['B0078J2HS4', 'B007KFLV9W', 'B007USA1F4', 'B0083XPWAO', 'B008DZPABS']\n",
      "A3H6NNGCINPLEC ['B0078J2HS4', 'B00834SJSK']\n",
      "A3K91X9X2ARDOK ['B0078JXDOG', 'B00829THEG', 'B00829TIEK', 'B0085YTDBA', 'B00892RUTA']\n",
      "A37CEYB95LK6R6 ['B0078K17WK', 'B007LS141S', 'B007R3YHVG', 'B0081EC08M', 'B00894YP00']\n",
      "A3Q4TYJVAM4IRM ['B0078K17WK', 'B007ABIY4Q', 'B007OY5V68', 'B007PG02Q4', 'B007PJ4Q4A']\n",
      "A4UGMKUSX9XHI ['B0078K17WK', 'B007BY0MIS', 'B007BYLKFW', 'B007FGYZFI', 'B007FPIQ72']\n",
      "AT53ZTTO707MB ['B0078LN0K6', 'B007OY5V68', 'B0082E9K7U', 'B008OEHV6U', 'B0095F5ACE']\n",
      "A3V5F050GVZ56Q ['B0078LSTWU', 'B007OY5V68', 'B0080FF8K4', 'B0082E9K7U', 'B008652Y82']\n",
      "AW6J9IILGOZY3 ['B0078LSTWU', 'B007JAQBZW', 'B007PJ4PKK', 'B007W7PK04', 'B007X3VC7W']\n",
      "A35HUT8MQMT21L ['B0078LSTWU', 'B009JJJ7S4', 'B009M2YNWI', 'B00BCSYZG4', 'B00CHHTOLK']\n",
      "A26CPEEWB2WKRE ['B0078OS0YY', 'B007Q8GOHM', 'B00829TIA4', 'B0089E5R0W', 'B008OGEA0S']\n",
      "A25C2M3QF9G7OQ ['B0078PV6OO', 'B0079UAT0A', 'B007OY5V68', 'B007VL8Y5E', 'B007ZZ6OW6']\n",
      "A2NPN06SYI5VL3 ['B0078PY0E2', 'B007R67FTY', 'B0089E2FZC', 'B009923WIW', 'B009GTV3S4']\n",
      "A506HOOCVL8GW ['B0078PY0E2', 'B007GFX0PY', 'B007WTAJTO', 'B008R7EVE4', 'B008RI1YKC']\n",
      "AGXMC3ITWZASE ['B0078SAIUY', 'B0082XN57W', 'B008CNX518', 'B0096T7TQE', 'B009AYLDSU']\n",
      "A15CL28ALB7MTZ ['B0078SAIUY', 'B007DC89OW', 'B007FPIP6Y', 'B007LLYAIO', 'B007X3VC9A']\n",
      "A3TCMJ6GKZJFBQ ['B0078ZZ2FS', 'B007FEFQDA', 'B00829TIA4', 'B008EQ1ZQK', 'B008LCYIHK']\n",
      "A2EHYCA29NSQLU ['B0078ZZ5NM', 'B007EM7N70', 'B007FPIP6Y', 'B007RLYP2E', 'B007TLCM2C']\n",
      "A2YEZ8Z3BW2SKG ['B0078ZZ5NM', 'B007BY0MIS', 'B007FPIQ0E', 'B007GR44PM', 'B007Q8GOGI']\n",
      "A31HE83MU98GBV ['B0078ZZ5NM', 'B007FPIQZ4', 'B009E6J1BU', 'B009HQCARY', 'B009LPV766']\n",
      "A2L4ZGN7GZJ95T ['B0078ZZ5NM', 'B007B6YPAW', 'B007FPIP2I', 'B007JCMDA2', 'B007W7PIZ6']\n",
      "A3U6J0DLLDEWM2 ['B0078ZZ5Q4', 'B007C0Y7RI', 'B007R5YDYA', 'B00829THK0', 'B008DWCRQW']\n",
      "A15XI2BEGGFEOW ['B00793MIGK', 'B00829TIA4', 'B008DWCRQW', 'B009VV56TY', 'B00A0JUNWQ']\n",
      "AKCZIJ6ZHE41D ['B00793MIGK', 'B00829THK0', 'B008O2HWCU', 'B00AM4A87O', 'B00BQ7JZXO']\n",
      "A20G074MWH9U7O ['B00794RDVY', 'B0079R8KO0', 'B007F7G6WW', 'B0081G3XEU', 'B00884WH74']\n",
      "A3CJOB7CHOSZUG ['B00795K7J8', 'B007B5WJ1U', 'B0096KY9YS', 'B00COOUPIC', 'B00EB7812C']\n",
      "A15Q2L6DYRTFIU ['B00796D03C', 'B00796I546', 'B007BD4BRC', 'B007KPS41U', 'B007X5MQEI']\n",
      "A1RJKTYC03L0JY ['B00796D03C', 'B007ONZJKM', 'B007P4YAPK', 'B007PCP2OA', 'B007PCP5H4']\n",
      "A11YIHB6IW352W ['B0079EVQ2Q', 'B007ARLMI0', 'B007R1FH3K', 'B0081GUXYI', 'B008HO9DK4']\n",
      "A3IJ4Z18FTIIP ['B0079KZZKO', 'B007TEE8YO', 'B0089LR6U4', 'B009NB8WR0', 'B009QBIZ60']\n",
      "A1PS4OYWUB0VX ['B0079LGLH4', 'B007O5ATC8', 'B007OCJWTM', 'B007P71IM0', 'B007Q5N6QW']\n",
      "A2ED50E3KWKUKW ['B0079M711S', 'B0091VODHU', 'B0095ONNTC', 'B009B0MY6S', 'B00A1PIRIG']\n",
      "A2ARDVMUGDFED6 ['B0079M711S', 'B0079VXOWO', 'B007B5S8BU', 'B007WTAJTO', 'B008CQWOYY']\n",
      "A2I357I10ZY7CI ['B0079M711S', 'B007BH9BJG', 'B007XKAF4Q', 'B007ZFSAB4', 'B0085DZRDE']\n",
      "A3JNBO7H2SPL44 ['B0079MX4Q4', 'B007B6YPAW', 'B007BJHETS', 'B0087Y448U', 'B008A2OG3C']\n",
      "A2G563AC1HME2R ['B0079MX4Q4', 'B007NFM88C', 'B008AST7R6', 'B008MHBAJ8', 'B00946XHI8']\n",
      "AFM7FK7NFEKFZ ['B0079MX4Q4', 'B0085RUYCO', 'B00862522A', 'B008ZGKWQI', 'B009EA7XIY']\n",
      "A1V3TRGWOMA8LC ['B0079R8IYW', 'B007KTQFOY', 'B0082E9K7U', 'B0085KAGJC', 'B00892RUTA']\n",
      "AUBEFRFHJR64Y ['B0079R8IYW', 'B0079R8KO0', 'B007KTT3IE', 'B007MLSGHE', 'B007U5MGDC']\n",
      "A2PSC7LUNIDEAH ['B0079R8KO0', 'B0079UAT0A', 'B007X3DAMM', 'B0088CJT4U', 'B0089E5R0W']\n",
      "APBDZ88BBTN4F ['B0079R8KO0', 'B007KZQM8W', 'B007MW73C2', 'B00829TIEK', 'B008O2HWSO']\n",
      "A3EZEP0FX5BC1P ['B0079T724W', 'B0079TOI8K', 'B007FPIQZ4', 'B007JELV8U', 'B007PTCFFW']\n",
      "A2J0IBS4PFRO2C ['B0079TOEQQ', 'B00931DHKM', 'B009PK95RA', 'B00A6UYCT4', 'B00AANQLRI']\n",
      "A34CSXOGVYF94S ['B0079TOEQQ', 'B007IXY472', 'B007ULT41S', 'B007Y4BL1C', 'B0081TXIQA']\n",
      "A3VI2VETB90ZG5 ['B0079TOEQQ', 'B007ILK234', 'B007JIBAZA', 'B007L5NKZO', 'B00829THK0']\n",
      "AXP8GO5Q3AXSA ['B0079TOEQQ', 'B007JGBD2M', 'B007PXV310', 'B0081FLFQE', 'B00829TIEK']\n",
      "A10Y058K7B96C6 ['B0079TOEQQ', 'B007ILFFS6', 'B007PJ4P4G', 'B00884WH74', 'B0088CJT4U']\n",
      "A2JKM8KF3296CW ['B0079TOEQQ', 'B00829THVO', 'B00829TIEK', 'B00832NCWU', 'B0087TVYP6']\n",
      "A2AEZQ3DGBBLPR ['B0079TOEQQ', 'B0099UPF70', 'B009T0NNRO', 'B00G335A58', 'B00GJUQ4Z0']\n",
      "A2B7BUH8834Y6M ['B0079TOEQQ', 'B0083T1KDG', 'B00898IJ5S', 'B008O2HWAM', 'B009G5T9LG']\n",
      "A3MUSWDCTZINQZ ['B0079TOEQQ', 'B0079UAT0A', 'B007XDFNB8', 'B00825BZUY', 'B00834SJNA']\n",
      "A27QXQQOLAMRRR ['B0079TOET8', 'B007L5NKZO', 'B007SHJIO2', 'B007X3VEUW', 'B007Y4TTWU']\n",
      "ABMNX856X89CS ['B0079TOG4Q', 'B0079TOI8K', 'B007BYLMB4', 'B007PZYBTY', 'B007X3DAMM']\n",
      "A11LNPG39A2ZV4 ['B0079TOG82', 'B007NTFTLG', 'B00882OHL0', 'B00946XHI8', 'B009APBZVY']\n",
      "AEL6CQNQXONBX ['B0079TOI8K', 'B007BY0MIS', 'B007FPIP2I', 'B007L5NKZO', 'B007PJ4P4G']\n",
      "A2UEB48LAWFUCW ['B0079TOI8K', 'B007BY0MIS', 'B007C8GMPU', 'B007POE1PO', 'B007WVA2PI']\n",
      "A3FS3FJPD3RJTD ['B0079TOI8K', 'B007B61ITI', 'B007KZQM8W', 'B00884WH74', 'B008R7EVE4']\n",
      "A19EKT8H85AKO5 ['B0079UAT0A', 'B007JL60U2', 'B00829THK0', 'B00834SJNA', 'B00834SJSK']\n",
      "A11OTLEDSW8ZXD ['B0079UAT0A', 'B007ABIY4Q', 'B007BY0MIS', 'B007FPIQX6', 'B007JIBAZA']\n",
      "A23R3EOZ837242 ['B0079UAT0A', 'B007CB4Y2A', 'B00834SJSK', 'B0088CJT4U', 'B008MJ01QE']\n",
      "A10ZBR6O8S8OCY ['B0079UAT0A', 'B007PZYAJ0', 'B00829TIA4', 'B00834SJSK', 'B008MF3Y2G']\n",
      "A3HQAPXAJV7PRX ['B0079UAT0A', 'B007SRCZMY', 'B007V84ED8', 'B007W66RCU', 'B007X3VC7W']\n",
      "A2V1J3JT5OOZFO ['B0079UAT0A', 'B007OQ2SXA', 'B007R5YDYA', 'B007RFI81Y', 'B0080E8RX0']\n",
      "AY3D7DG5L5WCK ['B0079UAT0A', 'B007BY0MIS', 'B007PG02Q4', 'B00829TIEK', 'B008CXTX7S']\n",
      "A24RCBRDXRXR0Y ['B0079UAT0A', 'B007BY0MIS', 'B007Q8GOHM', 'B007RB164E', 'B007W7PK04']\n",
      "A1PI8VBCXXSGC7 ['B0079UAT0A', 'B007FZN53W', 'B007PZYBTY', 'B007TSERQO', 'B00825BZUY']\n",
      "A35Q0RBM3YNQNF ['B0079UAT0A', 'B0081FLFQE', 'B00834SJSK', 'B0084JFLTY', 'B00884WH74']\n",
      "A1QVFHPY8418HC ['B0079UAT0A', 'B007B5S8BU', 'B007RFW1NA', 'B0081FLFQE', 'B0082E9K7U']\n",
      "A3IUW081KXD3PE ['B0079UAT0A', 'B007PZYBTY', 'B007W66RCU', 'B007W7PIZ6', 'B00825BZUY']\n",
      "AQNSQW4495SG0 ['B0079WLI3A', 'B0090C7A3O', 'B0090S8WFS', 'B00AI07F1Y', 'B00BXA7N6A']\n",
      "A2HBOG4LVIY15L ['B0079XWO6O', 'B007WT9SSC', 'B00834SJSK', 'B008JJLW4M', 'B008P1V5YQ']\n",
      "A24QFMD1RXLJMB ['B0079XWPDQ', 'B007PODP1K', 'B008M9T6RO', 'B008TT7CXW', 'B0098Y77U0']\n",
      "A3R1GJY2MY8041 ['B007A9NSR6', 'B007XZXCLE', 'B0089Y566W', 'B008U3FQL2', 'B0090SLE30']\n",
      "A2VJ5ALN1BIV3B ['B007A9NSR6', 'B007B4ZDUA', 'B007WTAJTO', 'B00829THK0', 'B009VL9YGU']\n",
      "A2JCJJNY43QQIV ['B007A9UUJK', 'B007EPMRKK', 'B007MCN7JU', 'B007XOQUY6', 'B008D97LNE']\n",
      "A9ELHLPXF7JKD ['B007ABIY4Q', 'B007BDJ81Q', 'B007ULGT8Y', 'B00829THEG', 'B008G9WB1I']\n",
      "A2FWZ58M6IQMD7 ['B007ABIY4Q', 'B007R5YDYA', 'B00832NCWU', 'B0085YTDBA', 'B00884WH74']\n",
      "A3977M5S0GIG5H ['B007ABIY4Q', 'B007PM8AFS', 'B00861DI4U', 'B0087NB1IW', 'B008V9RW58']\n",
      "A1HYH206E18XVC ['B007AHJNF4', 'B007TK7D0O', 'B007W66RCU', 'B008M0NDRM', 'B00BNI4A90']\n",
      "A2ZGDHLJ85T6AD ['B007AHJNF4', 'B0081H8TRA', 'B00829THK0', 'B008DH4XJQ', 'B008DWCRQW']\n",
      "A1YVO5V1SO18DZ ['B007AHJNF4', 'B007BY0MIS', 'B007BYLLNI', 'B007FPIP2I', 'B007XDFNB8']\n",
      "ASJLXOX1VD4DF ['B007ATHRJG', 'B007XOQUY6', 'B007ZI1SGA', 'B007ZW7YJQ', 'B0081R7XR2']\n",
      "A1R19YYR5OR26T ['B007B31IAK', 'B007BJHETS', 'B007I5E9Y8', 'B007QXLIWI', 'B008D2POAS']\n",
      "A1PN2U0AWXGVML ['B007B31IAK', 'B007PPYXOC', 'B007WTAJTO', 'B009S0D1KE', 'B00AXX0I88']\n",
      "ARX0KOX5Q01BJ ['B007B5PQVA', 'B007B5V614', 'B007VGGFZU', 'B008BLRLUC', 'B008KRXICM']\n",
      "A2UTZ4O5E2W4DK ['B007B5PSG8', 'B007HBRGMK', 'B007WTAJTO', 'B00814CAS2', 'B0081SDKHI']\n",
      "AM9APPMIE1BHZ ['B007B5QQ96', 'B007R9CTE2', 'B0081FLFQE', 'B00829THVO', 'B0084Y9V54']\n",
      "A1PAGHECG401K1 ['B007B5WHTE', 'B007BY0MIS', 'B007IFO2B8', 'B007M58WWO', 'B007MUZ3VM']\n",
      "A1ROUMJOGO4QMB ['B007B5WHTE', 'B007M6OZEC', 'B007ZZ6OW6', 'B0091QLXW8', 'B009SPUY5O']\n",
      "A200DY76VXVGP9 ['B007B5Y4BI', 'B0088PUEPK', 'B008EQYRRY', 'B0092KRAVQ', 'B0094NY3R0']\n",
      "A370XYLIZCSK1Y ['B007B61I2K', 'B007G51UV0', 'B007RIFMQA', 'B0083YF55U', 'B0087X7262']\n",
      "A1QOIHVQC5XWCJ ['B007B6YPAW', 'B007BY3PBE', 'B007E517DS', 'B00829THK0', 'B0086L0OTW']\n",
      "A2NXRD80LWHUOP ['B007B6YPAW', 'B007I5JT4S', 'B007TMXFE0', 'B0089W4RDW', 'B00B7PSWXO']\n",
      "A1BXVZSQOJE6UE ['B007BDJ81Q', 'B007LLYB4M', 'B007Q8GOHM', 'B007SHJIO2', 'B007ULGT8Y']\n",
      "AEIB3UR05OP7A ['B007BG8QXO', 'B007BG99VW', 'B007SZ0E1K', 'B007V5A1BK', 'B007X26S8Q']\n",
      "A1143YEAZYMYHJ ['B007BGFUFQ', 'B007FZN53W', 'B007KZQM9Q', 'B0084Z0YJU', 'B00894YP00']\n",
      "A3N8O68DOEQ2FE ['B007BJHETS', 'B007KSQRNY', 'B007RJ8XLU', 'B00A2KFRBA', 'B00DSUTVK4']\n",
      "A33152QEGO2MZN ['B007BJHETS', 'B00844N5OC', 'B008AST7R6', 'B008EE3C40', 'B008UHK3KM']\n",
      "A2NSXY5L42ZUGO ['B007BJHETS', 'B007G03T5U', 'B008B8SZPA', 'B008V4S1C6', 'B009N81RES']\n",
      "A1HSM98KUGTHNY ['B007BJHETS', 'B007VGGFZU', 'B007X0ASZM', 'B00894YP00', 'B008CS6826']\n",
      "A110VKXAVLAYKY ['B007BKF8SG', 'B007Q2Y4H0', 'B0084BBKMO', 'B008607BEY', 'B008DNAVH8']\n",
      "A20H1M28WLI9J2 ['B007BPIDJ2', 'B007BY0MIS', 'B007CL4IEY', 'B0080BK4I4', 'B00829THEG']\n",
      "A2NJQF2UI60VGT ['B007BPQJSY', 'B007BWTOHU', 'B007SM7O2U', 'B007SY2CYS', 'B007Y4NWQE']\n",
      "A3VVMIMMTYQV5F ['B007BQ0TWK', 'B007HTGYB6', 'B0095ONNTC', 'B0098NTF8S', 'B0098NTFRO']\n",
      "A1B0NL8UWAELI7 ['B007BWTOHU', 'B007P71IM0', 'B007S642BW', 'B00862522A', 'B0087Y6RSA']\n",
      "A3FEGTOLCWXSV4 ['B007BY0MIS', 'B0081FLFQE', 'B00829THK0', 'B00834SJSK', 'B0084Z0YJU']\n",
      "A3AVJCB1ZD6ZY5 ['B007BY0MIS', 'B007Q8GOGI', 'B007X3VEX4', 'B007YXA5TC', 'B00829THVO']\n",
      "A1ITRGMT80D5TK ['B007BY0MIS', 'B007C0Y7RI', 'B007FPIP2I', 'B007Q8GOGI', 'B007Q8GOHM']\n",
      "A96JD9312DHWC ['B007BYLKFW', 'B007GNN0AG', 'B007T08XA8', 'B007W7PIZ6', 'B00829THVO']\n",
      "A3UW0PQLDUACMH ['B007BYLLNI', 'B007ZW7YEQ', 'B00829THK0', 'B00836H2BI', 'B0093HAWZY']\n",
      "A3UQSOJW51UU9T ['B007BZRXK2', 'B007MJGBY6', 'B007PZWYKM', 'B00820A7SU', 'B0082PVK8Q']\n",
      "AWH2AY17ZU7W2 ['B007BZRXK2', 'B007GR44PM', 'B007KZQMO6', 'B00829THK0', 'B00884WH74']\n",
      "A257X1MQJO82P2 ['B007BZRXK2', 'B007SBYKNC', 'B00814B2XQ', 'B0083WGXTO', 'B008EC4O76']\n",
      "A1E55W6ES0FY17 ['B007C0Y8NQ', 'B007SP36ZG', 'B008HO9DK4', 'B008N9DRPA', 'B009H8RI38']\n",
      "A2KIJBT9HRIOM8 ['B007C6ZN3Y', 'B007P4VOWC', 'B008YYT1IG', 'B009W7ZVS8', 'B00B1M2B62']\n",
      "A54SG05AV6S4H ['B007C81GVA', 'B007FNPY4M', 'B007GFWU32', 'B007I6GGSY', 'B007S3T4O0']\n",
      "A3R33KMESG0XGQ ['B007C8GMPU', 'B00834SJNA', 'B0088CJT4U', 'B0089KDD5C', 'B00A7Q9ZOY']\n",
      "AO2EURP2Y4JZM ['B007CCUJS2', 'B0081FLFQE', 'B00829TIEK', 'B0088PUEPK', 'B009EIUH6G']\n",
      "A3FEJ8H2VTN0OJ ['B007CE7W08', 'B007NZGPAY', 'B007SSJWDS', 'B007SZ0E1K', 'B008FPFT7G']\n",
      "A204K1OFE8OB9Y ['B007CKQMPI', 'B007FEFQDA', 'B007VPFW3C', 'B007XC99JQ', 'B008KT6KZM']\n",
      "A3EFSLEMHNPP6A ['B007CLWM1K', 'B007JELV8U', 'B007KZQM9G', 'B007PJ4PKK', 'B00834SJSK']\n",
      "A3M7R4PD0FEPUB ['B007CLWM1K', 'B007JIBAZA', 'B007PXV310', 'B007X3VEUC', 'B00829THK0']\n",
      "AATWFX0ZZSE6C ['B007CO5DZ4', 'B007Q8KD6U', 'B0083OZAXW', 'B008B9UVBA', 'B0096YOQQA']\n",
      "A240FRPD4MEXND ['B007CRWQ74', 'B007KFLV9W', 'B007OY5V68', 'B00829THVO', 'B0082E9K7U']\n",
      "A1JUBRIZMO0RJV ['B007CRWQ74', 'B0081FLFQE', 'B00829THEG', 'B00884WH74', 'B008LCYIEI']\n",
      "A149RNR5RH19YY ['B007CU56X2', 'B008RRAY1I', 'B00B99JU5M', 'B00BCGRX9M', 'B00BF2M21C']\n",
      "A26877IWJGISYM ['B007CYJ4WM', 'B007FPIRSU', 'B007HZLLOK', 'B007KZQM9G', 'B0082821YK']\n",
      "AW68KVDV7BBRS ['B007D5NHUU', 'B00ATFVRB2', 'B00BCGRTFK']\n",
      "AQM0K7MBBT4AY ['B007DAK1AO', 'B007PZYAJ0', 'B007PZYBTY', 'B007QJ3HKI', 'B00829TIEK']\n",
      "A3D822N1K2IAQD ['B007DAK1AO', 'B007PTCFFW', 'B007RB164E', 'B007T5CXWW', 'B007Y4TTWU']\n",
      "AGLT3L7ALL4O4 ['B007DMW3IU', 'B007ILBJAY', 'B007K5H4Z2', 'B008Q60VZ4', 'B008RBD2YA']\n",
      "AMFXXAOVV4CPJ ['B007E8DIT6', 'B007R5YDYA', 'B0082YNR0Q', 'B008D2OPG2', 'B008FC8FJ8']\n",
      "A3EWJX7W1X7E79 ['B007EEJN4E', 'B007WLQGWG', 'B0088SY84A', 'B008BGLN5G', 'B008N8GGHW']\n",
      "A1B8EJQU73YGL9 ['B007EHK49Y', 'B007FMG6D6', 'B007G5NNOW', 'B007WTAJTO', 'B007X26S8Q']\n",
      "AJL3U764D7NI3 ['B007EHKXRW', 'B007PLL4CK', 'B007RIFLVQ', 'B007SZ0E1K', 'B007VOLMJG']\n",
      "AH5BCMZELZSKG ['B007EM7N70', 'B007K94I2U', 'B007PFQ0PC', 'B007TIYYQ2', 'B007VPIYWS']\n",
      "A2UKE7GIVC7XFW ['B007F5LYVM', 'B007G94EW8', 'B007IJ7T4G', 'B007RNCLBY', 'B007VL8Y2C']\n",
      "A6XLG77BC9R8R ['B007F7XA1C', 'B007KTGURQ', 'B007SQB896', 'B007YUISJO', 'B007ZT1FAI']\n",
      "AYOMAHLWRQHUG ['B007F9XHAY', 'B007JIBAVE', 'B007RNCLBY', 'B007W66RCU', 'B007ZZ6OW6']\n",
      "AB094YABX21WQ ['B007F9XHBI', 'B007PJ4Q4A', 'B00AKYVMG2']\n",
      "A5CDMTW6JKV5G ['B007FELOZO', 'B007Y2YVH0', 'B00829TIA4', 'B0088CJT4U', 'B008PWUPVY']\n",
      "AOQLV2LSI9B2W ['B007FFOL4E', 'B008BLDI4U', 'B008FQMUL8', 'B008JGR44W', 'B008VMT2EE']\n",
      "A1FDV3WPOHREY9 ['B007FGYZFI', 'B007RB164E', 'B00894YP00', 'B008O8EGOQ', 'B00BW6LXHA']\n",
      "A2NSMJVQY0RV9S ['B007FGYZFI', 'B007YX9O94', 'B00908A8PK', 'B0090BSSZO', 'B00DMJI9TA']\n",
      "A33CNFK776MTWR ['B007FL7GGS', 'B008ALA6DW', 'B008ALAHA4', 'B008Y8E25Y', 'B00931DHKM']\n",
      "A3NXJDNTQK2YJL ['B007FPIP6Y', 'B00829TIA4', 'B0082E9K7U', 'B0088CJT4U', 'B0092MD8OW']\n",
      "A13EQE9EY2ET93 ['B007FPIQ0E', 'B0088CJT4U', 'B008I21EA2', 'B008R39DZK', 'B009OZUPUC']\n",
      "A303SNZ4AR7TDQ ['B007FPIQ0E', 'B007OCJWTM', 'B007PN1KEK', 'B007Q7EG7I', 'B007RQ0MDA']\n",
      "A3CKI6VEH0HBMJ ['B007FPIQ3Q', 'B00829THVO', 'B009EFY1BG', 'B009LQJ7XA', 'B00AU0HMGA']\n",
      "A2VH0UT5EQFB6P ['B007FPIQ72', 'B007H3L24Q', 'B007X3VC7W', 'B008X1BVH4', 'B009NUK6S4']\n",
      "A14NA0W8ESGDSI ['B007FPIQ72', 'B0080AO68E', 'B00832NCWU', 'B0088CJT4U', 'B008DWCRQW']\n",
      "A2IXK5LB4Y0NYV ['B007G51UV0', 'B007PA1K84', 'B007RONVRQ', 'B007WTAJTO', 'B00834SJ8K']\n",
      "A2VC48WIMY6L6E ['B007G5NNOW', 'B007V7S8G8', 'B008AJLPYS', 'B008EQYRRY', 'B008XGS9G0']\n",
      "A1MFVAHTT2BHM0 ['B007GFYHPG', 'B007WTAJTO', 'B0081HGDGE', 'B00889O754', 'B008KVUAGU']\n",
      "AGR1V15L6FLMA ['B007GFYHPG', 'B007M50PTM', 'B007TYUUPK', 'B007WTAJTO', 'B0082PZ1JU']\n",
      "A23ZXHFLC6TBLD ['B007GJ4GFS', 'B007WTAJTO', 'B007ZWLRSU', 'B0096I0VXI', 'B009D79VH4']\n",
      "A1CYTBE7LLUQ8F ['B007GMPZ9Q', 'B00931DHKM']\n",
      "A3MFORLOKIOEQY ['B007GNN0AG', 'B007TSERQO', 'B007WO4KNA', 'B007X3VC7W', 'B007Y4TTWK']\n",
      "A319Y83RT0MRVR ['B007GR44PM', 'B007ZW7YEQ', 'B008DWCRQW', 'B008X9Z7N0', 'B008X9ZBVI']\n",
      "A1CPRP3VFJRS1R ['B007GR44PM', 'B007ILFFS6', 'B007NSR0AK', 'B007PTCFFW', 'B007PZYBTY']\n",
      "AFXTKAO0CB354 ['B007HIIB4K', 'B007SLDF7O', 'B0083Y1YVE', 'B0087X71ZO', 'B008FC8DFY']\n",
      "A3ER6ARJ23CIN8 ['B007HISGRW', 'B007RHT3VG', 'B0087EBXKC', 'B008G2GBN4', 'B008GVM9K4']\n",
      "A1VOFY3QFT9WCG ['B007HKLOTC', 'B007NZGPAY', 'B007Q87KP2', 'B007Q8JGWM', 'B007UQZD9K']\n",
      "A3GFQHHVMEAIO ['B007HQR710', 'B009MPBFNU', 'B00EXGNJTQ', 'B00H7PBWNU']\n",
      "ANRS196NKFVUU ['B007HRAXGA', 'B007WAWHLQ', 'B007ZF3DJS', 'B00810ICRO', 'B008EKON56']\n",
      "A2RTVGR9B1M600 ['B007HRHOZI', 'B007K9WEFI', 'B008L2QAXK', 'B008TU954A', 'B00CBEKK3A']\n",
      "A3HCMJOGRRSAF2 ['B007HSKOZ4']\n",
      "A3FFZQKCA7UOYY ['B007HSKSMI', 'B0082PRPIA', 'B008UGPBXM', 'B009A4D52W', 'B009B0RK3K']\n",
      "A1J87SYB3JPQWH ['B007HYVMY0', 'B009B86B6Y', 'B009HU6RI8']\n",
      "A1IDAKX7OM3QIE ['B007HZLOJC', 'B00829TIEK', 'B0083XTPH0', 'B0089BVEUC', 'B008LCYIEI']\n",
      "A87N6UTYA6NOB ['B007I5JT4S', 'B00829THK0', 'B00899WQ6U', 'B009HQCAPQ', 'B009SYZ8OC']\n",
      "ACYZXQ2JKPZKT ['B007I5JT4S', 'B007N6K3AG', 'B007QIXSVM', 'B007XOQI4S', 'B007Y00996']\n",
      "APOGXH3A74CM3 ['B007I5JT4S', 'B007X3VECU', 'B007XDFO9O', 'B00829TIA4', 'B00829TIEK']\n",
      "A178M2AHNWQZB0 ['B007I5JT4S', 'B007IRBNRW', 'B007IV7KRU', 'B007OZ05SG', 'B008LTBITY']\n",
      "A1F0KPA232MTYC ['B007I5JT4S', 'B007WNOHY8', 'B00829TIEK', 'B008CBQSKU', 'B008I64LEY']\n",
      "A1WF4QNIE2Z3I7 ['B007I9BKD2', 'B007LTH1X2', 'B007Q45EF4', 'B007R1FH3K', 'B007TG91WQ']\n",
      "AFM2J3HJNPIHV ['B007IFVSDI', 'B007WTAJTO', 'B0084JFM34', 'B008DWYBZM', 'B008RVJJZG']\n",
      "A2Y4H3PXB07WQI ['B007IGLSLO', 'B007PJ4PKK', 'B009FUF6DM', 'B00B195OPK', 'B00CD8ADKO']\n",
      "A2NQMVTQ4PVLL ['B007IIT8KU', 'B007WTAJTO', 'B007XPSVMY', 'B007YWMCA8', 'B007ZIBURC']\n",
      "A2XRIU3SOYZ0ZC ['B007IJ7T4G', 'B00829TIEK', 'B0088CJT4U', 'B008DWCRQW', 'B008HO9DIG']\n",
      "A1KKE6VX8VPWZK ['B007IJ7T4G', 'B007ZZ6OW6', 'B0081FLFQE', 'B00829TIA4', 'B00829TIEK']\n",
      "A3KZ7OH4VRL048 ['B007IJ7T4G', 'B007Y4BL1C', 'B0081FLFQE', 'B00829THK0', 'B008BDBPTS']\n",
      "A8X8D4BUY5DFU ['B007IK53W0', 'B007K1DDOW', 'B007VUF1HY', 'B00822T0AO', 'B0089Y566W']\n",
      "AHS6PX6H22WW1 ['B007ILBJAY', 'B007RFW1NA', 'B008EQZ25K', 'B008P8ES5M', 'B0096T7TQE']\n",
      "A2J96FILPQA01 ['B007ILEHSA', 'B007ZZE63A', 'B0088CJT4U', 'B008C1JC4O', 'B008EQZ25K']\n",
      "A26SO3TOT2TLJE ['B007ILFFS6', 'B007Q8GOGI', 'B007R5YDYA', 'B007X3VC9A', 'B00829THVO']\n",
      "A1BJOHHLG0D965 ['B007ILFFS6', 'B007PXV310', 'B007T08XA8', 'B00829THK0', 'B00834SJNA']\n",
      "A3AZI828WJN1CD ['B007ILK234', 'B0082E9K7U', 'B00834SJSK', 'B0083RYG1Q', 'B0085YTCYS']\n",
      "A3P1508PZ0UADD ['B007IV7KRU', 'B007P1X90A', 'B0089KJSKQ', 'B008FL1FI2', 'B009GX34V4']\n",
      "A28J3123I1QDKI ['B007IV7KRU', 'B0080XGJPY', 'B0081KP9PW', 'B00BWF5U0M', 'B00D1W5MM0']\n",
      "AM0QLU79O05JR ['B007IW4X3I', 'B007KPIMXK', 'B007UOIOV6', 'B00834SJNA', 'B0085VB8GQ']\n",
      "AVJORH3ACR2A5 ['B007IXB1EQ', 'B007SHJIP6', 'B00834SJNA', 'B0083J8D90', 'B008CBUW02']\n",
      "A2MR696ZU17F12 ['B007IXY472', 'B007KB3VIU', 'B00829TIA4', 'B008OQV1CS', 'B00BS92DCA']\n",
      "ARC5ASW9CUAGP ['B007J7JP6W', 'B007WTAJTO', 'B007XZJ3BW', 'B0087NZ31S', 'B0089LR7ZS']\n",
      "A2XIOXRRYX0KZY ['B007JAQBZW', 'B007P4VOWC', 'B007ULT422', 'B007X3VC7W', 'B00834SJNA']\n",
      "A2A4X545ERLS7H ['B007JBN6AO', 'B007PL9L70', 'B007PNAQ9A', 'B007WTAJTO', 'B0088LYCZC']\n",
      "AMRMK86X3PKXD ['B007JCNOHI', 'B007KZQM8W', 'B007VL8Y2C', 'B0085YTDM4', 'B0096T7TQE']\n",
      "AWSK1ZAEU1KFL ['B007JMW0DC', 'B007V9ZNBY', 'B007VA05HU', 'B007WTAJTO', 'B008JJLW4M']\n",
      "A27Y4OEC9MD9PA ['B007JNWH8Y', 'B0092ZMXBS']\n",
      "A3CMO216CWOF5N ['B007JPOX8O', 'B00ESUOMFW']\n",
      "A2L4W1M5YU5QX3 ['B007JPVT8G', 'B007L5NKZO', 'B007O9J54M', 'B007Q45EF4', 'B007Y8DJ22']\n",
      "A3O1FVLUD9X1XC ['B007JZK0UE', 'B0080I06WQ', 'B008HK4ZAG']\n",
      "A100WO06OQR8BQ ['B007K3SB6K', 'B007KZQM9G', 'B007KZQMO6', 'B0088CJT4U', 'B0089VKNHM']\n",
      "A2SATO5BNKWY3Y ['B007K7ZXCQ', 'B00CAK6G7O']\n",
      "A24J2Y1O22JYZX ['B007K9P7H0', 'B007P4VOWC', 'B008L1OCF4', 'B00AEMGGU2', 'B00BIP816Q']\n",
      "A1WUQF5HWBAQJU ['B007KB0EGC', 'B007OY5V68', 'B007PJ4PKK', 'B007R7DTRK', 'B0082E9K7U']\n",
      "A1Z3598J0371ND ['B007KFLV9W', 'B007VOLM3C', 'B008CCCMTK', 'B008EO263I', 'B008R6OPJQ']\n",
      "A3G007LQX6KGOD ['B007KFLV9W', 'B007ZZ6OW6', 'B00829THK0', 'B00834SJSK', 'B0085RUZFA']\n",
      "A27TN8D0CZ8LUY ['B007KI7BOI', 'B007WRBO6I', 'B00865YE4O', 'B00889ST2G', 'B009JZ04A8']\n",
      "A11P105WVK5240 ['B007KPIMXK', 'B007NKGA5Y', 'B00879U4O8', 'B009MSGEHO', 'B00COF7DGS']\n",
      "A2FXBWR4T4OFQ ['B007KTQU26', 'B007L6NYAO', 'B0093F4ROI', 'B009C98NPY', 'B009H0XQQY']\n",
      "A1X2LENOF84LCQ ['B007KXBUHW', 'B00829THEG', 'B00884WH74', 'B00998P5M2', 'B009BKSETY']\n",
      "ANTN61S4L7WG9 ['B007KXBUHW', 'B007X3VEBG', 'B007ZW43IQ', 'B007ZZ6OW6', 'B00829TIEK']\n",
      "A4GGT6O0GQNV2 ['B007KXI2R8', 'B007Q45EF4', 'B007R5YDYA', 'B009EEGVY2', 'B009LL9VDG']\n",
      "A3QRW0UJPKIAX7 ['B007KZQM8W', 'B00884WH74', 'B0088CJT4U', 'B008H9BXMK', 'B008HK3WK0']\n",
      "A3A15L96IYUO6V ['B007KZQM8W', 'B007ZW43IQ', 'B00829THEG', 'B008FQKKB0', 'B008RVJJZG']\n",
      "A28RSMADFCBJDT ['B007KZQM8W', 'B007WVA2PI', 'B008S94NTE', 'B009OBCAW2', 'B009OZUPUC']\n",
      "A1S27P7KJO9I96 ['B007KZQM9G', 'B00829TIEK', 'B0089L4TL8', 'B008O2HVIK', 'B0094CX5M0']\n",
      "A2XA8CW5DF4MNZ ['B007L5NKZO', 'B0088CJT4U', 'B008DWCRQW', 'B008OQV1CS', 'B008X9Z528']\n",
      "A1PL7QILVQV3IF ['B007L5NKZO', 'B007M4M3NO', 'B00829THK0', 'B00829THO6', 'B00BPBETVE']\n",
      "A1S7BFT0HDF3HA ['B007LLYAB6', 'B007P4VOWC', 'B007XCRPQA', 'B00834SJSK', 'B008H9BXMK']\n",
      "A1QOK9LU90ACF7 ['B007LLYB4M', 'B007M52EXM', 'B00829TIEK', 'B0085YTDBA', 'B0088CJT4U']\n",
      "A1ZM846Y7AUYD ['B007M4Z60Q', 'B008H9BXMK']\n",
      "A3D5B2CBFNJB0K ['B007M4Z60Q', 'B007PTCFFW', 'B00834SJSK', 'B0084JFLTY', 'B008E3DHF0']\n",
      "A23NSKTMSPPBTR ['B007M4Z60Q', 'B007RIFKUI', 'B007WTV092', 'B00829THK0', 'B00834SJSK']\n",
      "A3KNGMX2RVQG91 ['B007M50PTM', 'B007RMAS1K', 'B007YKUWN4', 'B0083FEU78', 'B008GN0OWM']\n",
      "A2CPP7BZKOF9TP ['B007M7RP6Q', 'B00825QQQC', 'B008LURQ76', 'B008MI79HO', 'B008NMCPTQ']\n",
      "A1AZQCVCDBQP6 ['B007M8SGJA', 'B007PLL4CK', 'B007SSH3J8', 'B007UMQUPA', 'B00858CYCQ']\n",
      "A2LXX47A0KMJVX ['B007MDQIH2', 'B00834SJNA', 'B00834SJSK', 'B0096239G0', 'B009JP461G']\n",
      "AAEVGE52KL0DJ ['B007MW73C2', 'B007WTAJTO', 'B008AF383S', 'B008FQNE9A', 'B008R5SFT8']\n",
      "A95PWI4S6WHGL ['B007MYDWKW', 'B007WTAJTO', 'B0082PZ1JU', 'B008OB228A', 'B0091F8EZ8']\n",
      "A3F7USIDJBR8WU ['B007MYDWKW', 'B00824948U', 'B00834SJNA', 'B0084ZYDZ6', 'B0085DZRDE']\n",
      "A2ZR3YTMEEIIZ4 ['B007ND7XKW']\n",
      "A1G5MI2KREPEIB ['B007NJ3SIM', 'B007PE3FC4', 'B00855HE3S', 'B008JGR9MO', 'B00999B6EM']\n",
      "A3D6OI36USYOU1 ['B007NSOS96', 'B007PODQTQ', 'B007XKAF4Q', 'B00871PHES', 'B0089YHNHW']\n",
      "A1ZXMMQPYC3Z9I ['B007O5HL4M', 'B008S7BWGS', 'B009VQ9TSS', 'B00A35WYBA', 'B00GRGU358']\n",
      "A2NYOY6H42SORF ['B007OCJWTM', 'B007P71IM0', 'B007S9Q04G', 'B008AK5C4G', 'B008MAZHW6']\n",
      "A35C2IVVQR1HTK ['B007OI6VQI', 'B007WTAJTO', 'B00803N2AY', 'B0096TOLKQ', 'B009PK9S90']\n",
      "AJEOFP6ZWY0MK ['B007P4VOWC', 'B007WTAJTO', 'B007YUISN0', 'B0085DHPZ2', 'B0089ZV1WY']\n",
      "A3HC7NWLKCPX4X ['B007P709YI', 'B007SZ0EHE', 'B0083B6HEQ', 'B0088PUEPK', 'B008IYCQSO']\n",
      "A2T689YVOAYGGD ['B007P8HV2K', 'B007QI2K3E', 'B008RVJJZG', 'B009C3M7H0', 'B00BQ5UO1S']\n",
      "A21Q9JVG4SII51 ['B007PA1K84', 'B0087B6SV4', 'B008A3KFB8', 'B008RK9V46', 'B0093Y317S']\n",
      "A1H98YV5K5BUX0 ['B007PCOY3K', 'B00E581U1Q']\n",
      "A3SX5MZTCZRQLF ['B007PJ4P4G', 'B007ZT4N5C', 'B0085YTDBA', 'B0088CJT4U', 'B009APBY0G']\n",
      "A2X8KN82L07RSK ['B007PJ4P4G', 'B00871F9E6', 'B0088CJT4U', 'B008OEHV6U', 'B008UC69J6']\n",
      "AQ55H30MZSV0Q ['B007PJ4P4G', 'B007R5YGO2', 'B008ISKDL2', 'B009P2S4G6', 'B009XGH2HG']\n",
      "A3JU16JTNLVK1J ['B007PJ4PKK', 'B008YCWV2G', 'B00AANQLRI', 'B00B8P8IVO', 'B00BEWF4R2']\n",
      "A57Q87B0TC9IJ ['B007PJ4PLO', 'B007ZZ6OW6', 'B008Y1KK6Q', 'B00BHSTWRQ', 'B00CYX54C0']\n",
      "A32LX4XJ2LU740 ['B007PJ4Q4A', 'B007PRHNHO', 'B0088LYCZC', 'B008N7CCJY', 'B008TLQ5RY']\n",
      "A2RS66Y79Q8X0W ['B007PJ4Q4A', 'B0096J0WRW', 'B009X2OS72', 'B009YWN926', 'B00AWKC0JM']\n",
      "A2H4OMJLE7JFM2 ['B007PNAQ9A', 'B007T28JK0', 'B0081F2Z40', 'B0097252UK', 'B00AWX6EYQ']\n",
      "A2SPV96SGOEO2 ['B007PPYXOC', 'B007Q8GOGI', 'B007X3VEUW', 'B00834SJSK', 'B008EQYRRY']\n",
      "A35IX2GE0VC0JP ['B007PRHNHO', 'B00884WH74', 'B0088CJT4U', 'B009HQCARY', 'B009PK95RA']\n",
      "A28525P0S5ZVJ3 ['B007PTCFFW', 'B007R21JY0', 'B007RIFMQA', 'B008MQ6OUY', 'B009PJ3AZ4']\n",
      "A2ALRZ0ENQLYY5 ['B007PU2X6C', 'B00AAIPT76', 'B00F3KWZW8', 'B00GA7TX4Q', 'B00HQAUZLQ']\n",
      "A3V6Z4RCDGRC44 ['B007PY3ZPG', 'B00829THEG', 'B00829TIA4', 'B0088CJT4U', 'B00AXX0LQW']\n",
      "A2L0F2T1DLTNT8 ['B007PZYBTY', 'B0081FLFQE', 'B00829TIEK', 'B0084Z0YJU', 'B008HY8XTG']\n",
      "ATNOI7E8GTIVE ['B007PZYBTY', 'B007YUISN0', 'B008GPYVAG', 'B00A9NE84C', 'B00B728M5K']\n",
      "A7EJERNB7IK3Z ['B007Q2M17K', 'B007SNMTSI', 'B008CS5T76', 'B0090SLJ1C', 'B009JBZFVK']\n",
      "A2NU9H8H5MJZSL ['B007Q2M17K', 'B00904JILO', 'B00B25P27S', 'B00CPZJ5EK']\n",
      "A3QDY9I0CNMD2W ['B007Q5JMQA', 'B0084ZY3QK']\n",
      "A3J3ZHGDUDPCFL ['B007Q8GOGI', 'B007ZW7YEQ', 'B00829TIA4', 'B00829TIEK', 'B0088CJT4U']\n",
      "A3D1TZH619NKHN ['B007Q8GOHM', 'B00829THVO', 'B00834SJSK', 'B0084Y9V54', 'B00882OHL0']\n",
      "A1FMU4CJLIDHR9 ['B007QIXSVM', 'B007ZFTSP6', 'B009M3UT16', 'B009SYZ8OC', 'B00B17C5KO']\n",
      "ACH055GTTIGC9 ['B007QOX5A0', 'B00FDUHD2K']\n",
      "A3J6Q0Y0SKY7AR ['B007R0XF4Y', 'B007V9SNNY', 'B009SYZ8OC']\n",
      "A2THQCHKR89E16 ['B007R5YDYA', 'B008681XSG', 'B008I646WG', 'B00906E7PO', 'B00A3MY7L8']\n",
      "A1VS1LL905P5L5 ['B007R5YDYA', 'B008E37QNY', 'B008JGWY2Y', 'B009BV4V4K', 'B009FUF6DM']\n",
      "AIBRTGBN07D6A ['B007R5YDYA', 'B007TK2E7Q', 'B0088CJT4U', 'B008I21EA2', 'B009X00E18']\n",
      "A1SX9PHJWTDMF9 ['B007R67FNA', 'B009L7ER4I', 'B00ASQJTXU', 'B00I3E1ENW']\n",
      "A54S9CIUV5VNB ['B007R6HTTA', 'B007WTAJTO', 'B00840353W', 'B008I5RR6E', 'B008I646WG']\n",
      "ANFJYYQ0P35CW ['B007R9M6PO', 'B007WTAJTO', 'B0088CJT4U', 'B008BH5D6K', 'B008BLTMFY']\n",
      "A20WUUD9EDWY4N ['B007R9M6PO', 'B007RIFJPY', 'B007RIWW3G', 'B007U1X28Y', 'B007VGGIB6']\n",
      "A2BCDZO1XQLDH ['B007R9M6PO', 'B009AR2MFK', 'B00BVUQZZ2', 'B00CO089XO', 'B00DDK1QUC']\n",
      "A2CWUM49ZWMGEY ['B007RB0J9M', 'B007YJIGPQ', 'B007YWMCA8', 'B0081SRIFS', 'B008B4QIV2']\n",
      "A3QAO3QBCQF89T ['B007RB1O0K', 'B007YXA5S8', 'B007YXA5SI', 'B0081FLFQE', 'B008C1JC4O']\n",
      "A3QKIR8J56EUI1 ['B007RDAV02', 'B0096W1OCG', 'B009S2CWX4', 'B009W4E4S4', 'B009WCZQTM']\n",
      "A5MCDQ60DWUEV ['B007RESFHM', 'B0081KKE4I', 'B00894YP00', 'B008CS5T76', 'B008EQYRRY']\n",
      "A2AC6GQ24S45GA ['B007RFW1NA', 'B00829THK0', 'B00884WH74', 'B0088CJT4U', 'B008U3038I']\n",
      "A33ZYFE8XMKKR1 ['B007RFW1NA', 'B007RONVRQ', 'B00834SJNA', 'B008EQYRRY', 'B0097BEDOC']\n",
      "A196JN53PG0C7R ['B007RHWU6Q', 'B008JJLW4M', 'B00BW6LW7G']\n",
      "A9BWUH9XKZ2DQ ['B007RLN6Q0', 'B007WTAJTO', 'B00825R4C2', 'B00872X9O2', 'B008RJD0YO']\n",
      "A2EMUM49CE0JV4 ['B007S9Q04G', 'B007SZ0EJW', 'B00A9NE84C', 'B00GSQ4DBM']\n",
      "A141OPVE376YFI ['B007SIC6EA']\n",
      "A1D27BCSYV7VWH ['B007SVHFXO', 'B008E4EVS6', 'B008S15XA0', 'B00965J7HM', 'B00AQM8586']\n",
      "A2PC9ZZIFV31B1 ['B007TG125U', 'B007W02PRM', 'B007WTAJTO', 'B0081TN2DY', 'B0087NZ31S']\n",
      "A377LPVLLAI42D ['B007TLCM2C']\n",
      "A2CIQEY05SPHTZ ['B007ULT422', 'B007Y4TTWU', 'B00829THVO', 'B00884WH74', 'B0088CJT4U']\n",
      "AN0JK8OQLUC55 ['B007US83IG', 'B00AQUMZRA']\n",
      "A4GHPW9AAH1NY ['B007VGGFZU', 'B008195P34', 'B0083Z2BOW', 'B0088TIZZC', 'B008V4TFDK']\n",
      "A1Y4EWMUTW73GD ['B007VJ5JNQ', 'B0080UVPEW', 'B00889ST2G', 'B00BFQHGWI']\n",
      "A21S26XYPGXJZX ['B007W0XHK6', 'B00829TIA4', 'B008OMOEO4', 'B008ULPCB8', 'B00AQRUW4Q']\n",
      "A34LQ791ACZ0JC ['B007WLQ8PQ', 'B00896V7ZE']\n",
      "A1VLE2SH9J8WYS ['B007WTAJTO', 'B008OHNZI0', 'B009ECALKY', 'B009L7E838', 'B00CPV9YOU']\n",
      "AUCISQA1YXX86 ['B007WTAJTO', 'B009D1UWUA']\n",
      "A3AGQAXTX6VRJ3 ['B007WTAJTO', 'B0084ZY8WO', 'B00B588HY2', 'B00DN493VW', 'B00G8QVXEC']\n",
      "A1RPJHUVVSI98A ['B007WTAJTO', 'B00829TIEK', 'B0095PTKRA', 'B009CN8VNY', 'B009UEAZ84']\n",
      "A1WJ3P43SZUNDM ['B007WTAJTO', 'B0087FFJZG', 'B008HK4ZCO', 'B009K1PY4W', 'B00ALK3HF4']\n",
      "A2DKQQIZ793AV5 ['B007WTAJTO', 'B0082471N0', 'B009ES68P0', 'B009NE7B06', 'B009QV15DU']\n",
      "A2JWF9IG8PJAOA ['B007WTAJTO', 'B007XCVFV6', 'B00813KIAA', 'B008RJZQSW', 'B009S8QP90']\n",
      "A2NVQZ4Y7Y0J1R ['B007WTU7CI', 'B0093GIME8', 'B009NUK6S4', 'B009YT6PPC', 'B00A81ICCE']\n",
      "A19RGDJPNZ7NZ ['B007X26SLI', 'B0080H7UZS', 'B00825BZUY', 'B008N8GENI', 'B008OQV1CS']\n",
      "A141R97FHSSUQ0 ['B007X3VECU', 'B008DWCRQW', 'B008EWNVI4', 'B008KEPX1O', 'B008OPSWHQ']\n",
      "A2HJY7418G1KV1 ['B007XJGZLE', 'B0087QK9TG', 'B0093HGD2K', 'B00AEI9O96', 'B00AUOX9J0']\n",
      "A38QEATH3NODFM ['B007XOQI4S', 'B0083ZGEBI', 'B00CO8KXX0', 'B00H4WDVTY', 'B00IGUUYTI']\n",
      "A24ARANWS5E3T8 ['B007YWMCA8', 'B008IPXOWU', 'B008T17W9O', 'B0095GTZTW', 'B00A3YN0Z0']\n",
      "AOJA1LC8PN7K1 ['B007ZW7YJQ', 'B0084C38ZA', 'B00884WH74', 'B008DWCRQW', 'B008RK9V46']\n",
      "A1FOSIV4TWZFR7 ['B00800VI0S', 'B0080BK4I4', 'B008CG5OGO', 'B008MI8N10', 'B008R79VMQ']\n",
      "A3J029KBNG5MNP ['B0080AO68E', 'B00829THK0', 'B00829TIEK', 'B00832NCWU', 'B008O2HWTI']\n",
      "A1VLVWTLV3LVHR ['B0080K2KUK', 'B009IKCKME', 'B009NE5YC8', 'B00FCK2O6Q', 'B00I0GR112']\n",
      "A2HXE29CU1I24Y ['B0080M3PCU', 'B008RW6RGE', 'B00AX9ZA80', 'B00B09EGPK', 'B00EPPZNYY']\n",
      "A2X61KKXXR6WNP ['B0081FLFQE', 'B00834SJSK', 'B0089E5R0W', 'B008BDBPTS', 'B008YDTRZ4']\n",
      "A11EXFO14WEJM1 ['B0081FLFQE', 'B00829THK0', 'B00834SJNA', 'B00857DO62', 'B0085H662G']\n",
      "A3DQWFWINN3V5A ['B0081H8TRA', 'B008O515CK', 'B00AA5YVKU', 'B00COF7DGS', 'B00EXPNFQO']\n",
      "AHNHLGKIZ2N3B ['B0081H8TRA', 'B0088CJT4U', 'B008HK3Y5S', 'B008K6GMF8', 'B008ULPE70']\n",
      "A3QD59N3M7O7KB ['B0081H8TRA', 'B008M11XO6', 'B008THTWIW', 'B008V9RW58', 'B00934CQ56']\n",
      "A3SVYWA9O1KUQV ['B0081OY8B4', 'B008O2HVIK', 'B009JP461G', 'B00B6OX77C', 'B00DQZOD8Q']\n",
      "A1UQUDT2Q0YENM ['B0081OY95E', 'B00825BZUY', 'B0088PUEPK', 'B008HK3YEE', 'B008X9Z528']\n",
      "AKT8TGIT6VVZ5 ['B0081ZDVI4', 'B008EQ1ZAG', 'B009A68TMQ', 'B009LTUB14', 'B009OYYK2W']\n",
      "A1DO9LRCO23EOM ['B00822SXFC', 'B008M11XPA', 'B0096J0WRW', 'B009Z7KMUM', 'B00AW48DS0']\n",
      "A341HCMGNZCBIT ['B00825BZUY', 'B00847TOLC', 'B008JGR9MO', 'B008R7EVE4', 'B00AR95FOU']\n",
      "A16QODENBJVUI1 ['B00825BZUY', 'B00829THK0', 'B00829TIA4', 'B00829TIEK', 'B00834SJNA']\n",
      "A3JLOIXFM75QNV ['B00825BZUY', 'B00829TIEK', 'B008PWUWLC', 'B008X9Z528', 'B008X9Z7N0']\n",
      "AR1T36GLLAFFX ['B0082821YK', 'B008S2DC1Q', 'B00BOHOKOK', 'B00E055H5O']\n",
      "AELK0E5DK7LIZ ['B00829THK0', 'B008D97LNE', 'B008DWCRQW', 'B009VV56TY', 'B00ATZG9Q0']\n",
      "A2Y739CRM15WDL ['B00829THK0', 'B00834SJNA', 'B0088PPFP4', 'B008F537KC', 'B008PWUWLC']\n",
      "AULFLNWJP1QXY ['B00829THK0', 'B00834SJSK', 'B0088CJT4U', 'B008EQ1ZAG', 'B008LCYIHK']\n",
      "A2TVJ0YDW3QO63 ['B00829THVO', 'B00829TIEK', 'B00858I4F2', 'B00858I51U', 'B0093HMKVI']\n",
      "A16RI68PS6T5CA ['B00829THVO', 'B0082D563I', 'B008H9BXMK', 'B0099SMFVQ', 'B009A6CZ30']\n",
      "A2F4HP0J5VNOYR ['B00829TIA4', 'B00889ST2G']\n",
      "A1522TN5FVJL0Y ['B00829TIA4', 'B00834SJSK']\n",
      "A145B8OHVNNFAJ ['B00829TIA4', 'B0082E9K7U', 'B00846Z4YY', 'B009A68TMQ', 'B009KPMPRW']\n",
      "A2ZRMCRLDSUX6R ['B00829TIA4', 'B008BDBPT8', 'B009YT6PPC', 'B00HNGB1YS', 'B00I3YKEKG']\n",
      "A379DLIAF0MFM5 ['B00829TIEK', 'B00834SJNA', 'B008AE4ZE0', 'B008DWCRQW', 'B008GVNP2K']\n",
      "A209G57KXCBF4C ['B00829TIEK', 'B00832NCWU', 'B008LCYIHK', 'B0092MD8OW', 'B0093H4VSS']\n",
      "A3MV1KKHX51FYT ['B0082BVF44', 'B009AGTVPU']\n",
      "AYCAIHABPYWVJ ['B0082JVGSG', 'B008YKV5RA', 'B0092JBV8A', 'B00A2BVBTG', 'B00G9N5XJU']\n",
      "A1T7EHCMZ92TKC ['B00834SJNA', 'B008CS5T76', 'B008MJ0524', 'B008PQAFR4', 'B009CQNPYQ']\n",
      "A1Z7U9K6X3FEOU ['B00834SJNA', 'B00845RYXE', 'B0099XGZXA', 'B009B3R2QW', 'B009RJ1JTG']\n",
      "A1LHMSY3Q46PJS ['B00834SJSK', 'B0086UXQIE', 'B008Y8PON8', 'B009I9N1V4', 'B009T9YUZE']\n",
      "A250AXLRBVYKB4 ['B00834SJSK', 'B0088CJT4U', 'B008RK9V46', 'B008ULPAT2', 'B009VV56TY']\n",
      "A3D2VIUT2HWP0Z ['B00834SJSK', 'B0084Y9V54', 'B008O2HW8O', 'B008O2HWCU', 'B0096239G0']\n",
      "A2OT3PDH1AWLTG ['B0083EZE4M', 'B00AWKBZ16', 'B00BFRKYVM', 'B00BHC7ZTE']\n",
      "A2RGA7UGAN3UL7 ['B0083J8D90', 'B008I646WG', 'B008JJLW4M', 'B008XW05Y8', 'B00B332A24']\n",
      "A1QJ10LEINDRWW ['B00844N5OC', 'B00AWVB4R0', 'B00BMYQTYE', 'B00CMRTVFE', 'B00D62VZBW']\n",
      "A3MQAQT8C6D1I7 ['B0084JFM34', 'B008I21EA2', 'B008RW9SYM', 'B008ULPE70', 'B0096239FG']\n",
      "A3QQGPI3CTV9SX ['B00858A3NS', 'B0093H4VBU', 'B00F4I2A4W', 'B00HJVY2LQ']\n",
      "A3Q1J68QY1MZQ9 ['B0085H662G', 'B008MWBY6W', 'B009QV72VY', 'B00A81ICCE', 'B00B7Y7PQU']\n",
      "A1EKSETIBS9ETQ ['B0085RO8U8', 'B008DILBJA', 'B008OMQY24', 'B0099XGZXA', 'B0099Y1QM4']\n",
      "A1VVRA3P6G1TWH ['B0085TBFNO', 'B00C0Y6BQG']\n",
      "A21NS06GDEA3V0 ['B0085V61HW', 'B0088PUEPK', 'B008AJNF78', 'B008O4ZBPS', 'B008O51DJK']\n",
      "A1U11IP6K6NHAK ['B0086I58IW', 'B0098O6JSQ', 'B009CQOXTC', 'B009XGNILK', 'B00AE09HFA']\n",
      "A1PEXTGNF36I1Q ['B0086PTOI0', 'B008DBI5RI', 'B008FJJ66C', 'B008GVM9K4', 'B008P9124Q']\n",
      "A3D01HLSUFEZQY ['B0086TS43W', 'B00A77C2LG', 'B00C0KOSIS']\n",
      "AGATRDOFW48DK ['B0086UXT9K', 'B009IUIV4A', 'B00A61RY3O', 'B00B46XUQU', 'B00BCGMHC0']\n",
      "AL9WKVMRI6GFB ['B00871F9E6', 'B00882OHL0', 'B008M11XO6', 'B008RW6R9Q', 'B0097CZHAU']\n",
      "A1L64KDYO5BOJA ['B0087NZ31S', 'B008YCNPLM', 'B00A3DIX0I', 'B00CDWALXE', 'B00D49VYRM']\n",
      "A2SNE4QQGVP13U ['B00883DU08', 'B008MTZF10', 'B008MUDIAO', 'B008VFL6L8', 'B0093H8GQG']\n",
      "A22R9L5DAVYYWR ['B0088CJT4U', 'B009F1DYF8', 'B009O412AU', 'B00FW5B3ZO', 'B00GAKX34E']\n",
      "AQ3IN3MRXQ5KH ['B0088CJT4U', 'B009WZRBPQ', 'B009X00E18', 'B009X0167Y', 'B00BF9I0JI']\n",
      "ANEXFROORI6F6 ['B0088CJT4U', 'B009SEN4Q6', 'B00BCGRTFK', 'B00D68UXQE', 'B00DKTVM3M']\n",
      "A3EHJ5519LG7TR ['B0088KIR0O', 'B008AST7R6', 'B008OEHPKM', 'B008OEHPPM', 'B008OHNZI0']\n",
      "AZOK5STV85FBJ ['B0088LXTTM', 'B0092YMZJY', 'B009TL1YMY', 'B00A85ANCW', 'B00AANMVNQ']\n",
      "AROQO2VDODT7 ['B0089ECRSC', 'B00BP45UDW', 'B00HE6PU7Q']\n",
      "A2GKMXRLI7KLFP ['B0089WLYII', 'B008DVMRXG', 'B009P742X0']\n",
      "A3P69DTOXII004 ['B0089WLYQ0', 'B00BBLUN9A', 'B00CM1AANW', 'B00CRGJG00', 'B00CRXZPA8']\n",
      "AHD3NZHDUZ5I6 ['B008A3KFB8', 'B00B588HY2']\n",
      "ASRA2UZ3JV87B ['B008ALA6DW', 'B008RXYOKY', 'B009HQCAPQ', 'B00C98139S', 'B00E3ALGVA']\n",
      "A1H55L0BLPCWYF ['B008ATLJGC', 'B008VGCT9K', 'B0093H8JCM', 'B009JDTWVC', 'B009SQQF9C']\n",
      "A3NCIN6TNL0MGA ['B008B3U5MQ', 'B00ET7PG5E']\n",
      "A27H61OHW44XA7 ['B008B6UA8M', 'B008CS5T76', 'B00AM7JV42']\n",
      "A2DS9DLMSU2M2Z ['B008CS9M9C', 'B008LO3DEW', 'B008MPB9YQ', 'B00CMJ1I08', 'B00CR6DXEA']\n",
      "A1X3DA7C61WZLQ ['B008D2POAS', 'B00CFNCQ7A', 'B00CM1AANW', 'B00EEKSVAS']\n",
      "A324X7RVDAV3FT ['B008D4X97Q', 'B00AI5V3CQ']\n",
      "A37IRE9GZ0CZ7I ['B008GGB342', 'B008I662U0', 'B008OEHPPM', 'B008OEHV6U', 'B008ULPCB8']\n",
      "A2RG1B0K8YBJ4A ['B008HMETBE', 'B008LR35VK', 'B008XUFJIM', 'B00969J3EU', 'B0097BEFYA']\n",
      "A2X78O6G89CB30 ['B008I0RC00', 'B0090BSSZO', 'B0096PVLL2', 'B00BN4HOLK', 'B00CQ93A82']\n",
      "A2K5RRMPICZ606 ['B008MB70TI', 'B009W34X1I', 'B00B1YZSOC', 'B00CRFK24K', 'B00DJ83070']\n",
      "A2LTYEYGKBYXRR ['B008OHNZI0', 'B008XV7VTG', 'B008YRG5JQ', 'B0092HWU2I', 'B0097BEFWC']\n",
      "A29GWIJL72GXXZ ['B008S6FKNU', 'B00COYOAYW', 'B00DR0PDNE', 'B00E0EYIV4']\n",
      "A105TOJ6LTVMBG ['B008UW35MA', 'B0092MHSPM']\n",
      "AWPN47SSWK1JV ['B00902SFC4', 'B009LL9VDG', 'B009O412AU', 'B00AR95FP4', 'B00BJ8C02I']\n",
      "A335QXPTV1RIV1 ['B00904KS0Y', 'B009Z4RGFY']\n",
      "AGXV8E7XK9J6H ['B0093GIME8', 'B009AR2MQO', 'B00BWHILCY']\n",
      "A2WXURU33RBGQS ['B0094S8V3M', 'B00B4GGW5Q', 'B00E055H5O', 'B00E1HIVG8', 'B00FEE7B1I']\n",
      "A3NGOG8Z78AZSD ['B0096YOQRY', 'B009LL9VDG', 'B00BW0QC72', 'B00FFZD51Q', 'B00FLZ2F5W']\n",
      "A1OO9N1MRNQ7K0 ['B0097BEFYA']\n",
      "A328GLDSDNFYII ['B0097BZLTI', 'B009SM8I00', 'B00AXX0IC4', 'B00DMWV3EU']\n",
      "A1OES7R7FDAT2L ['B009A6PJKQ']\n",
      "A3EPJSPH03AS29 ['B009F7IBZK', 'B00AEGFFM8', 'B00CF5OHZ2', 'B00E9646MY', 'B00E98O7GC']\n",
      "A2XAKGRUHIE2ZA ['B009FUF6DM', 'B00BGGDVOO', 'B00CCIKJDG', 'B00CIRLJPI', 'B00D3F7D7M']\n",
      "A2U3OEIK1CUPIK ['B009IZ82DA', 'B009SK57HY', 'B00B7RAHSA', 'B00BN5DD3C', 'B00ERAZVKI']\n",
      "A1NAA1R38JSNHV ['B009XERIF4', 'B00BCPIFC2', 'B00BJ95LFK', 'B00BKWABY2']\n",
      "A233TZONT1OGR0 ['B00B1V2FA0', 'B00B1WRFV8', 'B00B29FY5O', 'B00DVQFECE']\n",
      "A1NNMOD9H36Q8E ['B00BJW3KUK', 'B00EZ2FRP2']\n",
      "AXU8RH1DEV21H ['B00BQ4F9ZA', 'B00CI8MT9W']\n",
      "A2JRDFIGWTX50J ['B00CTQ5HG0']\n",
      "A34JKODTSKCGEN ['B00CTY84KI', 'B00GN1Y43E']\n",
      "APQQK1V695AUE ['B00D1QRPHG', 'B00ESUOMFW']\n",
      "AVTJEWTCJ3PBE ['B00DR0RBV6', 'B00GL1I1JY', 'B00GX6F78K']\n",
      "A291XTI6NO7DEG ['B00JMC9CLK']\n"
     ]
    }
   ],
   "source": [
    "for uid, user_ratings in top_n.items():\n",
    "    print(uid, [iid for (iid, _) in user_ratings])"
   ]
  },
  {
   "cell_type": "markdown",
   "metadata": {
    "id": "uvJxIsr9vejH"
   },
   "source": [
    "### Final Conclusion"
   ]
  },
  {
   "cell_type": "markdown",
   "metadata": {
    "id": "XtHRvjlOvjhL"
   },
   "source": [
    "\n",
    "\n",
    "*   Popularity based recommender systems are primitive and not intelligent i.e they just sort the trending items based on popularity and hence, suggest them to the buyers with an assumption that the customer could buy the item.\n",
    "*   Often popularity based recommender systems recommend irrelavant items to the buyers without taking into consideration their habits, likings and history.\n",
    "\n",
    "\n",
    "*   In order to overcome these shortcomings with the popularity based systems we used collaborative filtering model which follows ML approach to suggest relevant products to the customers based on their distinct characteristics.\n",
    "*   We used KNN with means and its test RMSE score turned out to be 1.06 with the threshold of 50 neighbours which is definitely not a good score when compared with SVD with gridsearch which reduced the RMSE to 0.94.\n",
    "\n",
    "\n",
    "\n",
    "\n",
    "\n"
   ]
  }
 ],
 "metadata": {
  "accelerator": "GPU",
  "colab": {
   "collapsed_sections": [
    "2gHcOuqPwu5W"
   ],
   "name": "Electronics Product Recommendation System.ipynb",
   "provenance": [],
   "toc_visible": true
  },
  "kernelspec": {
   "display_name": "Python 3",
   "language": "python",
   "name": "python3"
  },
  "language_info": {
   "codemirror_mode": {
    "name": "ipython",
    "version": 3
   },
   "file_extension": ".py",
   "mimetype": "text/x-python",
   "name": "python",
   "nbconvert_exporter": "python",
   "pygments_lexer": "ipython3",
   "version": "3.6.5"
  }
 },
 "nbformat": 4,
 "nbformat_minor": 1
}
